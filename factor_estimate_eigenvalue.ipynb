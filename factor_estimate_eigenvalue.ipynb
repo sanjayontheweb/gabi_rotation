{
 "cells": [
  {
   "cell_type": "code",
   "execution_count": 2,
   "metadata": {},
   "outputs": [],
   "source": [
    "#import packages\n",
    "import numpy as np\n",
    "import json\n",
    "import scanpy as sc\n",
    "from collections import OrderedDict\n",
    "import scipy\n",
    "import pandas as pd\n",
    "import matplotlib.pyplot as plt\n",
    "\n",
    "#spectra imports\n",
    "import Spectra as spc\n",
    "from Spectra import Spectra_util as spc_tl\n",
    "from Spectra import K_est as kst\n",
    "from Spectra import default_gene_sets"
   ]
  },
  {
   "cell_type": "code",
   "execution_count": 4,
   "metadata": {},
   "outputs": [],
   "source": [
    "skin_data = sc.read_h5ad('/krummellab/data1/DSCoLab/AUTOIPI/papers/skin/data/DB3_54/harmony/sobj_01-13-25.h5ad')\n",
    "\n",
    "mapping_df = pd.read_csv('~/gabi_rotation/skin_immune_mapping.csv')\n",
    "spectra_mapping = dict(zip(mapping_df['cell_id'], mapping_df['spectra_annot']))\n",
    "\n",
    "skin_data.obs['spectra_annotation'] = skin_data.obs.index.map(spectra_mapping)\n",
    "\n",
    "skin_data.obs['combined_annotation'] = skin_data.obs['spectra_annotation'].fillna(skin_data.obs['cluster_label'])\n",
    "\n",
    "skin_cats = set(skin_data.obs['combined_annotation'])"
   ]
  },
  {
   "cell_type": "code",
   "execution_count": 6,
   "metadata": {},
   "outputs": [],
   "source": [
    "n_variable_genes = 3000\n",
    "\n",
    "most_var_genes = set(skin_data.var['vst.variance'].sort_values(ascending=False)[:n_variable_genes].index)\n",
    "skin_data.var['highly_variable'] = skin_data.var.index.isin(most_var_genes)"
   ]
  },
  {
   "cell_type": "code",
   "execution_count": null,
   "metadata": {},
   "outputs": [
    {
     "name": "stdout",
     "output_type": "stream",
     "text": [
      "Step 1; estimating best fit null distribution... \n",
      "Minimization gap...  5.9\n",
      "Minimization gap...  3.933333333333333\n"
     ]
    }
   ],
   "source": [
    "L = kst.estimate_L(skin_data, attribute='combined_annotation', highly_variable=True)"
   ]
  },
  {
   "cell_type": "code",
   "execution_count": null,
   "metadata": {},
   "outputs": [],
   "source": []
  }
 ],
 "metadata": {
  "kernelspec": {
   "display_name": "spectra_kernel",
   "language": "python",
   "name": "spectra_kernel"
  }
 },
 "nbformat": 4,
 "nbformat_minor": 2
}
