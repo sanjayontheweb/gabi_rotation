{
  "cells": [
    {
      "cell_type": "markdown",
      "metadata": {
        "id": "dIDa0AVEoLAL"
      },
      "source": [
        "# install packages"
      ]
    },
    {
      "cell_type": "markdown",
      "metadata": {
        "id": "UNHjEK_9oLAM"
      },
      "source": [
        "## install Spectra from pypi"
      ]
    },
    {
      "cell_type": "code",
      "execution_count": null,
      "metadata": {
        "id": "p7r0Q-x5oLAM",
        "outputId": "d2e461a8-1a1c-4880-9526-8d26986f9946",
        "colab": {
          "base_uri": "https://localhost:8080/"
        }
      },
      "outputs": [
        {
          "output_type": "stream",
          "name": "stdout",
          "text": [
            "Collecting scSpectra\n",
            "  Downloading scspectra-0.2.1-py3-none-any.whl.metadata (1.2 kB)\n",
            "Collecting numpy<3.0.0,>=2.0.0 (from scSpectra)\n",
            "  Downloading numpy-2.2.1-cp310-cp310-manylinux_2_17_x86_64.manylinux2014_x86_64.whl.metadata (62 kB)\n",
            "\u001b[2K     \u001b[90m━━━━━━━━━━━━━━━━━━━━━━━━━━━━━━━━━━━━━━━━\u001b[0m \u001b[32m62.0/62.0 kB\u001b[0m \u001b[31m2.7 MB/s\u001b[0m eta \u001b[36m0:00:00\u001b[0m\n",
            "\u001b[?25hRequirement already satisfied: opt-einsum<4.0.0,>=3.3.0 in /usr/local/lib/python3.10/dist-packages (from scSpectra) (3.4.0)\n",
            "Requirement already satisfied: pandas<3.0.0,>=2.0.0 in /usr/local/lib/python3.10/dist-packages (from scSpectra) (2.2.2)\n",
            "Collecting pyvis<0.2.0,>=0.1.9 (from scSpectra)\n",
            "  Downloading pyvis-0.1.9-py3-none-any.whl.metadata (384 bytes)\n",
            "Collecting scanpy<2.0.0,>=1.8.2 (from scSpectra)\n",
            "  Downloading scanpy-1.10.4-py3-none-any.whl.metadata (9.3 kB)\n",
            "Requirement already satisfied: scipy<2.0.0,>=1.7.3 in /usr/local/lib/python3.10/dist-packages (from scSpectra) (1.13.1)\n",
            "Requirement already satisfied: torch<3.0.0,>=2.0.0 in /usr/local/lib/python3.10/dist-packages (from scSpectra) (2.5.1+cu121)\n",
            "Requirement already satisfied: tqdm<5.0.0,>=4.62.3 in /usr/local/lib/python3.10/dist-packages (from scSpectra) (4.67.1)\n",
            "Requirement already satisfied: python-dateutil>=2.8.2 in /usr/local/lib/python3.10/dist-packages (from pandas<3.0.0,>=2.0.0->scSpectra) (2.8.2)\n",
            "Requirement already satisfied: pytz>=2020.1 in /usr/local/lib/python3.10/dist-packages (from pandas<3.0.0,>=2.0.0->scSpectra) (2024.2)\n",
            "Requirement already satisfied: tzdata>=2022.7 in /usr/local/lib/python3.10/dist-packages (from pandas<3.0.0,>=2.0.0->scSpectra) (2024.2)\n",
            "Requirement already satisfied: jinja2>=2.9.6 in /usr/local/lib/python3.10/dist-packages (from pyvis<0.2.0,>=0.1.9->scSpectra) (3.1.5)\n",
            "Requirement already satisfied: networkx>=1.11 in /usr/local/lib/python3.10/dist-packages (from pyvis<0.2.0,>=0.1.9->scSpectra) (3.4.2)\n",
            "Requirement already satisfied: ipython>=5.3.0 in /usr/local/lib/python3.10/dist-packages (from pyvis<0.2.0,>=0.1.9->scSpectra) (7.34.0)\n",
            "Requirement already satisfied: jsonpickle>=1.4.1 in /usr/local/lib/python3.10/dist-packages (from pyvis<0.2.0,>=0.1.9->scSpectra) (4.0.1)\n",
            "Collecting anndata>=0.8 (from scanpy<2.0.0,>=1.8.2->scSpectra)\n",
            "  Downloading anndata-0.11.2-py3-none-any.whl.metadata (8.2 kB)\n",
            "Requirement already satisfied: h5py>=3.6 in /usr/local/lib/python3.10/dist-packages (from scanpy<2.0.0,>=1.8.2->scSpectra) (3.12.1)\n",
            "Requirement already satisfied: joblib in /usr/local/lib/python3.10/dist-packages (from scanpy<2.0.0,>=1.8.2->scSpectra) (1.4.2)\n",
            "Collecting legacy-api-wrap>=1.4 (from scanpy<2.0.0,>=1.8.2->scSpectra)\n",
            "  Downloading legacy_api_wrap-1.4.1-py3-none-any.whl.metadata (2.1 kB)\n",
            "Requirement already satisfied: matplotlib>=3.6 in /usr/local/lib/python3.10/dist-packages (from scanpy<2.0.0,>=1.8.2->scSpectra) (3.10.0)\n",
            "Requirement already satisfied: natsort in /usr/local/lib/python3.10/dist-packages (from scanpy<2.0.0,>=1.8.2->scSpectra) (8.4.0)\n",
            "Requirement already satisfied: numba>=0.56 in /usr/local/lib/python3.10/dist-packages (from scanpy<2.0.0,>=1.8.2->scSpectra) (0.60.0)\n",
            "Requirement already satisfied: packaging>=21.3 in /usr/local/lib/python3.10/dist-packages (from scanpy<2.0.0,>=1.8.2->scSpectra) (24.2)\n",
            "Requirement already satisfied: patsy!=1.0.0 in /usr/local/lib/python3.10/dist-packages (from scanpy<2.0.0,>=1.8.2->scSpectra) (1.0.1)\n",
            "Collecting pynndescent>=0.5 (from scanpy<2.0.0,>=1.8.2->scSpectra)\n",
            "  Downloading pynndescent-0.5.13-py3-none-any.whl.metadata (6.8 kB)\n",
            "Requirement already satisfied: scikit-learn>=1.1 in /usr/local/lib/python3.10/dist-packages (from scanpy<2.0.0,>=1.8.2->scSpectra) (1.6.0)\n",
            "Requirement already satisfied: seaborn>=0.13 in /usr/local/lib/python3.10/dist-packages (from scanpy<2.0.0,>=1.8.2->scSpectra) (0.13.2)\n",
            "Collecting session-info (from scanpy<2.0.0,>=1.8.2->scSpectra)\n",
            "  Downloading session_info-1.0.0.tar.gz (24 kB)\n",
            "  Preparing metadata (setup.py) ... \u001b[?25l\u001b[?25hdone\n",
            "Requirement already satisfied: statsmodels>=0.13 in /usr/local/lib/python3.10/dist-packages (from scanpy<2.0.0,>=1.8.2->scSpectra) (0.14.4)\n",
            "Collecting umap-learn!=0.5.0,>=0.5 (from scanpy<2.0.0,>=1.8.2->scSpectra)\n",
            "  Downloading umap_learn-0.5.7-py3-none-any.whl.metadata (21 kB)\n",
            "Requirement already satisfied: filelock in /usr/local/lib/python3.10/dist-packages (from torch<3.0.0,>=2.0.0->scSpectra) (3.16.1)\n",
            "Requirement already satisfied: typing-extensions>=4.8.0 in /usr/local/lib/python3.10/dist-packages (from torch<3.0.0,>=2.0.0->scSpectra) (4.12.2)\n",
            "Requirement already satisfied: fsspec in /usr/local/lib/python3.10/dist-packages (from torch<3.0.0,>=2.0.0->scSpectra) (2024.10.0)\n",
            "Requirement already satisfied: sympy==1.13.1 in /usr/local/lib/python3.10/dist-packages (from torch<3.0.0,>=2.0.0->scSpectra) (1.13.1)\n",
            "Requirement already satisfied: mpmath<1.4,>=1.1.0 in /usr/local/lib/python3.10/dist-packages (from sympy==1.13.1->torch<3.0.0,>=2.0.0->scSpectra) (1.3.0)\n",
            "Collecting array-api-compat!=1.5,>1.4 (from anndata>=0.8->scanpy<2.0.0,>=1.8.2->scSpectra)\n",
            "  Downloading array_api_compat-1.10.0-py3-none-any.whl.metadata (1.6 kB)\n",
            "Requirement already satisfied: exceptiongroup in /usr/local/lib/python3.10/dist-packages (from anndata>=0.8->scanpy<2.0.0,>=1.8.2->scSpectra) (1.2.2)\n",
            "Requirement already satisfied: setuptools>=18.5 in /usr/local/lib/python3.10/dist-packages (from ipython>=5.3.0->pyvis<0.2.0,>=0.1.9->scSpectra) (75.1.0)\n",
            "Collecting jedi>=0.16 (from ipython>=5.3.0->pyvis<0.2.0,>=0.1.9->scSpectra)\n",
            "  Downloading jedi-0.19.2-py2.py3-none-any.whl.metadata (22 kB)\n",
            "Requirement already satisfied: decorator in /usr/local/lib/python3.10/dist-packages (from ipython>=5.3.0->pyvis<0.2.0,>=0.1.9->scSpectra) (4.4.2)\n",
            "Requirement already satisfied: pickleshare in /usr/local/lib/python3.10/dist-packages (from ipython>=5.3.0->pyvis<0.2.0,>=0.1.9->scSpectra) (0.7.5)\n",
            "Requirement already satisfied: traitlets>=4.2 in /usr/local/lib/python3.10/dist-packages (from ipython>=5.3.0->pyvis<0.2.0,>=0.1.9->scSpectra) (5.7.1)\n",
            "Requirement already satisfied: prompt-toolkit!=3.0.0,!=3.0.1,<3.1.0,>=2.0.0 in /usr/local/lib/python3.10/dist-packages (from ipython>=5.3.0->pyvis<0.2.0,>=0.1.9->scSpectra) (3.0.48)\n",
            "Requirement already satisfied: pygments in /usr/local/lib/python3.10/dist-packages (from ipython>=5.3.0->pyvis<0.2.0,>=0.1.9->scSpectra) (2.18.0)\n",
            "Requirement already satisfied: backcall in /usr/local/lib/python3.10/dist-packages (from ipython>=5.3.0->pyvis<0.2.0,>=0.1.9->scSpectra) (0.2.0)\n",
            "Requirement already satisfied: matplotlib-inline in /usr/local/lib/python3.10/dist-packages (from ipython>=5.3.0->pyvis<0.2.0,>=0.1.9->scSpectra) (0.1.7)\n",
            "Requirement already satisfied: pexpect>4.3 in /usr/local/lib/python3.10/dist-packages (from ipython>=5.3.0->pyvis<0.2.0,>=0.1.9->scSpectra) (4.9.0)\n",
            "Requirement already satisfied: MarkupSafe>=2.0 in /usr/local/lib/python3.10/dist-packages (from jinja2>=2.9.6->pyvis<0.2.0,>=0.1.9->scSpectra) (3.0.2)\n",
            "Requirement already satisfied: contourpy>=1.0.1 in /usr/local/lib/python3.10/dist-packages (from matplotlib>=3.6->scanpy<2.0.0,>=1.8.2->scSpectra) (1.3.1)\n",
            "Requirement already satisfied: cycler>=0.10 in /usr/local/lib/python3.10/dist-packages (from matplotlib>=3.6->scanpy<2.0.0,>=1.8.2->scSpectra) (0.12.1)\n",
            "Requirement already satisfied: fonttools>=4.22.0 in /usr/local/lib/python3.10/dist-packages (from matplotlib>=3.6->scanpy<2.0.0,>=1.8.2->scSpectra) (4.55.3)\n",
            "Requirement already satisfied: kiwisolver>=1.3.1 in /usr/local/lib/python3.10/dist-packages (from matplotlib>=3.6->scanpy<2.0.0,>=1.8.2->scSpectra) (1.4.8)\n",
            "Requirement already satisfied: pillow>=8 in /usr/local/lib/python3.10/dist-packages (from matplotlib>=3.6->scanpy<2.0.0,>=1.8.2->scSpectra) (11.1.0)\n",
            "Requirement already satisfied: pyparsing>=2.3.1 in /usr/local/lib/python3.10/dist-packages (from matplotlib>=3.6->scanpy<2.0.0,>=1.8.2->scSpectra) (3.2.1)\n",
            "Requirement already satisfied: llvmlite<0.44,>=0.43.0dev0 in /usr/local/lib/python3.10/dist-packages (from numba>=0.56->scanpy<2.0.0,>=1.8.2->scSpectra) (0.43.0)\n",
            "Collecting numpy<3.0.0,>=2.0.0 (from scSpectra)\n",
            "  Downloading numpy-2.0.2-cp310-cp310-manylinux_2_17_x86_64.manylinux2014_x86_64.whl.metadata (60 kB)\n",
            "\u001b[2K     \u001b[90m━━━━━━━━━━━━━━━━━━━━━━━━━━━━━━━━━━━━━━━━\u001b[0m \u001b[32m60.9/60.9 kB\u001b[0m \u001b[31m6.0 MB/s\u001b[0m eta \u001b[36m0:00:00\u001b[0m\n",
            "\u001b[?25hRequirement already satisfied: six>=1.5 in /usr/local/lib/python3.10/dist-packages (from python-dateutil>=2.8.2->pandas<3.0.0,>=2.0.0->scSpectra) (1.17.0)\n",
            "Requirement already satisfied: threadpoolctl>=3.1.0 in /usr/local/lib/python3.10/dist-packages (from scikit-learn>=1.1->scanpy<2.0.0,>=1.8.2->scSpectra) (3.5.0)\n",
            "Collecting stdlib_list (from session-info->scanpy<2.0.0,>=1.8.2->scSpectra)\n",
            "  Downloading stdlib_list-0.11.0-py3-none-any.whl.metadata (3.3 kB)\n",
            "Requirement already satisfied: parso<0.9.0,>=0.8.4 in /usr/local/lib/python3.10/dist-packages (from jedi>=0.16->ipython>=5.3.0->pyvis<0.2.0,>=0.1.9->scSpectra) (0.8.4)\n",
            "Requirement already satisfied: ptyprocess>=0.5 in /usr/local/lib/python3.10/dist-packages (from pexpect>4.3->ipython>=5.3.0->pyvis<0.2.0,>=0.1.9->scSpectra) (0.7.0)\n",
            "Requirement already satisfied: wcwidth in /usr/local/lib/python3.10/dist-packages (from prompt-toolkit!=3.0.0,!=3.0.1,<3.1.0,>=2.0.0->ipython>=5.3.0->pyvis<0.2.0,>=0.1.9->scSpectra) (0.2.13)\n",
            "Downloading scspectra-0.2.1-py3-none-any.whl (2.2 MB)\n",
            "\u001b[2K   \u001b[90m━━━━━━━━━━━━━━━━━━━━━━━━━━━━━━━━━━━━━━━━\u001b[0m \u001b[32m2.2/2.2 MB\u001b[0m \u001b[31m19.7 MB/s\u001b[0m eta \u001b[36m0:00:00\u001b[0m\n",
            "\u001b[?25hDownloading pyvis-0.1.9-py3-none-any.whl (23 kB)\n",
            "Downloading scanpy-1.10.4-py3-none-any.whl (2.1 MB)\n",
            "\u001b[2K   \u001b[90m━━━━━━━━━━━━━━━━━━━━━━━━━━━━━━━━━━━━━━━━\u001b[0m \u001b[32m2.1/2.1 MB\u001b[0m \u001b[31m83.0 MB/s\u001b[0m eta \u001b[36m0:00:00\u001b[0m\n",
            "\u001b[?25hDownloading anndata-0.11.2-py3-none-any.whl (142 kB)\n",
            "\u001b[2K   \u001b[90m━━━━━━━━━━━━━━━━━━━━━━━━━━━━━━━━━━━━━━━━\u001b[0m \u001b[32m143.0/143.0 kB\u001b[0m \u001b[31m14.2 MB/s\u001b[0m eta \u001b[36m0:00:00\u001b[0m\n",
            "\u001b[?25hDownloading legacy_api_wrap-1.4.1-py3-none-any.whl (10.0 kB)\n",
            "Downloading numpy-2.0.2-cp310-cp310-manylinux_2_17_x86_64.manylinux2014_x86_64.whl (19.5 MB)\n",
            "\u001b[2K   \u001b[90m━━━━━━━━━━━━━━━━━━━━━━━━━━━━━━━━━━━━━━━━\u001b[0m \u001b[32m19.5/19.5 MB\u001b[0m \u001b[31m97.1 MB/s\u001b[0m eta \u001b[36m0:00:00\u001b[0m\n",
            "\u001b[?25hDownloading pynndescent-0.5.13-py3-none-any.whl (56 kB)\n",
            "\u001b[2K   \u001b[90m━━━━━━━━━━━━━━━━━━━━━━━━━━━━━━━━━━━━━━━━\u001b[0m \u001b[32m56.9/56.9 kB\u001b[0m \u001b[31m5.3 MB/s\u001b[0m eta \u001b[36m0:00:00\u001b[0m\n",
            "\u001b[?25hDownloading umap_learn-0.5.7-py3-none-any.whl (88 kB)\n",
            "\u001b[2K   \u001b[90m━━━━━━━━━━━━━━━━━━━━━━━━━━━━━━━━━━━━━━━━\u001b[0m \u001b[32m88.8/88.8 kB\u001b[0m \u001b[31m7.4 MB/s\u001b[0m eta \u001b[36m0:00:00\u001b[0m\n",
            "\u001b[?25hDownloading array_api_compat-1.10.0-py3-none-any.whl (50 kB)\n",
            "\u001b[2K   \u001b[90m━━━━━━━━━━━━━━━━━━━━━━━━━━━━━━━━━━━━━━━━\u001b[0m \u001b[32m50.4/50.4 kB\u001b[0m \u001b[31m4.5 MB/s\u001b[0m eta \u001b[36m0:00:00\u001b[0m\n",
            "\u001b[?25hDownloading jedi-0.19.2-py2.py3-none-any.whl (1.6 MB)\n",
            "\u001b[2K   \u001b[90m━━━━━━━━━━━━━━━━━━━━━━━━━━━━━━━━━━━━━━━━\u001b[0m \u001b[32m1.6/1.6 MB\u001b[0m \u001b[31m66.2 MB/s\u001b[0m eta \u001b[36m0:00:00\u001b[0m\n",
            "\u001b[?25hDownloading stdlib_list-0.11.0-py3-none-any.whl (83 kB)\n",
            "\u001b[2K   \u001b[90m━━━━━━━━━━━━━━━━━━━━━━━━━━━━━━━━━━━━━━━━\u001b[0m \u001b[32m83.6/83.6 kB\u001b[0m \u001b[31m7.1 MB/s\u001b[0m eta \u001b[36m0:00:00\u001b[0m\n",
            "\u001b[?25hBuilding wheels for collected packages: session-info\n",
            "  Building wheel for session-info (setup.py) ... \u001b[?25l\u001b[?25hdone\n",
            "  Created wheel for session-info: filename=session_info-1.0.0-py3-none-any.whl size=8023 sha256=d54b55d689ee8d442234d52761a7c70490b20642ee8e470c6125840ec35c6616\n",
            "  Stored in directory: /root/.cache/pip/wheels/6a/aa/b9/eb5d4031476ec10802795b97ccf937b9bd998d68a9b268765a\n",
            "Successfully built session-info\n",
            "Installing collected packages: stdlib_list, numpy, legacy-api-wrap, jedi, array-api-compat, session-info, pyvis, anndata, pynndescent, umap-learn, scanpy, scSpectra\n",
            "  Attempting uninstall: numpy\n",
            "    Found existing installation: numpy 1.26.4\n",
            "    Uninstalling numpy-1.26.4:\n",
            "      Successfully uninstalled numpy-1.26.4\n",
            "\u001b[31mERROR: pip's dependency resolver does not currently take into account all the packages that are installed. This behaviour is the source of the following dependency conflicts.\n",
            "cupy-cuda12x 12.2.0 requires numpy<1.27,>=1.20, but you have numpy 2.0.2 which is incompatible.\n",
            "gensim 4.3.3 requires numpy<2.0,>=1.18.5, but you have numpy 2.0.2 which is incompatible.\n",
            "langchain 0.3.14 requires numpy<2,>=1.22.4; python_version < \"3.12\", but you have numpy 2.0.2 which is incompatible.\n",
            "pytensor 2.26.4 requires numpy<2,>=1.17.0, but you have numpy 2.0.2 which is incompatible.\n",
            "tensorflow 2.17.1 requires numpy<2.0.0,>=1.23.5; python_version <= \"3.11\", but you have numpy 2.0.2 which is incompatible.\n",
            "thinc 8.2.5 requires numpy<2.0.0,>=1.19.0; python_version >= \"3.9\", but you have numpy 2.0.2 which is incompatible.\u001b[0m\u001b[31m\n",
            "\u001b[0mSuccessfully installed anndata-0.11.2 array-api-compat-1.10.0 jedi-0.19.2 legacy-api-wrap-1.4.1 numpy-2.0.2 pynndescent-0.5.13 pyvis-0.1.9 scSpectra-0.2.1 scanpy-1.10.4 session-info-1.0.0 stdlib_list-0.11.0 umap-learn-0.5.7\n"
          ]
        }
      ],
      "source": [
        "%pip install scSpectra"
      ]
    },
    {
      "cell_type": "markdown",
      "metadata": {
        "id": "su1a9Ls0oLAN"
      },
      "source": [
        "## or install Spectra from source"
      ]
    },
    {
      "cell_type": "code",
      "execution_count": null,
      "metadata": {
        "id": "Li73K-5loLAN"
      },
      "outputs": [],
      "source": [
        "!git clone https://github.com/dpeerlab/spectra"
      ]
    },
    {
      "cell_type": "code",
      "execution_count": null,
      "metadata": {
        "id": "cqWy7nCqoLAN"
      },
      "outputs": [],
      "source": [
        "!ls"
      ]
    },
    {
      "cell_type": "code",
      "execution_count": null,
      "metadata": {
        "id": "ONYK5N3JoLAN"
      },
      "outputs": [],
      "source": [
        "%cd spectra"
      ]
    },
    {
      "cell_type": "code",
      "execution_count": null,
      "metadata": {
        "id": "7QoBlc7MoLAN"
      },
      "outputs": [],
      "source": [
        "!pip install matplotlib==3.8.0"
      ]
    },
    {
      "cell_type": "code",
      "execution_count": null,
      "metadata": {
        "id": "E7V3s6QOoLAN"
      },
      "outputs": [],
      "source": [
        "%pip install -U matplotlib==3.8.0"
      ]
    },
    {
      "cell_type": "markdown",
      "metadata": {
        "id": "VqikYiGIoLAN"
      },
      "source": [
        "# import relevant packages"
      ]
    },
    {
      "cell_type": "code",
      "execution_count": null,
      "metadata": {
        "id": "WEf_XV5Vxf-I"
      },
      "outputs": [],
      "source": [
        "#import packages\n",
        "import numpy as np\n",
        "import json\n",
        "import scanpy as sc\n",
        "from collections import OrderedDict\n",
        "import scipy\n",
        "import pandas as pd\n",
        "import matplotlib.pyplot as plt\n",
        "\n",
        "#spectra imports\n",
        "import Spectra as spc\n",
        "from Spectra import Spectra_util as spc_tl\n",
        "from Spectra import K_est as kst\n",
        "from Spectra import default_gene_sets\n"
      ]
    },
    {
      "cell_type": "markdown",
      "metadata": {
        "id": "v4vTEyL6sDR4"
      },
      "source": [
        "# Load gene_set_dictionary"
      ]
    },
    {
      "cell_type": "markdown",
      "metadata": {
        "id": "oqLbpf3qsFWF"
      },
      "source": [
        "**load a nested dictionary containing global and cell type specific gene sets in the following format:**\n",
        "\n",
        "Gene set annotation dictionary with the keys being the celltypes (str) and values being dictionaries with gene set names as keys (str) and gene sets as values (lists of gene names/IDs which matches the gene names/IDs in adata.var_names).\n",
        "\n",
        "For example:\n",
        "\n",
        "```\n",
        "gene_set_dictionary = {'celltype_1':{'gene_set_1':['gene_a', 'gene_b', 'gene_c'], 'gene_set_2':['gene_c','gene_a','gene_e','gene_f']},\n",
        "\n",
        "'celltype_2':{'gene_set_1':['gene_a', 'gene_b', 'gene_c'], 'gene_set_3':['gene_a', 'gene_e','gene_f','gene_d']},\n",
        "\n",
        "'celltype_3':{},\n",
        "\n",
        "'global':\"{'gene_set_4':['gene_m','gene_n']} #the global key must be supplied\n",
        "\n",
        "```\n",
        "\n",
        "**Note that one key in the dictionary must be 'global' with the corresponding value being a dictionary of gene sets which apply to all cells**\n",
        "\n",
        "Spectra will use this dictionary to align factors to the input gene sets. Gene sets which apply to only one cell type in the data should be included in the dictionary of that cell type. If a gene sets applies to all cell types in the data, the gene set should be included in the dictionary for 'global'. If a gene set applies to more than one cell type but not all cell types in the data there are two options 1) Include this gene set in each cell type dictionary which will likely result in a separate factor for this gene set in each cell type. OR 2) include this gene set in the 'global' dictionary which will likely result in one factor for this gene set in all cell types. We give additional guidance on the advantages and disadvantages of either approach in the Supplementary Methods of the Spectra paper: https://doi.org/10.1101/2022.12.20.521311"
      ]
    },
    {
      "cell_type": "markdown",
      "metadata": {
        "id": "mU-oUalzsO-P"
      },
      "source": [
        "**Load the default dictionary**\n",
        "We used this dictionary to generate the results in the paper: https://doi.org/10.1101/2022.12.20.521311"
      ]
    },
    {
      "cell_type": "code",
      "execution_count": null,
      "metadata": {
        "id": "X4QL5M0ax1rc",
        "outputId": "106fde0d-aa1b-48e2-b6d3-19e8b6c7e6f8",
        "colab": {
          "base_uri": "https://localhost:8080/"
        }
      },
      "outputs": [
        {
          "output_type": "execute_result",
          "data": {
            "text/plain": [
              "['HDAC2',\n",
              " 'LEF1',\n",
              " 'CUL1',\n",
              " 'TP53',\n",
              " 'GNAI1',\n",
              " 'DLL1',\n",
              " 'SKP2',\n",
              " 'AXIN1',\n",
              " 'KAT2A',\n",
              " 'CSNK1E',\n",
              " 'MAML1',\n",
              " 'FZD8',\n",
              " 'NOTCH1',\n",
              " 'MYC',\n",
              " 'RBPJ',\n",
              " 'JAG2',\n",
              " 'PTCH1',\n",
              " 'PPARD',\n",
              " 'HDAC5',\n",
              " 'AXIN2',\n",
              " 'NUMB',\n",
              " 'PSEN2',\n",
              " 'NKD1',\n",
              " 'WNT1',\n",
              " 'TCF7',\n",
              " 'FRAT1',\n",
              " 'HDAC11',\n",
              " 'ADAM17',\n",
              " 'CCND2',\n",
              " 'HEY1',\n",
              " 'NCSTN',\n",
              " 'JAG1',\n",
              " 'DVL2',\n",
              " 'NOTCH4',\n",
              " 'NCOR2',\n",
              " 'TPTEP2-CSNK1E',\n",
              " 'FZD1',\n",
              " 'CTNNB1',\n",
              " 'DKK4',\n",
              " 'HEY2',\n",
              " 'WNT6',\n",
              " 'DKK1',\n",
              " 'WNT5B']"
            ]
          },
          "metadata": {},
          "execution_count": 4
        }
      ],
      "source": [
        "# load the default gene set dictionary from the Spectra paper:\n",
        "annotations = spc.default_gene_sets.load()\n",
        "annotations[\"global\"][\"all_wnt-beta-catenin-signaling\"]"
      ]
    },
    {
      "cell_type": "markdown",
      "metadata": {
        "id": "MMXT036ZsanA"
      },
      "source": [
        "# Custom gene_set_dictionary"
      ]
    },
    {
      "cell_type": "markdown",
      "metadata": {
        "id": "k5IWVmNGsfH5"
      },
      "source": [
        "**Alternatively you can use Spectra with your custom gene set annotation dictionaries.**\n",
        "\n",
        "Cytopus Knowledge Base\n",
        "\n",
        "We supply the Cytopus knowledge base to construct custom input gene set dictionaries for Spectra. For a tutorial visit the github repository: https://github.com/wallet-maker/cytopus\n",
        "\n",
        "**External Databases**\n",
        "\n",
        "To obtain optimal results, we recommend using dedicated gene sets, like from the Cytopus database which are tailored to single cell RNA sequencing data (see Supplementary Methods for details https://doi.org/10.1101/2022.12.20.521311).\n",
        "\n",
        "However, Spectra can also use gene set annotation dictionaries from external databases if they can be provided in the format described above."
      ]
    },
    {
      "cell_type": "markdown",
      "metadata": {
        "id": "ktOGTojasldB"
      },
      "source": [
        "# Load adata"
      ]
    },
    {
      "cell_type": "markdown",
      "metadata": {
        "id": "0kHJZhUOsn2C"
      },
      "source": [
        "In the Spectra paper we use a subsetted, anonymized, log1p-transformed (f(x) = ln(x+1), with x being the raw gene expression counts), and scran-normalized leukocyte single cell RNA sequencing data (https://doi.org/10.1101/2022.12.20.521311). While we recommend scran for leukocyte data, the method with log1p-transformed median library size normalized RNA sequencing data."
      ]
    },
    {
      "cell_type": "code",
      "execution_count": null,
      "metadata": {
        "id": "75tKPam6yCoz"
      },
      "outputs": [],
      "source": [
        "# define data paths\n",
        "obs_key = 'cell_type_annotations' #indicat the column name for the dataframe in adata.obs where to find the cell type lab"
      ]
    },
    {
      "cell_type": "code",
      "execution_count": null,
      "metadata": {
        "id": "MznpLqaxoLAO",
        "outputId": "f780b825-b98b-4c37-f8e8-e84117094ec4",
        "colab": {
          "base_uri": "https://localhost:8080/"
        }
      },
      "outputs": [
        {
          "output_type": "stream",
          "name": "stdout",
          "text": [
            "Loaded sample data: (1000, 6397)\n"
          ]
        },
        {
          "output_type": "execute_result",
          "data": {
            "text/plain": [
              "AnnData object with n_obs × n_vars = 1000 × 6397\n",
              "    obs: 'cell_type_annotations'\n",
              "    var: 'n_cells_by_counts', 'highly_variable'\n",
              "    uns: 'annotation_SPADE_1_colors', 'cell_type_annotations_colors', 'diffmap_evals', 'draw_graph', 'hvg', 'neighbors', 'pca'\n",
              "    obsm: 'X_diffmap', 'X_draw_graph_fa', 'X_pca', 'X_tsne', 'X_umap'\n",
              "    varm: 'PCs'\n",
              "    obsp: 'connectivities', 'distances'"
            ]
          },
          "metadata": {},
          "execution_count": 6
        }
      ],
      "source": [
        "# load adata\n",
        "adata = spc.sample_data.load()\n",
        "adata"
      ]
    },
    {
      "cell_type": "code",
      "execution_count": null,
      "metadata": {
        "id": "ym_uHWLAoLAO"
      },
      "outputs": [],
      "source": [
        "# alternatively indicate where to find the AnnData object (and uncomment below)\n",
        "adata_path = '/content/spectra/data/sample_data.h5ad'\n",
        "# adata = sc.read_h5ad(adata_path)"
      ]
    },
    {
      "cell_type": "markdown",
      "metadata": {
        "id": "-oKda8X2sql-"
      },
      "source": [
        "**Important: The cell type labels have to match with the cell type labels in the gene set dictionary**"
      ]
    },
    {
      "cell_type": "code",
      "execution_count": null,
      "metadata": {
        "colab": {
          "base_uri": "https://localhost:8080/"
        },
        "id": "4FDWzBwXymHu",
        "outputId": "cca008ea-bf36-4edc-dcdd-c17250821d76"
      },
      "outputs": [
        {
          "output_type": "execute_result",
          "data": {
            "text/plain": [
              "['CD8_T',\n",
              " 'MDC',\n",
              " 'Treg',\n",
              " 'B_memory',\n",
              " 'B_GC',\n",
              " 'CD4_T',\n",
              " 'pDC',\n",
              " 'gdT',\n",
              " 'DC',\n",
              " 'plasma',\n",
              " 'B_naive',\n",
              " 'mast',\n",
              " 'ILC3',\n",
              " 'NK']"
            ]
          },
          "metadata": {},
          "execution_count": 8
        }
      ],
      "source": [
        "# cell type labels in adata\n",
        "list(set(adata.obs[obs_key]))"
      ]
    },
    {
      "cell_type": "code",
      "execution_count": null,
      "metadata": {
        "colab": {
          "base_uri": "https://localhost:8080/"
        },
        "id": "lH4on6YRynsN",
        "outputId": "2b5dcf0c-5b1f-49ea-c106-082061f1cce6"
      },
      "outputs": [
        {
          "output_type": "execute_result",
          "data": {
            "text/plain": [
              "['CD8_T',\n",
              " 'MDC',\n",
              " 'Treg',\n",
              " 'B_memory',\n",
              " 'B_GC',\n",
              " 'CD4_T',\n",
              " 'pDC',\n",
              " 'gdT',\n",
              " 'DC',\n",
              " 'global',\n",
              " 'B_naive',\n",
              " 'mast',\n",
              " 'plasma',\n",
              " 'ILC3',\n",
              " 'NK']"
            ]
          },
          "metadata": {},
          "execution_count": 9
        }
      ],
      "source": [
        "# cell type in gene set annotation dictionary\n",
        "list(set(annotations.keys()))"
      ]
    },
    {
      "cell_type": "markdown",
      "metadata": {
        "id": "bSKFHS3rs8ae"
      },
      "source": [
        "**if labels do not match adjust the labels either in adata or in annotations**"
      ]
    },
    {
      "cell_type": "markdown",
      "metadata": {
        "id": "D5EvurEfs2aL"
      },
      "source": [
        "For example define and map a dictionary mapping the annotations in the adata object to the keys in the gene set annotations dictionary or vice versa. **Note that if you have a cell type in your adata for which you do not have any gene sets in your gene set annotation dictionary you must include an empty dictionary under that cell type key.** Afterwards confirm that the matching has worked:"
      ]
    },
    {
      "cell_type": "code",
      "execution_count": null,
      "metadata": {
        "colab": {
          "base_uri": "https://localhost:8080/"
        },
        "id": "DNY50iPdyo_5",
        "outputId": "ebe03283-fe3d-4f5b-a026-501dc54d6967"
      },
      "outputs": [
        {
          "output_type": "stream",
          "name": "stdout",
          "text": [
            "Cell type labels in gene set annotation dictionary and AnnData object are identical\n",
            "Your gene set annotation dictionary is now correctly formatted.\n"
          ]
        }
      ],
      "source": [
        "#filter gene set annotation dict for genes contained in adata\n",
        "annotations = spc_tl.check_gene_set_dictionary(\n",
        "    adata,\n",
        "    annotations,\n",
        "    obs_key='cell_type_annotations',\n",
        "    global_key='global')"
      ]
    },
    {
      "cell_type": "markdown",
      "metadata": {
        "id": "u3-E0Hsstt2L"
      },
      "source": [
        "# Fit Spectra model"
      ]
    },
    {
      "cell_type": "markdown",
      "metadata": {
        "id": "q-G3dGLPtp8P"
      },
      "source": [
        "**General comments**\n",
        "\n",
        "We start by importing spectra. The easiest way to run spectra is to use the `est_spectra` function in the `spectra` module, as shown below. The default behavior is to set the number of factors equal to the number of gene sets plus one. However, this can be modified by passing an integer e.g. `L = 20` as an argument to the function or a dictionary that maps cell type to an integer per cell type. We provide a method for estimating the number of factors directly from the data by bulk eigenvalue matching analysis, which is detailed further below.\n",
        "\n",
        "**Computational comments**\n",
        "\n",
        "Spectra is memory and cpu intensive.\n",
        "\n",
        "The here-provided dataset can be run on most computers. For bigger datasets you want to run this in non-interactive mode, as runtime can be 1-2 days for a dataset of ca 200,000 cells with 250 factors and 10 cell types. Run time scales linearly with the number of cell types in your data.\n",
        "\n",
        "An example hardware you could run a 200,000 cell, 10 cell type, 250 factor dataset on would be:\n",
        "\n",
        "16 cpus Intel Xeon Gold 256 GB RAM\n",
        "\n",
        "**Parameters**\n",
        "\n",
        "`adata` : AnnData object containing cell_type_key with log count data stored in .X\n",
        "\n",
        "`gene_set_dictionary`:dict or OrderedDict() maps cell types to gene set names to gene sets ; if use_cell_types == False then maps gene set names to gene sets ; must contain \"global\" key in addition to every unique cell type under .obs.<cell_type_key>\n",
        "\n",
        "`L`: dict, OrderedDict(), int , NoneType number of factors per cell type ; if use_cell_types == False then int. Else dictionary. If None then match factors to number of gene sets (recommended)\n",
        "\n",
        "`use_highly_variable` : bool if True, then uses highly_variable_genes\n",
        "\n",
        "`cell_type_key`: str cell type key, must be under adata.obs.<cell_type_key> . If use_cell_types == False, this is ignored\n",
        "\n",
        "`use_weights`: bool if True, edge weights are estimated based on graph structure and used throughout training\n",
        "\n",
        "`lam`: float lambda parameter of the model. weighs relative contribution of graph and expression loss functions\n",
        "\n",
        "`delta`: float delta parameter of the model. lower bounds possible gene scaling factors so that maximum ratio of gene scalings cannot be too large\n",
        "\n",
        "`kappa`: float or None if None, estimate background rate of 1s in the graph from data\n",
        "\n",
        "`rho`: float or None if None, estimate background rate of 0s in the graph from data\n",
        "\n",
        "`use_cell_types` : bool if True then cell type label is used to fit cell type specific factors. If false then cell types are ignored\n",
        "\n",
        "`n_top_vals` : int number of top markers to return in markers dataframe\n",
        "\n",
        "`determinant_penalty` : float determinant penalty of the attention mechanism. If set higher than 0 then sparse solutions of the attention weights and diverse attention weights are encouraged. However, tuning is crucial as setting too high reduces the selection accuracy because convergence to a hard selection occurs early during training [todo: annealing strategy]\n",
        "\n",
        "`filter_sets` : bool whether to filter the gene sets based on coherence\n",
        "\n",
        "`label_factors` : bool whether to label the factors by their cell type specificity and their Szymkiewicz–Simpson overlap coefficient with the input marker genes\n",
        "\n",
        "`overlap_threshold`: float minimum overlap coefficient to assign an input gene set label to a factor\n",
        "\n",
        "``**kwargs`` : (num_epochs = 10000, lr_schedule = [...], verbose = False) arguments to .train(), maximum number of training epochs, learning rate schedule and whether to print changes in learning rate\n",
        "\n",
        "**Returns**: SPECTRA_Model object [after training]\n",
        "\n",
        "**In place**: adds 1. factors, 2. cell scores, 3. vocabulary, and 4. markers as attributes in .obsm, .var, .uns\n",
        "\n",
        "**default parameters:**\n",
        "\n",
        "```\n",
        "est_spectra(\n",
        "    adata,\n",
        "    gene_set_dictionary,\n",
        "    L = None,\n",
        "    use_highly_variable = True,\n",
        "    cell_type_key = None,\n",
        "    use_weights = True,\n",
        "    lam = 0.01,\n",
        "    delta=0.001,\n",
        "    kappa = None,\n",
        "    rho = 0.001,\n",
        "    use_cell_types = True,\n",
        "    n_top_vals = 50,\n",
        "    filter_sets = True,\n",
        "    label_factors=True,\n",
        "    overlap_threshold= 0.2,\n",
        "    **kwargs)\n",
        "```"
      ]
    },
    {
      "cell_type": "markdown",
      "metadata": {
        "id": "zKETp-2LtmAs"
      },
      "source": [
        "**fit model with cell type annotations**\n",
        "\n",
        "Running Spectra with the cell type annotations will give you both global and cell type specific factors."
      ]
    },
    {
      "cell_type": "code",
      "execution_count": null,
      "metadata": {
        "colab": {
          "base_uri": "https://localhost:8080/"
        },
        "id": "6XDuS4eoopXS",
        "outputId": "793e988b-1f22-48f6-86ab-bfdc2173f830"
      },
      "outputs": [
        {
          "output_type": "stream",
          "name": "stdout",
          "text": [
            "Cell type labels in gene set annotation dictionary and AnnData object are identical\n",
            "Your gene set annotation dictionary is now correctly formatted.\n"
          ]
        },
        {
          "output_type": "stream",
          "name": "stderr",
          "text": [
            "\r  0%|          | 0/1 [00:00<?, ?it/s]"
          ]
        }
      ],
      "source": [
        "# fit the model (We will run this with only 2 epochs to decrease runtime in this tutorial)\n",
        "model = spc.est_spectra(adata=adata,\n",
        "    gene_set_dictionary=annotations,\n",
        "    use_highly_variable=True,\n",
        "    cell_type_key=\"cell_type_annotations\",\n",
        "    use_weights=True,\n",
        "    lam=0.1, # varies depending on data and gene sets, try between 0.5 and 0.001\n",
        "    delta=0.001,\n",
        "    kappa=None,\n",
        "    rho=0.001,\n",
        "    use_cell_types=True,\n",
        "    n_top_vals=50,\n",
        "    label_factors=True,\n",
        "    overlap_threshold=0.2,\n",
        "    clean_gs = True,\n",
        "    min_gs_num = 3,\n",
        "    num_epochs=1 #here running only 2 epochs for time reasons, we recommend 10,000 epochs for most datasets\n",
        ")\n"
      ]
    },
    {
      "cell_type": "code",
      "execution_count": null,
      "metadata": {
        "id": "CF7ZsAMPoLAP"
      },
      "outputs": [],
      "source": [
        "#explore eta parameter to detect new factors\n",
        "model.return_eta_diag()"
      ]
    },
    {
      "cell_type": "markdown",
      "metadata": {
        "id": "6TacsTa6oLAP"
      },
      "source": [
        "## Accessing quantities stored in AnnData"
      ]
    },
    {
      "cell_type": "markdown",
      "metadata": {
        "id": "ppbTwXdGoLAP"
      },
      "source": [
        "This function stores four important quantities in the AnnData, in addition to returning a fitted model object. *Factors* are the scores that tell you how much each gene contributes to each factor:"
      ]
    },
    {
      "cell_type": "code",
      "execution_count": null,
      "metadata": {
        "id": "EL2372e4oLAP"
      },
      "outputs": [],
      "source": [
        "#find the factors under adata.uns['SPECTRA_factors']\n",
        "adata.uns['SPECTRA_factors']"
      ]
    },
    {
      "cell_type": "code",
      "execution_count": null,
      "metadata": {
        "id": "Y28X6B5joLAP"
      },
      "outputs": [],
      "source": [
        "#so you can construct a dataframe for the factor gene weights\n",
        "\n",
        "#include cell type specificity as a prefix into the index\n",
        "index_labels = adata.uns['SPECTRA_overlap'].index\n",
        "gene_weights = pd.DataFrame(adata.uns['SPECTRA_factors'],\n",
        "                            index= index_labels,\n",
        "                            columns=adata.var[adata.var['spectra_vocab']].index)\n",
        "gene_weights"
      ]
    },
    {
      "cell_type": "markdown",
      "metadata": {
        "id": "K5WMA4--oLAP"
      },
      "source": [
        "*Markers* is an array of genes with top scores for every factor:"
      ]
    },
    {
      "cell_type": "code",
      "execution_count": null,
      "metadata": {
        "id": "CMYKKRPZoLAP"
      },
      "outputs": [],
      "source": [
        "#find an array of the marker genes per factor here:\n",
        "adata.uns['SPECTRA_markers']"
      ]
    },
    {
      "cell_type": "markdown",
      "metadata": {
        "id": "GsFdp0UVoLAP"
      },
      "source": [
        "We also provide an approach to label the factors by their Szymkiewicz–Simpson overlap coefficient with the input gene sets. Each factors receives the label of the input gene set with the highest overlap coefficient, given that it the overlap coefficient is greater than the threshold defined in 'overlap_threshold'. Ties in the overlap coefficient by gene set size, selecting the label of the bigger gene set (because smaller gene sets might get bigger overlap coefficients by chance).\n",
        "\n",
        "We provide a pandas.DataFrame indicating the overlap coefficients for each input gene set with each factor's marker genes. The index of this dataframe contains the *index* of each factor, *assigned label* as well as the *cell type specificity* for each factor in the format:\n",
        "\n",
        "`['index' + '-X-' + 'cell type specificity' + '-X-' + 'assigned label', ...]`\n",
        "\n",
        "We use `'-X-'` as a unique seperator to make string splitting and retrieval of the different components of the index easier."
      ]
    },
    {
      "cell_type": "code",
      "execution_count": null,
      "metadata": {
        "id": "I34qKW23oLAQ"
      },
      "outputs": [],
      "source": [
        "adata.uns['SPECTRA_overlap']"
      ]
    },
    {
      "cell_type": "markdown",
      "metadata": {
        "id": "QyTwCekIoLAQ"
      },
      "source": [
        "*Cell scores* are similarly the score of each factor for every cell:"
      ]
    },
    {
      "cell_type": "code",
      "execution_count": null,
      "metadata": {
        "id": "5Q0eqNunoLAQ"
      },
      "outputs": [],
      "source": [
        "#find an array of cell scores per factor and cell here:\n",
        "adata.obsm['SPECTRA_cell_scores']"
      ]
    },
    {
      "cell_type": "markdown",
      "metadata": {
        "id": "5XKnFoweoLAQ"
      },
      "source": [
        "Vocab is a boolean array that is `True` for genes that were used while fitting the model - note that this quantity is only added to the AnnData when `highly_variable` is set to `True`:"
      ]
    },
    {
      "cell_type": "code",
      "execution_count": null,
      "metadata": {
        "id": "srZ8tgnuoLAQ"
      },
      "outputs": [],
      "source": [
        "#find the vocab here:\n",
        "adata.var['spectra_vocab']"
      ]
    },
    {
      "cell_type": "markdown",
      "metadata": {
        "id": "SQmdDikBoLAQ"
      },
      "source": [
        "It also includes a dictionary of the factor numbers per cell type:"
      ]
    },
    {
      "cell_type": "code",
      "execution_count": null,
      "metadata": {
        "id": "HroCBP1RoLAQ"
      },
      "outputs": [],
      "source": [
        "#find the factor numbere dict here:\n",
        "adata.uns['SPECTRA_L']"
      ]
    },
    {
      "cell_type": "markdown",
      "metadata": {
        "id": "3erfKib1oLAQ"
      },
      "source": [
        "## Acessing model parameters"
      ]
    },
    {
      "cell_type": "markdown",
      "metadata": {
        "id": "WWibRIwBoLAQ"
      },
      "source": [
        "To access finer grained information about the model fit, we can look at the attributes of the model object directly. Model parameters can be accessed with functions associated with the model object"
      ]
    },
    {
      "cell_type": "code",
      "execution_count": null,
      "metadata": {
        "id": "0gwZmVFFoLAQ"
      },
      "outputs": [],
      "source": [
        "#this is the model file\n",
        "dir(model)"
      ]
    },
    {
      "cell_type": "code",
      "execution_count": null,
      "metadata": {
        "id": "52rcybZNoLAQ"
      },
      "outputs": [],
      "source": [
        "#e.g. find the lambda parameter the model was trained with:\n",
        "model.lam"
      ]
    },
    {
      "cell_type": "markdown",
      "metadata": {
        "id": "Ud9jMj2roLAQ"
      },
      "source": [
        "Apart from cell scores and factors, we can also retrive a number of other parameters this way that are not by default added to the AnnData. Eta diag is the diagonal of the fitted factor-factor interaction matrix; however, its interpretation is that it measures the extent to which each factor is influenced by the prior information. In practice many of these values are zero, indicating that they are estimated without bias introduced by the annotation set. Eta is the full set of factor-factor interaction matrices, whose off diagonals measure the extent to which factors share the same genes. Rho and kappa are parameters that control the background rate of non-edges and edges respectively. These can be fixed throughout training (default) or estimated from the data by providing rho = None or kappa = None to the est_spectra() function or to model.train(). Finally gene scalings are correction factors that normalize each gene based on its mean expression value."
      ]
    },
    {
      "cell_type": "code",
      "execution_count": null,
      "metadata": {
        "id": "InIZxXZXoLAQ"
      },
      "outputs": [],
      "source": [
        "model.return_eta_diag()"
      ]
    },
    {
      "cell_type": "code",
      "execution_count": null,
      "metadata": {
        "id": "0qlbPlIeoLAQ"
      },
      "outputs": [],
      "source": [
        "adata.uns['SPECTRA_overlap']"
      ]
    },
    {
      "cell_type": "markdown",
      "metadata": {
        "id": "jDCr3eXVoLAQ"
      },
      "source": [
        "Examine the parameters of the underlying internal model:"
      ]
    },
    {
      "cell_type": "code",
      "execution_count": null,
      "metadata": {
        "id": "OweMPv-foLAQ"
      },
      "outputs": [],
      "source": [
        "model.internal_model"
      ]
    },
    {
      "cell_type": "code",
      "execution_count": null,
      "metadata": {
        "id": "G-cxlAuBoLAQ"
      },
      "outputs": [],
      "source": [
        "#You can save the model like this (this way consumes a lot of storage but does not require the model parameters to load)\n",
        "import pickle\n",
        "with open('spectra_model.pickle', 'wb') as f:\n",
        "    pickle.dump(model, f, pickle.HIGHEST_PROTOCOL)"
      ]
    },
    {
      "cell_type": "code",
      "execution_count": null,
      "metadata": {
        "id": "U9tDy_UnoLAQ"
      },
      "outputs": [],
      "source": [
        "#and load it like this:\n",
        "with open('spectra_model.pickle', 'rb') as f:\n",
        "    model = pickle.load(f)"
      ]
    },
    {
      "cell_type": "code",
      "execution_count": null,
      "metadata": {
        "id": "UzPlqqlboLAQ"
      },
      "outputs": [],
      "source": [
        "#this way needs less storage but requires the original adata, annotations and cell type annotations to load the model again\n",
        "model.save('spectra_model_compact')"
      ]
    },
    {
      "cell_type": "code",
      "execution_count": null,
      "metadata": {
        "id": "HqeSS3qVoLAQ"
      },
      "outputs": [],
      "source": [
        "#load the model (you will need all the parameters indicated here)\n",
        "model = spc.load_from_pickle('spectra_model_compact',adata,gs_dict=annotations,cell_type_key='cell_type_annotations',\n",
        "                     )"
      ]
    },
    {
      "cell_type": "markdown",
      "metadata": {
        "id": "M85VkrlHoLAQ"
      },
      "source": [
        "**fit model without cell type annotations**\n",
        "\n",
        "You can also fit the model without using the cell type annotations. In this case, instead of a nested gene set annotation dictionary, supply a regular dictionary with gene set names as keys (str) and the gene sets as values (list of gene names/IDs which match the gene names/IDs in the adata.var_names)"
      ]
    },
    {
      "cell_type": "code",
      "execution_count": null,
      "metadata": {
        "id": "1Oj4aTjyoLAQ"
      },
      "outputs": [],
      "source": [
        "{'global':annotations['global']}"
      ]
    },
    {
      "cell_type": "code",
      "execution_count": null,
      "metadata": {
        "id": "H-UxhR2HoLAR"
      },
      "outputs": [],
      "source": [
        "#fit the model (We will run this with only 2 epochs to decrease runtime in this tutorial)\n",
        "model_global = spc.est_spectra(adata = adata, gene_set_dictionary = annotations['global'], # because we do not use the cell types\n",
        "                                                                                    # we will supply a regular dict\n",
        "                                                                                    # instead of the nested dict above\n",
        "                        use_highly_variable = True, cell_type_key =None, #\"cell_type_annotations\" ,\n",
        "                        use_weights = True, lam = 0.1,\n",
        "                        delta=0.001,kappa = 0.00001, rho = 0.00001,\n",
        "                        use_cell_types = False, #set to False to not use the cell type annotations\n",
        "                        n_top_vals = 25,\n",
        "                        clean_gs=True,\n",
        "                        label_factors=True,\n",
        "                        num_epochs=2 #for demonstration purposes we will only run 2 epochs, we recommend 10,000 epochs\n",
        "                       )\n",
        "\n"
      ]
    },
    {
      "cell_type": "code",
      "execution_count": null,
      "metadata": {
        "id": "9SPZrqPloLAR"
      },
      "outputs": [],
      "source": [
        "#show the labeled factors in the data:\n",
        "adata.uns['SPECTRA_overlap'].index"
      ]
    },
    {
      "cell_type": "code",
      "execution_count": null,
      "metadata": {
        "id": "4vXRdI4SzOq9"
      },
      "outputs": [],
      "source": [
        "#visualize factor cell scores (this is poorly fitted bc we only ran 2 epochs)\n",
        "factor_of_interest = adata.uns['SPECTRA_overlap'].index[80]\n",
        "print('plotting factor:',adata.uns['SPECTRA_overlap'].index[80])\n",
        "\n",
        "#add cell scores to obs\n",
        "cell_scores = adata.obsm['SPECTRA_cell_scores'][:,0].astype(float)\n",
        "adata.obs[factor_of_interest] = cell_scores\n",
        "sc.pl.umap(adata,color=factor_of_interest,s=30,vmax=np.quantile(cell_scores,0.98))"
      ]
    },
    {
      "cell_type": "code",
      "execution_count": null,
      "metadata": {
        "id": "FOU3kk63zQ7x"
      },
      "outputs": [],
      "source": [
        "#save the adata\n",
        "adata_save_path = 'adata_spectra.h5ad'#where to save the adata to\n",
        "adata.write(adata_save_path)\n",
        "print('Saved adata to:',adata_save_path)"
      ]
    },
    {
      "cell_type": "markdown",
      "metadata": {
        "id": "MLi-_2rUoLAR"
      },
      "source": [
        "# Accessing the fitted gene-gene graph"
      ]
    },
    {
      "cell_type": "markdown",
      "metadata": {
        "id": "ySI6256XoLAR"
      },
      "source": [
        "One outcome of fitting spectra is to fit a gene-gene graph where edges represent similarities between latent variables associated with each gene (a smoothed version of transcriptional similarity) To access this for say, TNK cells; use the following"
      ]
    },
    {
      "cell_type": "code",
      "execution_count": null,
      "metadata": {
        "id": "CAo7TUZwoLAR"
      },
      "outputs": [],
      "source": [
        "soft_graph = model_global.return_graph(ct = \"global\")\n",
        "soft_graph"
      ]
    },
    {
      "cell_type": "markdown",
      "metadata": {
        "id": "XfrlfsKfoLAR"
      },
      "source": [
        "for large numbers of genes its clumsy to visualize the whole graph - to visualize a subgraph formed around a particular list of genes, use:"
      ]
    },
    {
      "cell_type": "code",
      "execution_count": null,
      "metadata": {
        "id": "44EaHmfsoLAR"
      },
      "outputs": [],
      "source": [
        "gene_set = list(adata.uns['SPECTRA_markers'][0])\n",
        "out = spc.graph_network(adata, soft_graph, gene_set)\n",
        "\n",
        "#this will not show in Google Colaboratory but you can open the file manually outside Google Colaboratory\n",
        "#out.show(\"test_graph.html\")"
      ]
    },
    {
      "cell_type": "code",
      "execution_count": null,
      "metadata": {
        "id": "9V0RMT3hoLAR"
      },
      "outputs": [],
      "source": [
        "adata.uns['SPECTRA_markers'][0].shape"
      ]
    },
    {
      "cell_type": "markdown",
      "metadata": {
        "id": "MkK5GkXwoLAR"
      },
      "source": [
        "this will take N closest genes to your gene set and only visualize this subgraph. The interactive graph file gets saved as an html. To visualize multiple gene sets at the same time, we have a different version of the function that assigns a random color to each gene set:"
      ]
    },
    {
      "cell_type": "code",
      "execution_count": null,
      "metadata": {
        "id": "_xRIxLi8oLAR"
      },
      "outputs": [],
      "source": [
        "#gene sets is a list of lists\n",
        "gene_set_2 = list(adata.uns['SPECTRA_markers'][1])\n",
        "gene_sets = [gene_set,gene_set_2]\n",
        "out = spc.graph_network_multiple(adata,soft_graph, gene_sets)\n",
        "#out.show(\"test_graph.html\")"
      ]
    },
    {
      "cell_type": "markdown",
      "metadata": {
        "id": "mh8AAbEaoLAR"
      },
      "source": [
        "# Fitting the model without AnnData"
      ]
    },
    {
      "cell_type": "markdown",
      "metadata": {
        "id": "YFEGT4sXoLAR"
      },
      "source": [
        "Instead of passing an AnnData object to est_spectra one can pass np.ndarray objects directly. The **kwargs contains arguments to the training function, lr_schedule = [1.0,.5,.1,.01,.001,.0001],num_epochs = 10000, verbose = False. To do this, initialize a model:"
      ]
    },
    {
      "cell_type": "code",
      "execution_count": null,
      "metadata": {
        "id": "euTYx6aAoLAR"
      },
      "outputs": [],
      "source": [
        "adata"
      ]
    },
    {
      "cell_type": "code",
      "execution_count": null,
      "metadata": {
        "id": "Z_rYHoqxoLAR"
      },
      "outputs": [],
      "source": [
        "#define number of factors (only est_spectra has the option to automatically set the factor numbers per celltype)\n",
        "\n",
        "L = {}\n",
        "for key in annotations.keys():\n",
        "    length = len(list(annotations[key].values()))\n",
        "    L[key] = length + 1\n",
        "L"
      ]
    },
    {
      "cell_type": "code",
      "execution_count": null,
      "metadata": {
        "id": "1RMISQwXoLAR"
      },
      "outputs": [],
      "source": [
        "#get the genes you want to use (for simplicity we will copy from the adata above)\n",
        "vocab = list(adata.var_names)"
      ]
    },
    {
      "cell_type": "code",
      "execution_count": null,
      "metadata": {
        "id": "REIw9iILoLAR"
      },
      "outputs": [],
      "source": [
        "adata.X.todense().shape"
      ]
    },
    {
      "cell_type": "code",
      "execution_count": null,
      "metadata": {
        "id": "mQaXOMZ9oLAR"
      },
      "outputs": [],
      "source": [
        "len(vocab)"
      ]
    },
    {
      "cell_type": "code",
      "execution_count": null,
      "metadata": {
        "id": "hygEftx-oLAR"
      },
      "outputs": [],
      "source": [
        "model = spc.SPECTRA_Model(X = adata.X.todense(), L=L, labels = np.array(adata.obs['cell_type_annotations']),\n",
        "                          gs_dict = annotations,lam = 0.01, vocab=vocab, use_weights=True,\n",
        "                          delta=0.001,kappa = None, rho = 0.05,use_cell_types=True)\n",
        "model.train(X = adata.X.todense(), labels = np.array(adata.obs['cell_type_annotations']),\n",
        "            num_epochs=2) #we will only do 2 epochs here for demonstration purposes. We recommend 10,000 epochs for most datasets."
      ]
    },
    {
      "cell_type": "markdown",
      "metadata": {
        "id": "robqIkBMoLAR"
      },
      "source": [
        "It is also required to run the model this way if you want to input arbitrary adjacency matrices instead of a dictionary of gene sets. The gene set dictionary is used to create an adjacency matrix when it is not None."
      ]
    },
    {
      "cell_type": "code",
      "execution_count": null,
      "metadata": {
        "id": "XrAR585YoLAR"
      },
      "outputs": [],
      "source": [
        "#you will need the cell type containing model and vocab again --> for this tutorial we will retrain\n",
        "model = spc.est_spectra(adata = adata, gene_set_dictionary = annotations,\n",
        "                        use_highly_variable = True, cell_type_key = \"cell_type_annotations\",\n",
        "                        use_weights = True, lam = 0.1,\n",
        "                        delta=0.001,kappa = 0.00001, rho = 0.00001,\n",
        "                        use_cell_types = True, n_top_vals = 25,\n",
        "                        label_factors = True, #whether to label the factors by their overlap coefficient with the input gene sets\n",
        "                        overlap_threshold = 0.2, #minimum overlap coefficient that has to be surpassed to assign a label to a factor\n",
        "                        num_epochs=2 #for demonstration purposes we will only run 2 epochs, we recommend 10,000 epochs\n",
        "                       )"
      ]
    },
    {
      "cell_type": "code",
      "execution_count": null,
      "metadata": {
        "id": "3JEn6T8WoLAR"
      },
      "outputs": [],
      "source": [
        "#get an example adjacency matrix (the threshold should be properly determined based on the question)\n",
        "threshold = 0.15\n",
        "cell_types = list(set(adata.obs['cell_type_annotations'])) + ['global']\n",
        "adj_matrix = {cell_type : (model.return_graph(ct = cell_type) > threshold).astype(float) for cell_type in cell_types}\n",
        "adj_matrix"
      ]
    },
    {
      "cell_type": "code",
      "execution_count": null,
      "metadata": {
        "id": "_aXNwOr5oLAS"
      },
      "outputs": [],
      "source": [
        "dir(model)"
      ]
    },
    {
      "cell_type": "code",
      "execution_count": null,
      "metadata": {
        "id": "ncfbmjIsoLAS"
      },
      "outputs": [],
      "source": [
        "soft_graph"
      ]
    },
    {
      "cell_type": "code",
      "execution_count": null,
      "metadata": {
        "id": "pDcInKsWoLAS"
      },
      "outputs": [],
      "source": [
        "adata.X.todense().shape"
      ]
    },
    {
      "cell_type": "code",
      "execution_count": null,
      "metadata": {
        "id": "0c0IJt4qoLAS"
      },
      "outputs": [],
      "source": [
        "adata.var['spectra_vocab'].value_counts()"
      ]
    },
    {
      "cell_type": "code",
      "execution_count": null,
      "metadata": {
        "id": "NQW6Fv8woLAS"
      },
      "outputs": [],
      "source": [
        "#train model with adjacency matrix\n",
        "vocab = np.array(adata.var['spectra_vocab'][adata.var['spectra_vocab']].index)\n",
        "X = adata.X.todense().T[adata.var['spectra_vocab']].T\n",
        "\n",
        "model = spc.SPECTRA_Model(X = X, labels =  np.array(adata.obs['cell_type_annotations']),\n",
        "                          L = L, adj_matrix = adj_matrix, weights = None, lam = 0.01,  delta=0.001,kappa = None, rho = 0.05,\n",
        "                          use_cell_types = True)\n",
        "model.train(X = X, labels =  np.array(adata.obs['cell_type_annotations']),\n",
        "            num_epochs=2) #we will only do 2 epochs here for demonstration purposes. We recommend 10,000 epochs for most datasets.)\n",
        "\n"
      ]
    },
    {
      "cell_type": "code",
      "execution_count": null,
      "metadata": {
        "id": "5uFRmnQdoLAS"
      },
      "outputs": [],
      "source": []
    }
  ],
  "metadata": {
    "colab": {
      "provenance": [],
      "gpuType": "T4"
    },
    "kernelspec": {
      "display_name": "sc",
      "language": "python",
      "name": "sc"
    },
    "language_info": {
      "codemirror_mode": {
        "name": "ipython",
        "version": 3
      },
      "file_extension": ".py",
      "mimetype": "text/x-python",
      "name": "python",
      "nbconvert_exporter": "python",
      "pygments_lexer": "ipython3",
      "version": "3.9.13"
    },
    "accelerator": "GPU"
  },
  "nbformat": 4,
  "nbformat_minor": 0
}