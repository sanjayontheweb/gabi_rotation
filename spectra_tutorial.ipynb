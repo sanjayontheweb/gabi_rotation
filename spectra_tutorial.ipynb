{
 "cells": [
  {
   "cell_type": "markdown",
   "metadata": {
    "id": "dIDa0AVEoLAL"
   },
   "source": [
    "# install packages"
   ]
  },
  {
   "cell_type": "markdown",
   "metadata": {
    "id": "UNHjEK_9oLAM"
   },
   "source": [
    "## install Spectra from pypi"
   ]
  },
  {
   "cell_type": "code",
   "execution_count": 1,
   "metadata": {
    "colab": {
     "base_uri": "https://localhost:8080/"
    },
    "id": "p7r0Q-x5oLAM",
    "outputId": "d2e461a8-1a1c-4880-9526-8d26986f9946"
   },
   "outputs": [
    {
     "name": "stdout",
     "output_type": "stream",
     "text": [
      "Defaulting to user installation because normal site-packages is not writeable\n",
      "Requirement already satisfied: scSpectra in ./.local/lib/python3.11/site-packages (0.2.1)\n",
      "Requirement already satisfied: numpy<3.0.0,>=2.0.0 in ./.local/lib/python3.11/site-packages (from scSpectra) (2.0.2)\n",
      "Requirement already satisfied: opt-einsum<4.0.0,>=3.3.0 in ./.local/lib/python3.11/site-packages (from scSpectra) (3.4.0)\n",
      "Requirement already satisfied: pandas<3.0.0,>=2.0.0 in ./.local/lib/python3.11/site-packages (from scSpectra) (2.2.3)\n",
      "Requirement already satisfied: pyvis<0.2.0,>=0.1.9 in ./.local/lib/python3.11/site-packages (from scSpectra) (0.1.9)\n",
      "Requirement already satisfied: scanpy<2.0.0,>=1.8.2 in ./.local/lib/python3.11/site-packages (from scSpectra) (1.10.4)\n",
      "Requirement already satisfied: scipy<2.0.0,>=1.7.3 in ./.local/lib/python3.11/site-packages (from scSpectra) (1.15.1)\n",
      "Requirement already satisfied: torch<3.0.0,>=2.0.0 in ./.local/lib/python3.11/site-packages (from scSpectra) (2.5.1)\n",
      "Requirement already satisfied: tqdm<5.0.0,>=4.62.3 in ./.local/lib/python3.11/site-packages (from scSpectra) (4.67.1)\n",
      "Requirement already satisfied: python-dateutil>=2.8.2 in /usr/local/lib/python3.11/site-packages (from pandas<3.0.0,>=2.0.0->scSpectra) (2.9.0.post0)\n",
      "Requirement already satisfied: pytz>=2020.1 in ./.local/lib/python3.11/site-packages (from pandas<3.0.0,>=2.0.0->scSpectra) (2024.2)\n",
      "Requirement already satisfied: tzdata>=2022.7 in ./.local/lib/python3.11/site-packages (from pandas<3.0.0,>=2.0.0->scSpectra) (2024.2)\n",
      "Requirement already satisfied: jinja2>=2.9.6 in /usr/local/lib/python3.11/site-packages (from pyvis<0.2.0,>=0.1.9->scSpectra) (3.1.4)\n",
      "Requirement already satisfied: networkx>=1.11 in ./.local/lib/python3.11/site-packages (from pyvis<0.2.0,>=0.1.9->scSpectra) (3.4.2)\n",
      "Requirement already satisfied: ipython>=5.3.0 in /usr/local/lib/python3.11/site-packages (from pyvis<0.2.0,>=0.1.9->scSpectra) (8.28.0)\n",
      "Requirement already satisfied: jsonpickle>=1.4.1 in ./.local/lib/python3.11/site-packages (from pyvis<0.2.0,>=0.1.9->scSpectra) (4.0.1)\n",
      "Requirement already satisfied: anndata>=0.8 in ./.local/lib/python3.11/site-packages (from scanpy<2.0.0,>=1.8.2->scSpectra) (0.11.3)\n",
      "Requirement already satisfied: h5py>=3.6 in ./.local/lib/python3.11/site-packages (from scanpy<2.0.0,>=1.8.2->scSpectra) (3.12.1)\n",
      "Requirement already satisfied: joblib in ./.local/lib/python3.11/site-packages (from scanpy<2.0.0,>=1.8.2->scSpectra) (1.4.2)\n",
      "Requirement already satisfied: legacy-api-wrap>=1.4 in ./.local/lib/python3.11/site-packages (from scanpy<2.0.0,>=1.8.2->scSpectra) (1.4.1)\n",
      "Requirement already satisfied: matplotlib>=3.6 in ./.local/lib/python3.11/site-packages (from scanpy<2.0.0,>=1.8.2->scSpectra) (3.10.0)\n",
      "Requirement already satisfied: natsort in ./.local/lib/python3.11/site-packages (from scanpy<2.0.0,>=1.8.2->scSpectra) (8.4.0)\n",
      "Requirement already satisfied: numba>=0.56 in ./.local/lib/python3.11/site-packages (from scanpy<2.0.0,>=1.8.2->scSpectra) (0.60.0)\n",
      "Requirement already satisfied: packaging>=21.3 in /usr/local/lib/python3.11/site-packages (from scanpy<2.0.0,>=1.8.2->scSpectra) (24.1)\n",
      "Requirement already satisfied: patsy!=1.0.0 in ./.local/lib/python3.11/site-packages (from scanpy<2.0.0,>=1.8.2->scSpectra) (1.0.1)\n",
      "Requirement already satisfied: pynndescent>=0.5 in ./.local/lib/python3.11/site-packages (from scanpy<2.0.0,>=1.8.2->scSpectra) (0.5.13)\n",
      "Requirement already satisfied: scikit-learn>=1.1 in ./.local/lib/python3.11/site-packages (from scanpy<2.0.0,>=1.8.2->scSpectra) (1.6.1)\n",
      "Requirement already satisfied: seaborn>=0.13 in ./.local/lib/python3.11/site-packages (from scanpy<2.0.0,>=1.8.2->scSpectra) (0.13.2)\n",
      "Requirement already satisfied: session-info in ./.local/lib/python3.11/site-packages (from scanpy<2.0.0,>=1.8.2->scSpectra) (1.0.0)\n",
      "Requirement already satisfied: statsmodels>=0.13 in ./.local/lib/python3.11/site-packages (from scanpy<2.0.0,>=1.8.2->scSpectra) (0.14.4)\n",
      "Requirement already satisfied: umap-learn!=0.5.0,>=0.5 in ./.local/lib/python3.11/site-packages (from scanpy<2.0.0,>=1.8.2->scSpectra) (0.5.7)\n",
      "Requirement already satisfied: filelock in /usr/local/lib/python3.11/site-packages (from torch<3.0.0,>=2.0.0->scSpectra) (3.15.4)\n",
      "Requirement already satisfied: typing-extensions>=4.8.0 in /usr/local/lib/python3.11/site-packages (from torch<3.0.0,>=2.0.0->scSpectra) (4.12.2)\n",
      "Requirement already satisfied: fsspec in ./.local/lib/python3.11/site-packages (from torch<3.0.0,>=2.0.0->scSpectra) (2024.12.0)\n",
      "Requirement already satisfied: nvidia-cuda-nvrtc-cu12==12.4.127 in ./.local/lib/python3.11/site-packages (from torch<3.0.0,>=2.0.0->scSpectra) (12.4.127)\n",
      "Requirement already satisfied: nvidia-cuda-runtime-cu12==12.4.127 in ./.local/lib/python3.11/site-packages (from torch<3.0.0,>=2.0.0->scSpectra) (12.4.127)\n",
      "Requirement already satisfied: nvidia-cuda-cupti-cu12==12.4.127 in ./.local/lib/python3.11/site-packages (from torch<3.0.0,>=2.0.0->scSpectra) (12.4.127)\n",
      "Requirement already satisfied: nvidia-cudnn-cu12==9.1.0.70 in ./.local/lib/python3.11/site-packages (from torch<3.0.0,>=2.0.0->scSpectra) (9.1.0.70)\n",
      "Requirement already satisfied: nvidia-cublas-cu12==12.4.5.8 in ./.local/lib/python3.11/site-packages (from torch<3.0.0,>=2.0.0->scSpectra) (12.4.5.8)\n",
      "Requirement already satisfied: nvidia-cufft-cu12==11.2.1.3 in ./.local/lib/python3.11/site-packages (from torch<3.0.0,>=2.0.0->scSpectra) (11.2.1.3)\n",
      "Requirement already satisfied: nvidia-curand-cu12==10.3.5.147 in ./.local/lib/python3.11/site-packages (from torch<3.0.0,>=2.0.0->scSpectra) (10.3.5.147)\n",
      "Requirement already satisfied: nvidia-cusolver-cu12==11.6.1.9 in ./.local/lib/python3.11/site-packages (from torch<3.0.0,>=2.0.0->scSpectra) (11.6.1.9)\n",
      "Requirement already satisfied: nvidia-cusparse-cu12==12.3.1.170 in ./.local/lib/python3.11/site-packages (from torch<3.0.0,>=2.0.0->scSpectra) (12.3.1.170)\n",
      "Requirement already satisfied: nvidia-nccl-cu12==2.21.5 in ./.local/lib/python3.11/site-packages (from torch<3.0.0,>=2.0.0->scSpectra) (2.21.5)\n",
      "Requirement already satisfied: nvidia-nvtx-cu12==12.4.127 in ./.local/lib/python3.11/site-packages (from torch<3.0.0,>=2.0.0->scSpectra) (12.4.127)\n",
      "Requirement already satisfied: nvidia-nvjitlink-cu12==12.4.127 in ./.local/lib/python3.11/site-packages (from torch<3.0.0,>=2.0.0->scSpectra) (12.4.127)\n",
      "Requirement already satisfied: triton==3.1.0 in ./.local/lib/python3.11/site-packages (from torch<3.0.0,>=2.0.0->scSpectra) (3.1.0)\n",
      "Requirement already satisfied: sympy==1.13.1 in ./.local/lib/python3.11/site-packages (from torch<3.0.0,>=2.0.0->scSpectra) (1.13.1)\n",
      "Requirement already satisfied: mpmath<1.4,>=1.1.0 in ./.local/lib/python3.11/site-packages (from sympy==1.13.1->torch<3.0.0,>=2.0.0->scSpectra) (1.3.0)\n",
      "Requirement already satisfied: array-api-compat!=1.5,>1.4 in ./.local/lib/python3.11/site-packages (from anndata>=0.8->scanpy<2.0.0,>=1.8.2->scSpectra) (1.10.0)\n",
      "Requirement already satisfied: decorator in /usr/local/lib/python3.11/site-packages (from ipython>=5.3.0->pyvis<0.2.0,>=0.1.9->scSpectra) (5.1.1)\n",
      "Requirement already satisfied: jedi>=0.16 in /usr/local/lib/python3.11/site-packages (from ipython>=5.3.0->pyvis<0.2.0,>=0.1.9->scSpectra) (0.19.1)\n",
      "Requirement already satisfied: matplotlib-inline in /usr/local/lib/python3.11/site-packages (from ipython>=5.3.0->pyvis<0.2.0,>=0.1.9->scSpectra) (0.1.7)\n",
      "Requirement already satisfied: prompt-toolkit<3.1.0,>=3.0.41 in /usr/local/lib/python3.11/site-packages (from ipython>=5.3.0->pyvis<0.2.0,>=0.1.9->scSpectra) (3.0.48)\n",
      "Requirement already satisfied: pygments>=2.4.0 in /usr/local/lib/python3.11/site-packages (from ipython>=5.3.0->pyvis<0.2.0,>=0.1.9->scSpectra) (2.18.0)\n",
      "Requirement already satisfied: stack-data in /usr/local/lib/python3.11/site-packages (from ipython>=5.3.0->pyvis<0.2.0,>=0.1.9->scSpectra) (0.6.3)\n",
      "Requirement already satisfied: traitlets>=5.13.0 in /usr/local/lib/python3.11/site-packages (from ipython>=5.3.0->pyvis<0.2.0,>=0.1.9->scSpectra) (5.14.3)\n",
      "Requirement already satisfied: pexpect>4.3 in /usr/local/lib/python3.11/site-packages (from ipython>=5.3.0->pyvis<0.2.0,>=0.1.9->scSpectra) (4.9.0)\n",
      "Requirement already satisfied: MarkupSafe>=2.0 in /usr/local/lib64/python3.11/site-packages (from jinja2>=2.9.6->pyvis<0.2.0,>=0.1.9->scSpectra) (3.0.1)\n",
      "Requirement already satisfied: contourpy>=1.0.1 in ./.local/lib/python3.11/site-packages (from matplotlib>=3.6->scanpy<2.0.0,>=1.8.2->scSpectra) (1.3.1)\n",
      "Requirement already satisfied: cycler>=0.10 in ./.local/lib/python3.11/site-packages (from matplotlib>=3.6->scanpy<2.0.0,>=1.8.2->scSpectra) (0.12.1)\n",
      "Requirement already satisfied: fonttools>=4.22.0 in ./.local/lib/python3.11/site-packages (from matplotlib>=3.6->scanpy<2.0.0,>=1.8.2->scSpectra) (4.55.3)\n",
      "Requirement already satisfied: kiwisolver>=1.3.1 in ./.local/lib/python3.11/site-packages (from matplotlib>=3.6->scanpy<2.0.0,>=1.8.2->scSpectra) (1.4.8)\n",
      "Requirement already satisfied: pillow>=8 in ./.local/lib/python3.11/site-packages (from matplotlib>=3.6->scanpy<2.0.0,>=1.8.2->scSpectra) (11.1.0)\n",
      "Requirement already satisfied: pyparsing>=2.3.1 in ./.local/lib/python3.11/site-packages (from matplotlib>=3.6->scanpy<2.0.0,>=1.8.2->scSpectra) (3.2.1)\n",
      "Requirement already satisfied: llvmlite<0.44,>=0.43.0dev0 in ./.local/lib/python3.11/site-packages (from numba>=0.56->scanpy<2.0.0,>=1.8.2->scSpectra) (0.43.0)\n",
      "Requirement already satisfied: six>=1.5 in /usr/local/lib/python3.11/site-packages (from python-dateutil>=2.8.2->pandas<3.0.0,>=2.0.0->scSpectra) (1.16.0)\n",
      "Requirement already satisfied: threadpoolctl>=3.1.0 in ./.local/lib/python3.11/site-packages (from scikit-learn>=1.1->scanpy<2.0.0,>=1.8.2->scSpectra) (3.5.0)\n",
      "Requirement already satisfied: stdlib_list in ./.local/lib/python3.11/site-packages (from session-info->scanpy<2.0.0,>=1.8.2->scSpectra) (0.11.0)\n",
      "Requirement already satisfied: parso<0.9.0,>=0.8.3 in /usr/local/lib/python3.11/site-packages (from jedi>=0.16->ipython>=5.3.0->pyvis<0.2.0,>=0.1.9->scSpectra) (0.8.4)\n",
      "Requirement already satisfied: ptyprocess>=0.5 in /usr/local/lib/python3.11/site-packages (from pexpect>4.3->ipython>=5.3.0->pyvis<0.2.0,>=0.1.9->scSpectra) (0.7.0)\n",
      "Requirement already satisfied: wcwidth in /usr/local/lib/python3.11/site-packages (from prompt-toolkit<3.1.0,>=3.0.41->ipython>=5.3.0->pyvis<0.2.0,>=0.1.9->scSpectra) (0.2.13)\n",
      "Requirement already satisfied: executing>=1.2.0 in /usr/local/lib/python3.11/site-packages (from stack-data->ipython>=5.3.0->pyvis<0.2.0,>=0.1.9->scSpectra) (2.1.0)\n",
      "Requirement already satisfied: asttokens>=2.1.0 in /usr/local/lib/python3.11/site-packages (from stack-data->ipython>=5.3.0->pyvis<0.2.0,>=0.1.9->scSpectra) (2.4.1)\n",
      "Requirement already satisfied: pure-eval in /usr/local/lib/python3.11/site-packages (from stack-data->ipython>=5.3.0->pyvis<0.2.0,>=0.1.9->scSpectra) (0.2.3)\n",
      "Note: you may need to restart the kernel to use updated packages.\n"
     ]
    }
   ],
   "source": [
    "%pip install scSpectra"
   ]
  },
  {
   "cell_type": "markdown",
   "metadata": {
    "id": "VqikYiGIoLAN"
   },
   "source": [
    "# import relevant packages"
   ]
  },
  {
   "cell_type": "code",
   "execution_count": 1,
   "metadata": {
    "id": "WEf_XV5Vxf-I"
   },
   "outputs": [],
   "source": [
    "#import packages\n",
    "import numpy as np\n",
    "import json\n",
    "import scanpy as sc\n",
    "from collections import OrderedDict\n",
    "import scipy\n",
    "import pandas as pd\n",
    "import matplotlib.pyplot as plt\n",
    "\n",
    "#spectra imports\n",
    "import Spectra as spc\n",
    "from Spectra import Spectra_util as spc_tl\n",
    "from Spectra import K_est as kst\n",
    "from Spectra import default_gene_sets\n"
   ]
  },
  {
   "cell_type": "markdown",
   "metadata": {
    "id": "v4vTEyL6sDR4"
   },
   "source": [
    "# Load gene_set_dictionary"
   ]
  },
  {
   "cell_type": "markdown",
   "metadata": {
    "id": "oqLbpf3qsFWF"
   },
   "source": [
    "**load a nested dictionary containing global and cell type specific gene sets in the following format:**\n",
    "\n",
    "Gene set annotation dictionary with the keys being the celltypes (str) and values being dictionaries with gene set names as keys (str) and gene sets as values (lists of gene names/IDs which matches the gene names/IDs in adata.var_names).\n",
    "\n",
    "For example:\n",
    "\n",
    "```\n",
    "gene_set_dictionary = {'celltype_1':{'gene_set_1':['gene_a', 'gene_b', 'gene_c'], 'gene_set_2':['gene_c','gene_a','gene_e','gene_f']},\n",
    "\n",
    "'celltype_2':{'gene_set_1':['gene_a', 'gene_b', 'gene_c'], 'gene_set_3':['gene_a', 'gene_e','gene_f','gene_d']},\n",
    "\n",
    "'celltype_3':{},\n",
    "\n",
    "'global':\"{'gene_set_4':['gene_m','gene_n']} #the global key must be supplied\n",
    "\n",
    "```\n",
    "\n",
    "**Note that one key in the dictionary must be 'global' with the corresponding value being a dictionary of gene sets which apply to all cells**\n",
    "\n",
    "Spectra will use this dictionary to align factors to the input gene sets. Gene sets which apply to only one cell type in the data should be included in the dictionary of that cell type. If a gene sets applies to all cell types in the data, the gene set should be included in the dictionary for 'global'. If a gene set applies to more than one cell type but not all cell types in the data there are two options 1) Include this gene set in each cell type dictionary which will likely result in a separate factor for this gene set in each cell type. OR 2) include this gene set in the 'global' dictionary which will likely result in one factor for this gene set in all cell types. We give additional guidance on the advantages and disadvantages of either approach in the Supplementary Methods of the Spectra paper: https://doi.org/10.1101/2022.12.20.521311"
   ]
  },
  {
   "cell_type": "markdown",
   "metadata": {
    "id": "mU-oUalzsO-P"
   },
   "source": [
    "**Load the default dictionary**\n",
    "We used this dictionary to generate the results in the paper: https://doi.org/10.1101/2022.12.20.521311"
   ]
  },
  {
   "cell_type": "code",
   "execution_count": 2,
   "metadata": {
    "colab": {
     "base_uri": "https://localhost:8080/"
    },
    "id": "X4QL5M0ax1rc",
    "outputId": "106fde0d-aa1b-48e2-b6d3-19e8b6c7e6f8"
   },
   "outputs": [
    {
     "data": {
      "text/plain": [
       "{'B_GC',\n",
       " 'B_memory',\n",
       " 'B_naive',\n",
       " 'CD4_T',\n",
       " 'CD8_T',\n",
       " 'DC',\n",
       " 'ILC3',\n",
       " 'MDC',\n",
       " 'NK',\n",
       " 'Treg',\n",
       " 'gdT',\n",
       " 'global',\n",
       " 'mast',\n",
       " 'pDC',\n",
       " 'plasma'}"
      ]
     },
     "execution_count": 2,
     "metadata": {},
     "output_type": "execute_result"
    }
   ],
   "source": [
    "# load the default gene set dictionary from the Spectra paper:\n",
    "annotations = spc.default_gene_sets.load()\n",
    "set(annotations.keys())"
   ]
  },
  {
   "cell_type": "code",
   "execution_count": 3,
   "metadata": {},
   "outputs": [
    {
     "data": {
      "text/plain": [
       "{}"
      ]
     },
     "execution_count": 3,
     "metadata": {},
     "output_type": "execute_result"
    }
   ],
   "source": [
    "annotations['gdT']"
   ]
  },
  {
   "cell_type": "code",
   "execution_count": 4,
   "metadata": {},
   "outputs": [
    {
     "data": {
      "text/plain": [
       "['B_memory', 'CD4_T', 'CD8_T', 'DC', 'MDC', 'Treg', 'mast', 'pDC', 'global']"
      ]
     },
     "execution_count": 4,
     "metadata": {},
     "output_type": "execute_result"
    }
   ],
   "source": [
    "[key for key, value in annotations.items() if isinstance(value, dict) and bool(value)]"
   ]
  },
  {
   "cell_type": "markdown",
   "metadata": {
    "id": "MMXT036ZsanA"
   },
   "source": [
    "# Custom gene_set_dictionary"
   ]
  },
  {
   "cell_type": "markdown",
   "metadata": {
    "id": "k5IWVmNGsfH5"
   },
   "source": [
    "**Alternatively you can use Spectra with your custom gene set annotation dictionaries.**\n",
    "\n",
    "Cytopus Knowledge Base\n",
    "\n",
    "We supply the Cytopus knowledge base to construct custom input gene set dictionaries for Spectra. For a tutorial visit the github repository: https://github.com/wallet-maker/cytopus\n",
    "\n",
    "**External Databases**\n",
    "\n",
    "To obtain optimal results, we recommend using dedicated gene sets, like from the Cytopus database which are tailored to single cell RNA sequencing data (see Supplementary Methods for details https://doi.org/10.1101/2022.12.20.521311).\n",
    "\n",
    "However, Spectra can also use gene set annotation dictionaries from external databases if they can be provided in the format described above."
   ]
  },
  {
   "cell_type": "markdown",
   "metadata": {
    "id": "ktOGTojasldB"
   },
   "source": [
    "# Load adata"
   ]
  },
  {
   "cell_type": "markdown",
   "metadata": {
    "id": "0kHJZhUOsn2C"
   },
   "source": [
    "In the Spectra paper we use a subsetted, anonymized, log1p-transformed (f(x) = ln(x+1), with x being the raw gene expression counts), and scran-normalized leukocyte single cell RNA sequencing data (https://doi.org/10.1101/2022.12.20.521311). While we recommend scran for leukocyte data, the method with log1p-transformed median library size normalized RNA sequencing data."
   ]
  },
  {
   "cell_type": "code",
   "execution_count": 5,
   "metadata": {
    "id": "75tKPam6yCoz"
   },
   "outputs": [],
   "source": [
    "# define data paths\n",
    "obs_key = 'cell_type_annotations' #indicat the column name for the dataframe in adata.obs where to find the cell type lab"
   ]
  },
  {
   "cell_type": "code",
   "execution_count": 6,
   "metadata": {
    "colab": {
     "base_uri": "https://localhost:8080/"
    },
    "id": "MznpLqaxoLAO",
    "outputId": "f780b825-b98b-4c37-f8e8-e84117094ec4"
   },
   "outputs": [
    {
     "name": "stdout",
     "output_type": "stream",
     "text": [
      "Loaded sample data: (1000, 6397)\n"
     ]
    },
    {
     "data": {
      "text/plain": [
       "AnnData object with n_obs × n_vars = 1000 × 6397\n",
       "    obs: 'cell_type_annotations'\n",
       "    var: 'n_cells_by_counts', 'highly_variable'\n",
       "    uns: 'annotation_SPADE_1_colors', 'cell_type_annotations_colors', 'diffmap_evals', 'draw_graph', 'hvg', 'neighbors', 'pca'\n",
       "    obsm: 'X_diffmap', 'X_draw_graph_fa', 'X_pca', 'X_tsne', 'X_umap'\n",
       "    varm: 'PCs'\n",
       "    obsp: 'connectivities', 'distances'"
      ]
     },
     "execution_count": 6,
     "metadata": {},
     "output_type": "execute_result"
    }
   ],
   "source": [
    "# load adata\n",
    "adata = spc.sample_data.load()\n",
    "adata"
   ]
  },
  {
   "cell_type": "code",
   "execution_count": 10,
   "metadata": {},
   "outputs": [
    {
     "data": {
      "text/plain": [
       "3000"
      ]
     },
     "execution_count": 10,
     "metadata": {},
     "output_type": "execute_result"
    }
   ],
   "source": [
    "sum(adata.var['highly_variable'])"
   ]
  },
  {
   "cell_type": "code",
   "execution_count": 19,
   "metadata": {
    "id": "ym_uHWLAoLAO"
   },
   "outputs": [],
   "source": [
    "# alternatively indicate where to find the AnnData object (and uncomment below)\n",
    "adata_path = '/content/spectra/data/sample_data.h5ad'\n",
    "# adata = sc.read_h5ad(adata_path)"
   ]
  },
  {
   "cell_type": "markdown",
   "metadata": {
    "id": "-oKda8X2sql-"
   },
   "source": [
    "**Important: The cell type labels have to match with the cell type labels in the gene set dictionary**"
   ]
  },
  {
   "cell_type": "code",
   "execution_count": 20,
   "metadata": {
    "colab": {
     "base_uri": "https://localhost:8080/"
    },
    "id": "4FDWzBwXymHu",
    "outputId": "cca008ea-bf36-4edc-dcdd-c17250821d76"
   },
   "outputs": [
    {
     "data": {
      "text/plain": [
       "['B_GC',\n",
       " 'gdT',\n",
       " 'CD8_T',\n",
       " 'NK',\n",
       " 'DC',\n",
       " 'B_naive',\n",
       " 'Treg',\n",
       " 'ILC3',\n",
       " 'mast',\n",
       " 'pDC',\n",
       " 'B_memory',\n",
       " 'CD4_T',\n",
       " 'MDC',\n",
       " 'plasma']"
      ]
     },
     "execution_count": 20,
     "metadata": {},
     "output_type": "execute_result"
    }
   ],
   "source": [
    "# cell type labels in adata\n",
    "list(set(adata.obs[obs_key]))"
   ]
  },
  {
   "cell_type": "code",
   "execution_count": 21,
   "metadata": {
    "colab": {
     "base_uri": "https://localhost:8080/"
    },
    "id": "lH4on6YRynsN",
    "outputId": "2b5dcf0c-5b1f-49ea-c106-082061f1cce6"
   },
   "outputs": [
    {
     "data": {
      "text/plain": [
       "['B_GC',\n",
       " 'gdT',\n",
       " 'CD8_T',\n",
       " 'NK',\n",
       " 'DC',\n",
       " 'B_naive',\n",
       " 'Treg',\n",
       " 'global',\n",
       " 'ILC3',\n",
       " 'mast',\n",
       " 'pDC',\n",
       " 'B_memory',\n",
       " 'CD4_T',\n",
       " 'MDC',\n",
       " 'plasma']"
      ]
     },
     "execution_count": 21,
     "metadata": {},
     "output_type": "execute_result"
    }
   ],
   "source": [
    "# cell type in gene set annotation dictionary\n",
    "list(set(annotations.keys()))"
   ]
  },
  {
   "cell_type": "markdown",
   "metadata": {
    "id": "bSKFHS3rs8ae"
   },
   "source": [
    "**if labels do not match adjust the labels either in adata or in annotations**"
   ]
  },
  {
   "cell_type": "markdown",
   "metadata": {
    "id": "D5EvurEfs2aL"
   },
   "source": [
    "For example define and map a dictionary mapping the annotations in the adata object to the keys in the gene set annotations dictionary or vice versa. **Note that if you have a cell type in your adata for which you do not have any gene sets in your gene set annotation dictionary you must include an empty dictionary under that cell type key.** Afterwards confirm that the matching has worked:"
   ]
  },
  {
   "cell_type": "code",
   "execution_count": 22,
   "metadata": {
    "colab": {
     "base_uri": "https://localhost:8080/"
    },
    "id": "DNY50iPdyo_5",
    "outputId": "ebe03283-fe3d-4f5b-a026-501dc54d6967"
   },
   "outputs": [
    {
     "name": "stdout",
     "output_type": "stream",
     "text": [
      "Cell type labels in gene set annotation dictionary and AnnData object are identical\n",
      "Your gene set annotation dictionary is now correctly formatted.\n"
     ]
    }
   ],
   "source": [
    "#filter gene set annotation dict for genes contained in adata\n",
    "annotations = spc_tl.check_gene_set_dictionary(\n",
    "    adata,\n",
    "    annotations,\n",
    "    obs_key='cell_type_annotations',\n",
    "    global_key='global')"
   ]
  },
  {
   "cell_type": "markdown",
   "metadata": {
    "id": "u3-E0Hsstt2L"
   },
   "source": [
    "# Fit Spectra model"
   ]
  },
  {
   "cell_type": "markdown",
   "metadata": {
    "id": "q-G3dGLPtp8P"
   },
   "source": [
    "**General comments**\n",
    "\n",
    "We start by importing spectra. The easiest way to run spectra is to use the `est_spectra` function in the `spectra` module, as shown below. The default behavior is to set the number of factors equal to the number of gene sets plus one. However, this can be modified by passing an integer e.g. `L = 20` as an argument to the function or a dictionary that maps cell type to an integer per cell type. We provide a method for estimating the number of factors directly from the data by bulk eigenvalue matching analysis, which is detailed further below.\n",
    "\n",
    "**Computational comments**\n",
    "\n",
    "Spectra is memory and cpu intensive.\n",
    "\n",
    "The here-provided dataset can be run on most computers. For bigger datasets you want to run this in non-interactive mode, as runtime can be 1-2 days for a dataset of ca 200,000 cells with 250 factors and 10 cell types. Run time scales linearly with the number of cell types in your data.\n",
    "\n",
    "An example hardware you could run a 200,000 cell, 10 cell type, 250 factor dataset on would be:\n",
    "\n",
    "16 cpus Intel Xeon Gold 256 GB RAM\n",
    "\n",
    "**Parameters**\n",
    "\n",
    "`adata` : AnnData object containing cell_type_key with log count data stored in .X\n",
    "\n",
    "`gene_set_dictionary`:dict or OrderedDict() maps cell types to gene set names to gene sets ; if use_cell_types == False then maps gene set names to gene sets ; must contain \"global\" key in addition to every unique cell type under .obs.<cell_type_key>\n",
    "\n",
    "`L`: dict, OrderedDict(), int , NoneType number of factors per cell type ; if use_cell_types == False then int. Else dictionary. If None then match factors to number of gene sets (recommended)\n",
    "\n",
    "`use_highly_variable` : bool if True, then uses highly_variable_genes\n",
    "\n",
    "`cell_type_key`: str cell type key, must be under adata.obs.<cell_type_key> . If use_cell_types == False, this is ignored\n",
    "\n",
    "`use_weights`: bool if True, edge weights are estimated based on graph structure and used throughout training\n",
    "\n",
    "`lam`: float lambda parameter of the model. weighs relative contribution of graph and expression loss functions\n",
    "\n",
    "`delta`: float delta parameter of the model. lower bounds possible gene scaling factors so that maximum ratio of gene scalings cannot be too large\n",
    "\n",
    "`kappa`: float or None if None, estimate background rate of 1s in the graph from data\n",
    "\n",
    "`rho`: float or None if None, estimate background rate of 0s in the graph from data\n",
    "\n",
    "`use_cell_types` : bool if True then cell type label is used to fit cell type specific factors. If false then cell types are ignored\n",
    "\n",
    "`n_top_vals` : int number of top markers to return in markers dataframe\n",
    "\n",
    "`determinant_penalty` : float determinant penalty of the attention mechanism. If set higher than 0 then sparse solutions of the attention weights and diverse attention weights are encouraged. However, tuning is crucial as setting too high reduces the selection accuracy because convergence to a hard selection occurs early during training [todo: annealing strategy]\n",
    "\n",
    "`filter_sets` : bool whether to filter the gene sets based on coherence\n",
    "\n",
    "`label_factors` : bool whether to label the factors by their cell type specificity and their Szymkiewicz–Simpson overlap coefficient with the input marker genes\n",
    "\n",
    "`overlap_threshold`: float minimum overlap coefficient to assign an input gene set label to a factor\n",
    "\n",
    "``**kwargs`` : (num_epochs = 10000, lr_schedule = [...], verbose = False) arguments to .train(), maximum number of training epochs, learning rate schedule and whether to print changes in learning rate\n",
    "\n",
    "**Returns**: SPECTRA_Model object [after training]\n",
    "\n",
    "**In place**: adds 1. factors, 2. cell scores, 3. vocabulary, and 4. markers as attributes in .obsm, .var, .uns\n",
    "\n",
    "**default parameters:**\n",
    "\n",
    "```\n",
    "est_spectra(\n",
    "    adata,\n",
    "    gene_set_dictionary,\n",
    "    L = None,\n",
    "    use_highly_variable = True,\n",
    "    cell_type_key = None,\n",
    "    use_weights = True,\n",
    "    lam = 0.01,\n",
    "    delta=0.001,\n",
    "    kappa = None,\n",
    "    rho = 0.001,\n",
    "    use_cell_types = True,\n",
    "    n_top_vals = 50,\n",
    "    filter_sets = True,\n",
    "    label_factors=True,\n",
    "    overlap_threshold= 0.2,\n",
    "    **kwargs)\n",
    "```"
   ]
  },
  {
   "cell_type": "markdown",
   "metadata": {
    "id": "zKETp-2LtmAs"
   },
   "source": [
    "**fit model with cell type annotations**\n",
    "\n",
    "Running Spectra with the cell type annotations will give you both global and cell type specific factors."
   ]
  },
  {
   "cell_type": "code",
   "execution_count": 23,
   "metadata": {},
   "outputs": [
    {
     "name": "stdout",
     "output_type": "stream",
     "text": [
      "Memory usage: 10.47 GB\n"
     ]
    }
   ],
   "source": [
    "import psutil\n",
    "import os\n",
    "\n",
    "process = psutil.Process(os.getpid())\n",
    "print(f\"Memory usage: {process.memory_info().rss / 1024**3:.2f} GB\")"
   ]
  },
  {
   "cell_type": "code",
   "execution_count": 25,
   "metadata": {
    "colab": {
     "base_uri": "https://localhost:8080/"
    },
    "id": "6XDuS4eoopXS",
    "outputId": "793e988b-1f22-48f6-86ab-bfdc2173f830"
   },
   "outputs": [
    {
     "name": "stdout",
     "output_type": "stream",
     "text": [
      "Cell type labels in gene set annotation dictionary and AnnData object are identical\n",
      "Your gene set annotation dictionary is now correctly formatted.\n"
     ]
    },
    {
     "name": "stderr",
     "output_type": "stream",
     "text": [
      "100%|███████████████████████████████████████████████████████████████████████████████████████████████████████████████████████████████████████████████████████████████████████████████████████████████████████████████████████████████████████████████| 2/2 [00:32<00:00, 16.28s/it]\n"
     ]
    }
   ],
   "source": [
    "# fit the model (We will run this with only 2 epochs to decrease runtime in this tutorial)\n",
    "model = spc.est_spectra(adata=adata,\n",
    "    gene_set_dictionary=annotations,\n",
    "    use_highly_variable=True,\n",
    "    cell_type_key=\"cell_type_annotations\",\n",
    "    use_weights=True,\n",
    "    lam=0.1, # varies depending on data and gene sets, try between 0.5 and 0.001\n",
    "    delta=0.001,\n",
    "    kappa=None,\n",
    "    rho=0.001,\n",
    "    use_cell_types=True,\n",
    "    n_top_vals=50,\n",
    "    label_factors=True,\n",
    "    overlap_threshold=0.2,\n",
    "    clean_gs = True,\n",
    "    min_gs_num = 3,\n",
    "    num_epochs=2 #here running only 2 epochs for time reasons, we recommend 10,000 epochs for most datasets\n",
    ")\n"
   ]
  },
  {
   "cell_type": "code",
   "execution_count": 27,
   "metadata": {},
   "outputs": [
    {
     "name": "stdout",
     "output_type": "stream",
     "text": [
      "Memory usage: 14.66 GB\n"
     ]
    }
   ],
   "source": [
    "process = psutil.Process(os.getpid())\n",
    "print(f\"Memory usage: {process.memory_info().rss / 1024**3:.2f} GB\")"
   ]
  },
  {
   "cell_type": "code",
   "execution_count": 10,
   "metadata": {
    "id": "CF7ZsAMPoLAP"
   },
   "outputs": [
    {
     "data": {
      "text/plain": [
       "array([5.08050025e-01, 7.21948802e-01, 4.90091026e-01, 8.47066820e-01,\n",
       "       7.60907412e-01, 5.67253172e-01, 5.43871880e-01, 6.72297478e-01,\n",
       "       7.43253589e-01, 8.55967522e-01, 7.22362638e-01, 8.63387465e-01,\n",
       "       8.02784383e-01, 1.57174468e-01, 3.11313123e-01, 4.56129581e-01,\n",
       "       7.62333333e-01, 7.07589090e-01, 7.57226288e-01, 8.15425932e-01,\n",
       "       8.94356191e-01, 6.35477066e-01, 3.12536806e-01, 9.36962366e-01,\n",
       "       6.84281170e-01, 9.00267303e-01, 9.52929020e-01, 8.66900027e-01,\n",
       "       7.52293825e-01, 5.24942696e-01, 7.44166613e-01, 9.58937883e-01,\n",
       "       9.18640077e-01, 8.27996492e-01, 5.31382799e-01, 9.18086648e-01,\n",
       "       5.77133596e-01, 5.91037571e-01, 4.61083472e-01, 8.75263512e-01,\n",
       "       1.41178221e-01, 4.15463328e-01, 4.97399598e-01, 9.39325750e-01,\n",
       "       7.18635798e-01, 6.96919501e-01, 7.29688883e-01, 6.39705956e-01,\n",
       "       7.57886350e-01, 4.31670398e-01, 7.66722441e-01, 7.66559660e-01,\n",
       "       7.80520380e-01, 8.11941683e-01, 9.31419015e-01, 7.97451854e-01,\n",
       "       9.36590135e-01, 7.49295115e-01, 9.15247142e-01, 8.33428621e-01,\n",
       "       9.68242705e-01, 3.07887226e-01, 9.37706649e-01, 6.80639029e-01,\n",
       "       7.48939097e-01, 4.50167358e-01, 7.19955921e-01, 4.70412910e-01,\n",
       "       6.90319717e-01, 9.69262481e-01, 5.53184330e-01, 6.17235959e-01,\n",
       "       7.42150664e-01, 7.77835429e-01, 5.86247385e-01, 3.68960232e-01,\n",
       "       9.37831461e-01, 8.45082283e-01, 5.82559764e-01, 6.70812607e-01,\n",
       "       7.19363868e-01, 3.69191945e-01, 5.20277023e-01, 8.58425677e-01,\n",
       "       7.98214138e-01, 8.53570163e-01, 4.79549974e-01, 7.34055221e-01,\n",
       "       9.17298198e-01, 8.07554185e-01, 3.58354807e-01, 2.39577323e-01,\n",
       "       7.87427723e-01, 7.28981137e-01, 8.71939242e-01, 7.12455153e-01,\n",
       "       4.81897086e-01, 7.19763279e-01, 8.08743894e-01, 7.72346497e-01,\n",
       "       1.92810878e-01, 4.84358072e-01, 7.00007617e-01, 4.43876594e-01,\n",
       "       9.17338610e-01, 7.86827743e-01, 8.00988138e-01, 6.65314376e-01,\n",
       "       4.19759601e-01, 9.13489878e-01, 7.66757727e-01, 7.58286178e-01,\n",
       "       6.70365393e-01, 6.44246757e-01, 7.96741247e-01, 7.61681318e-01,\n",
       "       8.62668633e-01, 5.69058418e-01, 7.36301303e-01, 8.79782319e-01,\n",
       "       7.24142551e-01, 5.31364143e-01, 4.90230203e-01, 5.65610766e-01,\n",
       "       7.72962928e-01, 5.64719677e-01, 4.91942436e-01, 7.39037633e-01,\n",
       "       4.49805439e-01, 7.21523762e-01, 4.80779231e-01, 8.17489028e-01,\n",
       "       5.13866842e-01, 6.68690205e-01, 7.73141026e-01, 5.93276441e-01,\n",
       "       8.97104442e-01, 6.79909647e-01, 8.87906671e-01, 5.20116866e-01,\n",
       "       3.46883565e-01, 7.93163240e-01, 8.53375077e-01, 7.86702037e-01,\n",
       "       8.77142787e-01, 8.56464863e-01, 8.16505790e-01, 6.74169242e-01,\n",
       "       2.66399533e-01, 2.57432014e-01, 5.10962496e-12, 1.75926983e-01,\n",
       "       8.18652689e-01, 9.20069695e-01, 5.00376642e-01, 7.04135954e-01,\n",
       "       5.11093121e-12, 3.47152382e-01, 3.02248269e-01, 1.56739011e-01,\n",
       "       7.59484887e-01, 4.52047408e-01, 6.79866850e-01, 8.79322112e-01,\n",
       "       9.21054065e-01, 6.50999844e-01, 7.67659307e-01, 8.25449288e-01,\n",
       "       7.39914954e-01, 5.10946927e-12, 7.78974712e-01, 7.86396623e-01,\n",
       "       5.93729556e-01, 6.73646629e-01, 6.36680365e-01, 4.51229036e-01,\n",
       "       5.10939121e-12, 7.69445658e-01, 8.82905304e-01, 5.11392491e-12,\n",
       "       5.19018292e-01, 9.26582575e-01, 2.37585187e-01, 1.57408848e-01,\n",
       "       6.93307281e-01, 6.95191801e-01, 5.10975160e-12, 2.98097968e-01,\n",
       "       6.18593156e-01, 5.11038521e-12, 2.00095758e-01, 6.54770255e-01,\n",
       "       5.11813031e-12, 6.23451173e-01, 5.11812077e-12, 5.90226114e-01])"
      ]
     },
     "execution_count": 10,
     "metadata": {},
     "output_type": "execute_result"
    }
   ],
   "source": [
    "#explore eta parameter to detect new factors\n",
    "model.return_eta_diag()"
   ]
  },
  {
   "cell_type": "markdown",
   "metadata": {
    "id": "6TacsTa6oLAP"
   },
   "source": [
    "## Accessing quantities stored in AnnData"
   ]
  },
  {
   "cell_type": "markdown",
   "metadata": {
    "id": "ppbTwXdGoLAP"
   },
   "source": [
    "This function stores four important quantities in the AnnData, in addition to returning a fitted model object. *Factors* are the scores that tell you how much each gene contributes to each factor:"
   ]
  },
  {
   "cell_type": "code",
   "execution_count": 1,
   "metadata": {
    "id": "EL2372e4oLAP"
   },
   "outputs": [
    {
     "ename": "NameError",
     "evalue": "name 'adata' is not defined",
     "output_type": "error",
     "traceback": [
      "\u001b[0;31m---------------------------------------------------------------------------\u001b[0m",
      "\u001b[0;31mNameError\u001b[0m                                 Traceback (most recent call last)",
      "Cell \u001b[0;32mIn[1], line 2\u001b[0m\n\u001b[1;32m      1\u001b[0m \u001b[38;5;66;03m#find the factors under adata.uns['SPECTRA_factors']\u001b[39;00m\n\u001b[0;32m----> 2\u001b[0m \u001b[43madata\u001b[49m\u001b[38;5;241m.\u001b[39muns[\u001b[38;5;124m'\u001b[39m\u001b[38;5;124mSPECTRA_factors\u001b[39m\u001b[38;5;124m'\u001b[39m]\n",
      "\u001b[0;31mNameError\u001b[0m: name 'adata' is not defined"
     ]
    }
   ],
   "source": [
    "#find the factors under adata.uns['SPECTRA_factors']\n",
    "adata.uns['SPECTRA_factors']"
   ]
  },
  {
   "cell_type": "code",
   "execution_count": 12,
   "metadata": {
    "id": "Y28X6B5joLAP"
   },
   "outputs": [
    {
     "data": {
      "text/html": [
       "<div>\n",
       "<style scoped>\n",
       "    .dataframe tbody tr th:only-of-type {\n",
       "        vertical-align: middle;\n",
       "    }\n",
       "\n",
       "    .dataframe tbody tr th {\n",
       "        vertical-align: top;\n",
       "    }\n",
       "\n",
       "    .dataframe thead th {\n",
       "        text-align: right;\n",
       "    }\n",
       "</style>\n",
       "<table border=\"1\" class=\"dataframe\">\n",
       "  <thead>\n",
       "    <tr style=\"text-align: right;\">\n",
       "      <th></th>\n",
       "      <th>KCNC3</th>\n",
       "      <th>NDUFS3</th>\n",
       "      <th>HACD1</th>\n",
       "      <th>FAM214A</th>\n",
       "      <th>TBCD</th>\n",
       "      <th>AC124312.1</th>\n",
       "      <th>PLAGL2</th>\n",
       "      <th>CD40LG</th>\n",
       "      <th>AC022182.1</th>\n",
       "      <th>USP53</th>\n",
       "      <th>...</th>\n",
       "      <th>CCL3L1</th>\n",
       "      <th>BAG3</th>\n",
       "      <th>CDC42EP3</th>\n",
       "      <th>TRAM1</th>\n",
       "      <th>RANBP1</th>\n",
       "      <th>FDFT1</th>\n",
       "      <th>HACD4</th>\n",
       "      <th>FCGR3A</th>\n",
       "      <th>AZGP1</th>\n",
       "      <th>SLC35A1</th>\n",
       "    </tr>\n",
       "  </thead>\n",
       "  <tbody>\n",
       "    <tr>\n",
       "      <th>0-X-global-X-all_biotin_metabolism</th>\n",
       "      <td>1.829848e-13</td>\n",
       "      <td>1.354706e-12</td>\n",
       "      <td>1.850284e-12</td>\n",
       "      <td>8.417505e-14</td>\n",
       "      <td>6.022228e-13</td>\n",
       "      <td>1.341601e-12</td>\n",
       "      <td>1.521034e-13</td>\n",
       "      <td>7.123538e-13</td>\n",
       "      <td>9.071535e-14</td>\n",
       "      <td>1.483899e-13</td>\n",
       "      <td>...</td>\n",
       "      <td>9.063715e-13</td>\n",
       "      <td>1.680384e-13</td>\n",
       "      <td>3.072371e-14</td>\n",
       "      <td>1.281843e-13</td>\n",
       "      <td>2.738279e-14</td>\n",
       "      <td>4.227562e-14</td>\n",
       "      <td>2.155471e-13</td>\n",
       "      <td>9.137648e-13</td>\n",
       "      <td>9.058629e-14</td>\n",
       "      <td>4.012736e-13</td>\n",
       "    </tr>\n",
       "    <tr>\n",
       "      <th>1-X-global-X-all_purine_synthesis</th>\n",
       "      <td>7.044687e-14</td>\n",
       "      <td>3.620205e-13</td>\n",
       "      <td>1.043178e-12</td>\n",
       "      <td>4.966001e-14</td>\n",
       "      <td>6.087257e-13</td>\n",
       "      <td>3.878806e-13</td>\n",
       "      <td>1.980513e-13</td>\n",
       "      <td>3.196440e-13</td>\n",
       "      <td>2.039438e-13</td>\n",
       "      <td>1.532621e-13</td>\n",
       "      <td>...</td>\n",
       "      <td>4.719931e-13</td>\n",
       "      <td>4.562609e-14</td>\n",
       "      <td>2.217797e-14</td>\n",
       "      <td>6.816611e-14</td>\n",
       "      <td>3.407273e-13</td>\n",
       "      <td>1.652549e-14</td>\n",
       "      <td>3.832881e-13</td>\n",
       "      <td>1.021240e-13</td>\n",
       "      <td>5.866443e-14</td>\n",
       "      <td>7.688962e-13</td>\n",
       "    </tr>\n",
       "    <tr>\n",
       "      <th>2-X-global-X-all_ethanol_metabolism</th>\n",
       "      <td>1.387129e-13</td>\n",
       "      <td>7.518807e-13</td>\n",
       "      <td>4.468089e-13</td>\n",
       "      <td>1.925834e-14</td>\n",
       "      <td>2.588696e-13</td>\n",
       "      <td>3.919322e-13</td>\n",
       "      <td>1.385020e-13</td>\n",
       "      <td>2.338276e-13</td>\n",
       "      <td>1.108466e-13</td>\n",
       "      <td>2.098785e-13</td>\n",
       "      <td>...</td>\n",
       "      <td>2.422819e-13</td>\n",
       "      <td>3.054713e-14</td>\n",
       "      <td>2.979821e-14</td>\n",
       "      <td>1.097012e-13</td>\n",
       "      <td>8.717986e-13</td>\n",
       "      <td>1.794301e-14</td>\n",
       "      <td>4.643829e-14</td>\n",
       "      <td>1.043277e-13</td>\n",
       "      <td>4.354468e-14</td>\n",
       "      <td>6.349619e-13</td>\n",
       "    </tr>\n",
       "    <tr>\n",
       "      <th>3-X-global-X-all_amino-sugar-nucleotide-sugar_metabolism</th>\n",
       "      <td>5.166444e-14</td>\n",
       "      <td>6.396495e-13</td>\n",
       "      <td>8.771149e-13</td>\n",
       "      <td>3.831221e-13</td>\n",
       "      <td>5.777056e-13</td>\n",
       "      <td>8.774198e-13</td>\n",
       "      <td>6.498570e-14</td>\n",
       "      <td>2.875504e-12</td>\n",
       "      <td>1.641813e-13</td>\n",
       "      <td>6.634824e-14</td>\n",
       "      <td>...</td>\n",
       "      <td>5.292872e-13</td>\n",
       "      <td>1.656257e-14</td>\n",
       "      <td>1.860625e-14</td>\n",
       "      <td>2.519246e-13</td>\n",
       "      <td>5.749609e-14</td>\n",
       "      <td>1.807799e-13</td>\n",
       "      <td>8.044766e-14</td>\n",
       "      <td>3.016330e-13</td>\n",
       "      <td>4.203303e-14</td>\n",
       "      <td>1.828774e-13</td>\n",
       "    </tr>\n",
       "    <tr>\n",
       "      <th>4-X-global-X-all_steroid_metabolism</th>\n",
       "      <td>2.016960e-13</td>\n",
       "      <td>1.213367e-12</td>\n",
       "      <td>1.984178e-13</td>\n",
       "      <td>2.897571e-14</td>\n",
       "      <td>3.696923e-12</td>\n",
       "      <td>2.947184e-13</td>\n",
       "      <td>1.589094e-13</td>\n",
       "      <td>5.646609e-13</td>\n",
       "      <td>8.689617e-14</td>\n",
       "      <td>1.765750e-13</td>\n",
       "      <td>...</td>\n",
       "      <td>1.685796e-13</td>\n",
       "      <td>8.110229e-14</td>\n",
       "      <td>3.821513e-14</td>\n",
       "      <td>2.414952e-13</td>\n",
       "      <td>9.924358e-14</td>\n",
       "      <td>3.644782e-03</td>\n",
       "      <td>3.243228e-13</td>\n",
       "      <td>5.970900e-14</td>\n",
       "      <td>6.498356e-14</td>\n",
       "      <td>6.884895e-12</td>\n",
       "    </tr>\n",
       "    <tr>\n",
       "      <th>...</th>\n",
       "      <td>...</td>\n",
       "      <td>...</td>\n",
       "      <td>...</td>\n",
       "      <td>...</td>\n",
       "      <td>...</td>\n",
       "      <td>...</td>\n",
       "      <td>...</td>\n",
       "      <td>...</td>\n",
       "      <td>...</td>\n",
       "      <td>...</td>\n",
       "      <td>...</td>\n",
       "      <td>...</td>\n",
       "      <td>...</td>\n",
       "      <td>...</td>\n",
       "      <td>...</td>\n",
       "      <td>...</td>\n",
       "      <td>...</td>\n",
       "      <td>...</td>\n",
       "      <td>...</td>\n",
       "      <td>...</td>\n",
       "      <td>...</td>\n",
       "    </tr>\n",
       "    <tr>\n",
       "      <th>191-X-mast-X-mast_granule-exocytosis</th>\n",
       "      <td>8.629393e-13</td>\n",
       "      <td>2.993837e-13</td>\n",
       "      <td>2.042822e-13</td>\n",
       "      <td>1.531111e-12</td>\n",
       "      <td>2.311560e-13</td>\n",
       "      <td>1.377747e-13</td>\n",
       "      <td>1.088774e-12</td>\n",
       "      <td>8.808455e-14</td>\n",
       "      <td>2.475420e-12</td>\n",
       "      <td>6.280637e-13</td>\n",
       "      <td>...</td>\n",
       "      <td>2.106143e-12</td>\n",
       "      <td>7.374496e-13</td>\n",
       "      <td>6.372828e-13</td>\n",
       "      <td>4.556392e-13</td>\n",
       "      <td>9.854206e-12</td>\n",
       "      <td>2.667835e-13</td>\n",
       "      <td>1.865654e-12</td>\n",
       "      <td>8.283998e-13</td>\n",
       "      <td>1.879116e-13</td>\n",
       "      <td>1.127246e-13</td>\n",
       "    </tr>\n",
       "    <tr>\n",
       "      <th>192-X-mast-X-192</th>\n",
       "      <td>2.978293e-02</td>\n",
       "      <td>4.587977e-02</td>\n",
       "      <td>5.075551e-02</td>\n",
       "      <td>1.032303e-01</td>\n",
       "      <td>4.875359e-02</td>\n",
       "      <td>3.428379e-02</td>\n",
       "      <td>5.405523e-02</td>\n",
       "      <td>3.881575e-02</td>\n",
       "      <td>6.792689e-02</td>\n",
       "      <td>2.279638e-02</td>\n",
       "      <td>...</td>\n",
       "      <td>3.129243e-02</td>\n",
       "      <td>3.298770e-02</td>\n",
       "      <td>1.995946e-02</td>\n",
       "      <td>4.044693e-02</td>\n",
       "      <td>1.092616e-01</td>\n",
       "      <td>1.754598e-02</td>\n",
       "      <td>9.980147e-02</td>\n",
       "      <td>7.929787e-02</td>\n",
       "      <td>4.552150e-02</td>\n",
       "      <td>3.851634e-02</td>\n",
       "    </tr>\n",
       "    <tr>\n",
       "      <th>193-X-pDC-X-p-DC_CpG-TLR9_response</th>\n",
       "      <td>3.706794e-13</td>\n",
       "      <td>6.026678e-13</td>\n",
       "      <td>1.673973e-12</td>\n",
       "      <td>5.105730e-13</td>\n",
       "      <td>1.921424e-12</td>\n",
       "      <td>3.427358e-13</td>\n",
       "      <td>5.680241e-14</td>\n",
       "      <td>2.397605e-13</td>\n",
       "      <td>7.636605e-13</td>\n",
       "      <td>1.033331e-12</td>\n",
       "      <td>...</td>\n",
       "      <td>3.937993e-13</td>\n",
       "      <td>5.433372e-13</td>\n",
       "      <td>2.354694e-13</td>\n",
       "      <td>3.693978e-13</td>\n",
       "      <td>3.641152e-13</td>\n",
       "      <td>2.529311e-13</td>\n",
       "      <td>5.443620e-12</td>\n",
       "      <td>6.472829e-13</td>\n",
       "      <td>4.379445e-13</td>\n",
       "      <td>1.575053e-12</td>\n",
       "    </tr>\n",
       "    <tr>\n",
       "      <th>194-X-pDC-X-194</th>\n",
       "      <td>1.096226e-01</td>\n",
       "      <td>3.588844e-02</td>\n",
       "      <td>4.719894e-02</td>\n",
       "      <td>2.793491e-02</td>\n",
       "      <td>8.793464e-02</td>\n",
       "      <td>5.192929e-02</td>\n",
       "      <td>2.236182e-02</td>\n",
       "      <td>4.528513e-02</td>\n",
       "      <td>5.561669e-02</td>\n",
       "      <td>2.949215e-02</td>\n",
       "      <td>...</td>\n",
       "      <td>3.503251e-02</td>\n",
       "      <td>4.375657e-02</td>\n",
       "      <td>9.300604e-02</td>\n",
       "      <td>4.302303e-02</td>\n",
       "      <td>5.694228e-02</td>\n",
       "      <td>1.010350e-01</td>\n",
       "      <td>1.276329e-01</td>\n",
       "      <td>2.293796e-02</td>\n",
       "      <td>6.519804e-02</td>\n",
       "      <td>3.447067e-02</td>\n",
       "    </tr>\n",
       "    <tr>\n",
       "      <th>195-X-plasma-X-195</th>\n",
       "      <td>6.182387e-02</td>\n",
       "      <td>7.444525e-02</td>\n",
       "      <td>8.933537e-02</td>\n",
       "      <td>1.507635e-02</td>\n",
       "      <td>3.966613e-02</td>\n",
       "      <td>2.773335e-02</td>\n",
       "      <td>2.141345e-02</td>\n",
       "      <td>1.134384e-01</td>\n",
       "      <td>6.155637e-02</td>\n",
       "      <td>3.474955e-02</td>\n",
       "      <td>...</td>\n",
       "      <td>1.304970e-01</td>\n",
       "      <td>1.108929e-01</td>\n",
       "      <td>9.757301e-02</td>\n",
       "      <td>5.958923e-02</td>\n",
       "      <td>8.610399e-02</td>\n",
       "      <td>7.508371e-02</td>\n",
       "      <td>1.395067e-02</td>\n",
       "      <td>3.193399e-02</td>\n",
       "      <td>1.341896e-01</td>\n",
       "      <td>3.403642e-02</td>\n",
       "    </tr>\n",
       "  </tbody>\n",
       "</table>\n",
       "<p>196 rows × 6392 columns</p>\n",
       "</div>"
      ],
      "text/plain": [
       "                                                           KCNC3  \\\n",
       "0-X-global-X-all_biotin_metabolism                  1.829848e-13   \n",
       "1-X-global-X-all_purine_synthesis                   7.044687e-14   \n",
       "2-X-global-X-all_ethanol_metabolism                 1.387129e-13   \n",
       "3-X-global-X-all_amino-sugar-nucleotide-sugar_m...  5.166444e-14   \n",
       "4-X-global-X-all_steroid_metabolism                 2.016960e-13   \n",
       "...                                                          ...   \n",
       "191-X-mast-X-mast_granule-exocytosis                8.629393e-13   \n",
       "192-X-mast-X-192                                    2.978293e-02   \n",
       "193-X-pDC-X-p-DC_CpG-TLR9_response                  3.706794e-13   \n",
       "194-X-pDC-X-194                                     1.096226e-01   \n",
       "195-X-plasma-X-195                                  6.182387e-02   \n",
       "\n",
       "                                                          NDUFS3  \\\n",
       "0-X-global-X-all_biotin_metabolism                  1.354706e-12   \n",
       "1-X-global-X-all_purine_synthesis                   3.620205e-13   \n",
       "2-X-global-X-all_ethanol_metabolism                 7.518807e-13   \n",
       "3-X-global-X-all_amino-sugar-nucleotide-sugar_m...  6.396495e-13   \n",
       "4-X-global-X-all_steroid_metabolism                 1.213367e-12   \n",
       "...                                                          ...   \n",
       "191-X-mast-X-mast_granule-exocytosis                2.993837e-13   \n",
       "192-X-mast-X-192                                    4.587977e-02   \n",
       "193-X-pDC-X-p-DC_CpG-TLR9_response                  6.026678e-13   \n",
       "194-X-pDC-X-194                                     3.588844e-02   \n",
       "195-X-plasma-X-195                                  7.444525e-02   \n",
       "\n",
       "                                                           HACD1  \\\n",
       "0-X-global-X-all_biotin_metabolism                  1.850284e-12   \n",
       "1-X-global-X-all_purine_synthesis                   1.043178e-12   \n",
       "2-X-global-X-all_ethanol_metabolism                 4.468089e-13   \n",
       "3-X-global-X-all_amino-sugar-nucleotide-sugar_m...  8.771149e-13   \n",
       "4-X-global-X-all_steroid_metabolism                 1.984178e-13   \n",
       "...                                                          ...   \n",
       "191-X-mast-X-mast_granule-exocytosis                2.042822e-13   \n",
       "192-X-mast-X-192                                    5.075551e-02   \n",
       "193-X-pDC-X-p-DC_CpG-TLR9_response                  1.673973e-12   \n",
       "194-X-pDC-X-194                                     4.719894e-02   \n",
       "195-X-plasma-X-195                                  8.933537e-02   \n",
       "\n",
       "                                                         FAM214A  \\\n",
       "0-X-global-X-all_biotin_metabolism                  8.417505e-14   \n",
       "1-X-global-X-all_purine_synthesis                   4.966001e-14   \n",
       "2-X-global-X-all_ethanol_metabolism                 1.925834e-14   \n",
       "3-X-global-X-all_amino-sugar-nucleotide-sugar_m...  3.831221e-13   \n",
       "4-X-global-X-all_steroid_metabolism                 2.897571e-14   \n",
       "...                                                          ...   \n",
       "191-X-mast-X-mast_granule-exocytosis                1.531111e-12   \n",
       "192-X-mast-X-192                                    1.032303e-01   \n",
       "193-X-pDC-X-p-DC_CpG-TLR9_response                  5.105730e-13   \n",
       "194-X-pDC-X-194                                     2.793491e-02   \n",
       "195-X-plasma-X-195                                  1.507635e-02   \n",
       "\n",
       "                                                            TBCD  \\\n",
       "0-X-global-X-all_biotin_metabolism                  6.022228e-13   \n",
       "1-X-global-X-all_purine_synthesis                   6.087257e-13   \n",
       "2-X-global-X-all_ethanol_metabolism                 2.588696e-13   \n",
       "3-X-global-X-all_amino-sugar-nucleotide-sugar_m...  5.777056e-13   \n",
       "4-X-global-X-all_steroid_metabolism                 3.696923e-12   \n",
       "...                                                          ...   \n",
       "191-X-mast-X-mast_granule-exocytosis                2.311560e-13   \n",
       "192-X-mast-X-192                                    4.875359e-02   \n",
       "193-X-pDC-X-p-DC_CpG-TLR9_response                  1.921424e-12   \n",
       "194-X-pDC-X-194                                     8.793464e-02   \n",
       "195-X-plasma-X-195                                  3.966613e-02   \n",
       "\n",
       "                                                      AC124312.1  \\\n",
       "0-X-global-X-all_biotin_metabolism                  1.341601e-12   \n",
       "1-X-global-X-all_purine_synthesis                   3.878806e-13   \n",
       "2-X-global-X-all_ethanol_metabolism                 3.919322e-13   \n",
       "3-X-global-X-all_amino-sugar-nucleotide-sugar_m...  8.774198e-13   \n",
       "4-X-global-X-all_steroid_metabolism                 2.947184e-13   \n",
       "...                                                          ...   \n",
       "191-X-mast-X-mast_granule-exocytosis                1.377747e-13   \n",
       "192-X-mast-X-192                                    3.428379e-02   \n",
       "193-X-pDC-X-p-DC_CpG-TLR9_response                  3.427358e-13   \n",
       "194-X-pDC-X-194                                     5.192929e-02   \n",
       "195-X-plasma-X-195                                  2.773335e-02   \n",
       "\n",
       "                                                          PLAGL2  \\\n",
       "0-X-global-X-all_biotin_metabolism                  1.521034e-13   \n",
       "1-X-global-X-all_purine_synthesis                   1.980513e-13   \n",
       "2-X-global-X-all_ethanol_metabolism                 1.385020e-13   \n",
       "3-X-global-X-all_amino-sugar-nucleotide-sugar_m...  6.498570e-14   \n",
       "4-X-global-X-all_steroid_metabolism                 1.589094e-13   \n",
       "...                                                          ...   \n",
       "191-X-mast-X-mast_granule-exocytosis                1.088774e-12   \n",
       "192-X-mast-X-192                                    5.405523e-02   \n",
       "193-X-pDC-X-p-DC_CpG-TLR9_response                  5.680241e-14   \n",
       "194-X-pDC-X-194                                     2.236182e-02   \n",
       "195-X-plasma-X-195                                  2.141345e-02   \n",
       "\n",
       "                                                          CD40LG  \\\n",
       "0-X-global-X-all_biotin_metabolism                  7.123538e-13   \n",
       "1-X-global-X-all_purine_synthesis                   3.196440e-13   \n",
       "2-X-global-X-all_ethanol_metabolism                 2.338276e-13   \n",
       "3-X-global-X-all_amino-sugar-nucleotide-sugar_m...  2.875504e-12   \n",
       "4-X-global-X-all_steroid_metabolism                 5.646609e-13   \n",
       "...                                                          ...   \n",
       "191-X-mast-X-mast_granule-exocytosis                8.808455e-14   \n",
       "192-X-mast-X-192                                    3.881575e-02   \n",
       "193-X-pDC-X-p-DC_CpG-TLR9_response                  2.397605e-13   \n",
       "194-X-pDC-X-194                                     4.528513e-02   \n",
       "195-X-plasma-X-195                                  1.134384e-01   \n",
       "\n",
       "                                                      AC022182.1  \\\n",
       "0-X-global-X-all_biotin_metabolism                  9.071535e-14   \n",
       "1-X-global-X-all_purine_synthesis                   2.039438e-13   \n",
       "2-X-global-X-all_ethanol_metabolism                 1.108466e-13   \n",
       "3-X-global-X-all_amino-sugar-nucleotide-sugar_m...  1.641813e-13   \n",
       "4-X-global-X-all_steroid_metabolism                 8.689617e-14   \n",
       "...                                                          ...   \n",
       "191-X-mast-X-mast_granule-exocytosis                2.475420e-12   \n",
       "192-X-mast-X-192                                    6.792689e-02   \n",
       "193-X-pDC-X-p-DC_CpG-TLR9_response                  7.636605e-13   \n",
       "194-X-pDC-X-194                                     5.561669e-02   \n",
       "195-X-plasma-X-195                                  6.155637e-02   \n",
       "\n",
       "                                                           USP53  ...  \\\n",
       "0-X-global-X-all_biotin_metabolism                  1.483899e-13  ...   \n",
       "1-X-global-X-all_purine_synthesis                   1.532621e-13  ...   \n",
       "2-X-global-X-all_ethanol_metabolism                 2.098785e-13  ...   \n",
       "3-X-global-X-all_amino-sugar-nucleotide-sugar_m...  6.634824e-14  ...   \n",
       "4-X-global-X-all_steroid_metabolism                 1.765750e-13  ...   \n",
       "...                                                          ...  ...   \n",
       "191-X-mast-X-mast_granule-exocytosis                6.280637e-13  ...   \n",
       "192-X-mast-X-192                                    2.279638e-02  ...   \n",
       "193-X-pDC-X-p-DC_CpG-TLR9_response                  1.033331e-12  ...   \n",
       "194-X-pDC-X-194                                     2.949215e-02  ...   \n",
       "195-X-plasma-X-195                                  3.474955e-02  ...   \n",
       "\n",
       "                                                          CCL3L1  \\\n",
       "0-X-global-X-all_biotin_metabolism                  9.063715e-13   \n",
       "1-X-global-X-all_purine_synthesis                   4.719931e-13   \n",
       "2-X-global-X-all_ethanol_metabolism                 2.422819e-13   \n",
       "3-X-global-X-all_amino-sugar-nucleotide-sugar_m...  5.292872e-13   \n",
       "4-X-global-X-all_steroid_metabolism                 1.685796e-13   \n",
       "...                                                          ...   \n",
       "191-X-mast-X-mast_granule-exocytosis                2.106143e-12   \n",
       "192-X-mast-X-192                                    3.129243e-02   \n",
       "193-X-pDC-X-p-DC_CpG-TLR9_response                  3.937993e-13   \n",
       "194-X-pDC-X-194                                     3.503251e-02   \n",
       "195-X-plasma-X-195                                  1.304970e-01   \n",
       "\n",
       "                                                            BAG3  \\\n",
       "0-X-global-X-all_biotin_metabolism                  1.680384e-13   \n",
       "1-X-global-X-all_purine_synthesis                   4.562609e-14   \n",
       "2-X-global-X-all_ethanol_metabolism                 3.054713e-14   \n",
       "3-X-global-X-all_amino-sugar-nucleotide-sugar_m...  1.656257e-14   \n",
       "4-X-global-X-all_steroid_metabolism                 8.110229e-14   \n",
       "...                                                          ...   \n",
       "191-X-mast-X-mast_granule-exocytosis                7.374496e-13   \n",
       "192-X-mast-X-192                                    3.298770e-02   \n",
       "193-X-pDC-X-p-DC_CpG-TLR9_response                  5.433372e-13   \n",
       "194-X-pDC-X-194                                     4.375657e-02   \n",
       "195-X-plasma-X-195                                  1.108929e-01   \n",
       "\n",
       "                                                        CDC42EP3  \\\n",
       "0-X-global-X-all_biotin_metabolism                  3.072371e-14   \n",
       "1-X-global-X-all_purine_synthesis                   2.217797e-14   \n",
       "2-X-global-X-all_ethanol_metabolism                 2.979821e-14   \n",
       "3-X-global-X-all_amino-sugar-nucleotide-sugar_m...  1.860625e-14   \n",
       "4-X-global-X-all_steroid_metabolism                 3.821513e-14   \n",
       "...                                                          ...   \n",
       "191-X-mast-X-mast_granule-exocytosis                6.372828e-13   \n",
       "192-X-mast-X-192                                    1.995946e-02   \n",
       "193-X-pDC-X-p-DC_CpG-TLR9_response                  2.354694e-13   \n",
       "194-X-pDC-X-194                                     9.300604e-02   \n",
       "195-X-plasma-X-195                                  9.757301e-02   \n",
       "\n",
       "                                                           TRAM1  \\\n",
       "0-X-global-X-all_biotin_metabolism                  1.281843e-13   \n",
       "1-X-global-X-all_purine_synthesis                   6.816611e-14   \n",
       "2-X-global-X-all_ethanol_metabolism                 1.097012e-13   \n",
       "3-X-global-X-all_amino-sugar-nucleotide-sugar_m...  2.519246e-13   \n",
       "4-X-global-X-all_steroid_metabolism                 2.414952e-13   \n",
       "...                                                          ...   \n",
       "191-X-mast-X-mast_granule-exocytosis                4.556392e-13   \n",
       "192-X-mast-X-192                                    4.044693e-02   \n",
       "193-X-pDC-X-p-DC_CpG-TLR9_response                  3.693978e-13   \n",
       "194-X-pDC-X-194                                     4.302303e-02   \n",
       "195-X-plasma-X-195                                  5.958923e-02   \n",
       "\n",
       "                                                          RANBP1  \\\n",
       "0-X-global-X-all_biotin_metabolism                  2.738279e-14   \n",
       "1-X-global-X-all_purine_synthesis                   3.407273e-13   \n",
       "2-X-global-X-all_ethanol_metabolism                 8.717986e-13   \n",
       "3-X-global-X-all_amino-sugar-nucleotide-sugar_m...  5.749609e-14   \n",
       "4-X-global-X-all_steroid_metabolism                 9.924358e-14   \n",
       "...                                                          ...   \n",
       "191-X-mast-X-mast_granule-exocytosis                9.854206e-12   \n",
       "192-X-mast-X-192                                    1.092616e-01   \n",
       "193-X-pDC-X-p-DC_CpG-TLR9_response                  3.641152e-13   \n",
       "194-X-pDC-X-194                                     5.694228e-02   \n",
       "195-X-plasma-X-195                                  8.610399e-02   \n",
       "\n",
       "                                                           FDFT1  \\\n",
       "0-X-global-X-all_biotin_metabolism                  4.227562e-14   \n",
       "1-X-global-X-all_purine_synthesis                   1.652549e-14   \n",
       "2-X-global-X-all_ethanol_metabolism                 1.794301e-14   \n",
       "3-X-global-X-all_amino-sugar-nucleotide-sugar_m...  1.807799e-13   \n",
       "4-X-global-X-all_steroid_metabolism                 3.644782e-03   \n",
       "...                                                          ...   \n",
       "191-X-mast-X-mast_granule-exocytosis                2.667835e-13   \n",
       "192-X-mast-X-192                                    1.754598e-02   \n",
       "193-X-pDC-X-p-DC_CpG-TLR9_response                  2.529311e-13   \n",
       "194-X-pDC-X-194                                     1.010350e-01   \n",
       "195-X-plasma-X-195                                  7.508371e-02   \n",
       "\n",
       "                                                           HACD4  \\\n",
       "0-X-global-X-all_biotin_metabolism                  2.155471e-13   \n",
       "1-X-global-X-all_purine_synthesis                   3.832881e-13   \n",
       "2-X-global-X-all_ethanol_metabolism                 4.643829e-14   \n",
       "3-X-global-X-all_amino-sugar-nucleotide-sugar_m...  8.044766e-14   \n",
       "4-X-global-X-all_steroid_metabolism                 3.243228e-13   \n",
       "...                                                          ...   \n",
       "191-X-mast-X-mast_granule-exocytosis                1.865654e-12   \n",
       "192-X-mast-X-192                                    9.980147e-02   \n",
       "193-X-pDC-X-p-DC_CpG-TLR9_response                  5.443620e-12   \n",
       "194-X-pDC-X-194                                     1.276329e-01   \n",
       "195-X-plasma-X-195                                  1.395067e-02   \n",
       "\n",
       "                                                          FCGR3A  \\\n",
       "0-X-global-X-all_biotin_metabolism                  9.137648e-13   \n",
       "1-X-global-X-all_purine_synthesis                   1.021240e-13   \n",
       "2-X-global-X-all_ethanol_metabolism                 1.043277e-13   \n",
       "3-X-global-X-all_amino-sugar-nucleotide-sugar_m...  3.016330e-13   \n",
       "4-X-global-X-all_steroid_metabolism                 5.970900e-14   \n",
       "...                                                          ...   \n",
       "191-X-mast-X-mast_granule-exocytosis                8.283998e-13   \n",
       "192-X-mast-X-192                                    7.929787e-02   \n",
       "193-X-pDC-X-p-DC_CpG-TLR9_response                  6.472829e-13   \n",
       "194-X-pDC-X-194                                     2.293796e-02   \n",
       "195-X-plasma-X-195                                  3.193399e-02   \n",
       "\n",
       "                                                           AZGP1       SLC35A1  \n",
       "0-X-global-X-all_biotin_metabolism                  9.058629e-14  4.012736e-13  \n",
       "1-X-global-X-all_purine_synthesis                   5.866443e-14  7.688962e-13  \n",
       "2-X-global-X-all_ethanol_metabolism                 4.354468e-14  6.349619e-13  \n",
       "3-X-global-X-all_amino-sugar-nucleotide-sugar_m...  4.203303e-14  1.828774e-13  \n",
       "4-X-global-X-all_steroid_metabolism                 6.498356e-14  6.884895e-12  \n",
       "...                                                          ...           ...  \n",
       "191-X-mast-X-mast_granule-exocytosis                1.879116e-13  1.127246e-13  \n",
       "192-X-mast-X-192                                    4.552150e-02  3.851634e-02  \n",
       "193-X-pDC-X-p-DC_CpG-TLR9_response                  4.379445e-13  1.575053e-12  \n",
       "194-X-pDC-X-194                                     6.519804e-02  3.447067e-02  \n",
       "195-X-plasma-X-195                                  1.341896e-01  3.403642e-02  \n",
       "\n",
       "[196 rows x 6392 columns]"
      ]
     },
     "execution_count": 12,
     "metadata": {},
     "output_type": "execute_result"
    }
   ],
   "source": [
    "#so you can construct a dataframe for the factor gene weights\n",
    "\n",
    "#include cell type specificity as a prefix into the index\n",
    "index_labels = adata.uns['SPECTRA_overlap'].index\n",
    "gene_weights = pd.DataFrame(adata.uns['SPECTRA_factors'],\n",
    "                            index= index_labels,\n",
    "                            columns=adata.var[adata.var['spectra_vocab']].index)\n",
    "gene_weights"
   ]
  },
  {
   "cell_type": "markdown",
   "metadata": {
    "id": "K5WMA4--oLAP"
   },
   "source": [
    "*Markers* is an array of genes with top scores for every factor:"
   ]
  },
  {
   "cell_type": "code",
   "execution_count": 13,
   "metadata": {
    "id": "CMYKKRPZoLAP"
   },
   "outputs": [
    {
     "data": {
      "text/plain": [
       "array([['HLCS', 'BTD', 'SLC5A6', ..., 'RTN1', 'LDHAL6A', 'MARK2'],\n",
       "       ['AMPD2', 'GMPR', 'APRT', ..., 'GAMT', 'CYTH2', 'ANGPTL4'],\n",
       "       ['AOX1', 'ALDH1B1', 'ALDH3B2', ..., 'EXOSC1', 'PPP4R2', 'OSTC'],\n",
       "       ...,\n",
       "       ['TCF7', 'OTULINL', 'RNF145', ..., 'ABCA2', 'DOCK7', 'ZDBF2'],\n",
       "       ['CISH', 'AP002387.2', 'RBP7', ..., 'STT3B', 'TGFB2', 'TIAM2'],\n",
       "       ['SLC43A2', 'ETFBKMT', 'FOXA1', ..., 'HSPA6', 'IL4R', 'TLR7']],\n",
       "      dtype=object)"
      ]
     },
     "execution_count": 13,
     "metadata": {},
     "output_type": "execute_result"
    }
   ],
   "source": [
    "#find an array of the marker genes per factor here:\n",
    "adata.uns['SPECTRA_markers']"
   ]
  },
  {
   "cell_type": "markdown",
   "metadata": {
    "id": "GsFdp0UVoLAP"
   },
   "source": [
    "We also provide an approach to label the factors by their Szymkiewicz–Simpson overlap coefficient with the input gene sets. Each factors receives the label of the input gene set with the highest overlap coefficient, given that it the overlap coefficient is greater than the threshold defined in 'overlap_threshold'. Ties in the overlap coefficient by gene set size, selecting the label of the bigger gene set (because smaller gene sets might get bigger overlap coefficients by chance).\n",
    "\n",
    "We provide a pandas.DataFrame indicating the overlap coefficients for each input gene set with each factor's marker genes. The index of this dataframe contains the *index* of each factor, *assigned label* as well as the *cell type specificity* for each factor in the format:\n",
    "\n",
    "`['index' + '-X-' + 'cell type specificity' + '-X-' + 'assigned label', ...]`\n",
    "\n",
    "We use `'-X-'` as a unique seperator to make string splitting and retrieval of the different components of the index easier."
   ]
  },
  {
   "cell_type": "code",
   "execution_count": 14,
   "metadata": {
    "id": "I34qKW23oLAQ"
   },
   "outputs": [
    {
     "data": {
      "text/html": [
       "<div>\n",
       "<style scoped>\n",
       "    .dataframe tbody tr th:only-of-type {\n",
       "        vertical-align: middle;\n",
       "    }\n",
       "\n",
       "    .dataframe tbody tr th {\n",
       "        vertical-align: top;\n",
       "    }\n",
       "\n",
       "    .dataframe thead th {\n",
       "        text-align: right;\n",
       "    }\n",
       "</style>\n",
       "<table border=\"1\" class=\"dataframe\">\n",
       "  <thead>\n",
       "    <tr style=\"text-align: right;\">\n",
       "      <th></th>\n",
       "      <th>B_Breg_UP</th>\n",
       "      <th>B_effector-2_UP</th>\n",
       "      <th>B_effector-1_UP</th>\n",
       "      <th>B_IgM-ligation_response</th>\n",
       "      <th>CD4-T_IL12_response</th>\n",
       "      <th>TNK_IL2_response</th>\n",
       "      <th>CD4-T_TH22_UP</th>\n",
       "      <th>CD4-T_TH17_UP</th>\n",
       "      <th>TNK_IL2-STAT5-signaling</th>\n",
       "      <th>T_IL21_response</th>\n",
       "      <th>...</th>\n",
       "      <th>all_thiamin_metabolism</th>\n",
       "      <th>all_NOTCH_signaling</th>\n",
       "      <th>all_galactose_metabolism</th>\n",
       "      <th>all_MYC_targets</th>\n",
       "      <th>all_GLU_metabolism</th>\n",
       "      <th>all_fatty-acid_synthesis</th>\n",
       "      <th>all_glycolysis</th>\n",
       "      <th>all_glutathione_metabolism</th>\n",
       "      <th>all_IL6-JAK-STAT3_signaling</th>\n",
       "      <th>all_autophagy-chaperone-mediated</th>\n",
       "    </tr>\n",
       "  </thead>\n",
       "  <tbody>\n",
       "    <tr>\n",
       "      <th>0-X-global-X-all_biotin_metabolism</th>\n",
       "      <td>0.0</td>\n",
       "      <td>0.0</td>\n",
       "      <td>0.000</td>\n",
       "      <td>0.04</td>\n",
       "      <td>0.000000</td>\n",
       "      <td>0.055556</td>\n",
       "      <td>0.000000</td>\n",
       "      <td>0.0</td>\n",
       "      <td>0.02</td>\n",
       "      <td>0.0</td>\n",
       "      <td>...</td>\n",
       "      <td>0.0</td>\n",
       "      <td>0.058824</td>\n",
       "      <td>0.000000</td>\n",
       "      <td>0.06</td>\n",
       "      <td>0.000000</td>\n",
       "      <td>0.000000</td>\n",
       "      <td>0.083333</td>\n",
       "      <td>0.000000</td>\n",
       "      <td>0.02</td>\n",
       "      <td>0.0</td>\n",
       "    </tr>\n",
       "    <tr>\n",
       "      <th>1-X-global-X-all_purine_synthesis</th>\n",
       "      <td>0.0</td>\n",
       "      <td>0.0</td>\n",
       "      <td>0.000</td>\n",
       "      <td>0.00</td>\n",
       "      <td>0.000000</td>\n",
       "      <td>0.000000</td>\n",
       "      <td>0.000000</td>\n",
       "      <td>0.0</td>\n",
       "      <td>0.06</td>\n",
       "      <td>0.0</td>\n",
       "      <td>...</td>\n",
       "      <td>0.0</td>\n",
       "      <td>0.000000</td>\n",
       "      <td>0.000000</td>\n",
       "      <td>0.02</td>\n",
       "      <td>0.000000</td>\n",
       "      <td>0.000000</td>\n",
       "      <td>0.000000</td>\n",
       "      <td>0.000000</td>\n",
       "      <td>0.00</td>\n",
       "      <td>0.0</td>\n",
       "    </tr>\n",
       "    <tr>\n",
       "      <th>2-X-global-X-all_ethanol_metabolism</th>\n",
       "      <td>0.0</td>\n",
       "      <td>0.0</td>\n",
       "      <td>0.000</td>\n",
       "      <td>0.00</td>\n",
       "      <td>0.000000</td>\n",
       "      <td>0.000000</td>\n",
       "      <td>0.000000</td>\n",
       "      <td>0.0</td>\n",
       "      <td>0.00</td>\n",
       "      <td>0.0</td>\n",
       "      <td>...</td>\n",
       "      <td>0.0</td>\n",
       "      <td>0.029412</td>\n",
       "      <td>0.000000</td>\n",
       "      <td>0.00</td>\n",
       "      <td>0.000000</td>\n",
       "      <td>0.000000</td>\n",
       "      <td>0.000000</td>\n",
       "      <td>0.000000</td>\n",
       "      <td>0.02</td>\n",
       "      <td>0.0</td>\n",
       "    </tr>\n",
       "    <tr>\n",
       "      <th>3-X-global-X-all_amino-sugar-nucleotide-sugar_metabolism</th>\n",
       "      <td>0.0</td>\n",
       "      <td>0.0</td>\n",
       "      <td>0.000</td>\n",
       "      <td>0.02</td>\n",
       "      <td>0.000000</td>\n",
       "      <td>0.000000</td>\n",
       "      <td>0.000000</td>\n",
       "      <td>0.0</td>\n",
       "      <td>0.06</td>\n",
       "      <td>0.0</td>\n",
       "      <td>...</td>\n",
       "      <td>0.0</td>\n",
       "      <td>0.000000</td>\n",
       "      <td>0.055556</td>\n",
       "      <td>0.00</td>\n",
       "      <td>0.000000</td>\n",
       "      <td>0.041667</td>\n",
       "      <td>0.041667</td>\n",
       "      <td>0.000000</td>\n",
       "      <td>0.04</td>\n",
       "      <td>0.0</td>\n",
       "    </tr>\n",
       "    <tr>\n",
       "      <th>4-X-global-X-all_steroid_metabolism</th>\n",
       "      <td>0.0</td>\n",
       "      <td>0.0</td>\n",
       "      <td>0.000</td>\n",
       "      <td>0.00</td>\n",
       "      <td>0.000000</td>\n",
       "      <td>0.000000</td>\n",
       "      <td>0.000000</td>\n",
       "      <td>0.0</td>\n",
       "      <td>0.00</td>\n",
       "      <td>0.0</td>\n",
       "      <td>...</td>\n",
       "      <td>0.0</td>\n",
       "      <td>0.000000</td>\n",
       "      <td>0.000000</td>\n",
       "      <td>0.00</td>\n",
       "      <td>0.000000</td>\n",
       "      <td>0.083333</td>\n",
       "      <td>0.000000</td>\n",
       "      <td>0.000000</td>\n",
       "      <td>0.00</td>\n",
       "      <td>0.0</td>\n",
       "    </tr>\n",
       "    <tr>\n",
       "      <th>...</th>\n",
       "      <td>...</td>\n",
       "      <td>...</td>\n",
       "      <td>...</td>\n",
       "      <td>...</td>\n",
       "      <td>...</td>\n",
       "      <td>...</td>\n",
       "      <td>...</td>\n",
       "      <td>...</td>\n",
       "      <td>...</td>\n",
       "      <td>...</td>\n",
       "      <td>...</td>\n",
       "      <td>...</td>\n",
       "      <td>...</td>\n",
       "      <td>...</td>\n",
       "      <td>...</td>\n",
       "      <td>...</td>\n",
       "      <td>...</td>\n",
       "      <td>...</td>\n",
       "      <td>...</td>\n",
       "      <td>...</td>\n",
       "      <td>...</td>\n",
       "    </tr>\n",
       "    <tr>\n",
       "      <th>191-X-mast-X-mast_granule-exocytosis</th>\n",
       "      <td>0.0</td>\n",
       "      <td>0.0</td>\n",
       "      <td>0.000</td>\n",
       "      <td>0.00</td>\n",
       "      <td>0.076923</td>\n",
       "      <td>0.000000</td>\n",
       "      <td>0.000000</td>\n",
       "      <td>0.0</td>\n",
       "      <td>0.00</td>\n",
       "      <td>0.0</td>\n",
       "      <td>...</td>\n",
       "      <td>0.0</td>\n",
       "      <td>0.000000</td>\n",
       "      <td>0.000000</td>\n",
       "      <td>0.00</td>\n",
       "      <td>0.027027</td>\n",
       "      <td>0.000000</td>\n",
       "      <td>0.000000</td>\n",
       "      <td>0.047619</td>\n",
       "      <td>0.00</td>\n",
       "      <td>0.0</td>\n",
       "    </tr>\n",
       "    <tr>\n",
       "      <th>192-X-mast-X-192</th>\n",
       "      <td>0.0</td>\n",
       "      <td>0.0</td>\n",
       "      <td>0.000</td>\n",
       "      <td>0.00</td>\n",
       "      <td>0.000000</td>\n",
       "      <td>0.000000</td>\n",
       "      <td>0.166667</td>\n",
       "      <td>0.0</td>\n",
       "      <td>0.06</td>\n",
       "      <td>0.0</td>\n",
       "      <td>...</td>\n",
       "      <td>0.0</td>\n",
       "      <td>0.000000</td>\n",
       "      <td>0.000000</td>\n",
       "      <td>0.00</td>\n",
       "      <td>0.027027</td>\n",
       "      <td>0.000000</td>\n",
       "      <td>0.000000</td>\n",
       "      <td>0.000000</td>\n",
       "      <td>0.02</td>\n",
       "      <td>0.0</td>\n",
       "    </tr>\n",
       "    <tr>\n",
       "      <th>193-X-pDC-X-p-DC_CpG-TLR9_response</th>\n",
       "      <td>0.0</td>\n",
       "      <td>0.0</td>\n",
       "      <td>0.000</td>\n",
       "      <td>0.00</td>\n",
       "      <td>0.000000</td>\n",
       "      <td>0.000000</td>\n",
       "      <td>0.000000</td>\n",
       "      <td>0.0</td>\n",
       "      <td>0.04</td>\n",
       "      <td>0.0</td>\n",
       "      <td>...</td>\n",
       "      <td>0.0</td>\n",
       "      <td>0.000000</td>\n",
       "      <td>0.000000</td>\n",
       "      <td>0.00</td>\n",
       "      <td>0.000000</td>\n",
       "      <td>0.000000</td>\n",
       "      <td>0.000000</td>\n",
       "      <td>0.000000</td>\n",
       "      <td>0.02</td>\n",
       "      <td>0.0</td>\n",
       "    </tr>\n",
       "    <tr>\n",
       "      <th>194-X-pDC-X-194</th>\n",
       "      <td>0.2</td>\n",
       "      <td>0.0</td>\n",
       "      <td>0.000</td>\n",
       "      <td>0.00</td>\n",
       "      <td>0.000000</td>\n",
       "      <td>0.000000</td>\n",
       "      <td>0.000000</td>\n",
       "      <td>0.0</td>\n",
       "      <td>0.06</td>\n",
       "      <td>0.0</td>\n",
       "      <td>...</td>\n",
       "      <td>0.0</td>\n",
       "      <td>0.000000</td>\n",
       "      <td>0.000000</td>\n",
       "      <td>0.00</td>\n",
       "      <td>0.000000</td>\n",
       "      <td>0.000000</td>\n",
       "      <td>0.000000</td>\n",
       "      <td>0.000000</td>\n",
       "      <td>0.02</td>\n",
       "      <td>0.0</td>\n",
       "    </tr>\n",
       "    <tr>\n",
       "      <th>195-X-plasma-X-195</th>\n",
       "      <td>0.0</td>\n",
       "      <td>0.0</td>\n",
       "      <td>0.125</td>\n",
       "      <td>0.02</td>\n",
       "      <td>0.000000</td>\n",
       "      <td>0.000000</td>\n",
       "      <td>0.000000</td>\n",
       "      <td>0.0</td>\n",
       "      <td>0.08</td>\n",
       "      <td>0.0</td>\n",
       "      <td>...</td>\n",
       "      <td>0.0</td>\n",
       "      <td>0.000000</td>\n",
       "      <td>0.000000</td>\n",
       "      <td>0.02</td>\n",
       "      <td>0.027027</td>\n",
       "      <td>0.000000</td>\n",
       "      <td>0.000000</td>\n",
       "      <td>0.000000</td>\n",
       "      <td>0.02</td>\n",
       "      <td>0.0</td>\n",
       "    </tr>\n",
       "  </tbody>\n",
       "</table>\n",
       "<p>196 rows × 181 columns</p>\n",
       "</div>"
      ],
      "text/plain": [
       "                                                    B_Breg_UP  \\\n",
       "0-X-global-X-all_biotin_metabolism                        0.0   \n",
       "1-X-global-X-all_purine_synthesis                         0.0   \n",
       "2-X-global-X-all_ethanol_metabolism                       0.0   \n",
       "3-X-global-X-all_amino-sugar-nucleotide-sugar_m...        0.0   \n",
       "4-X-global-X-all_steroid_metabolism                       0.0   \n",
       "...                                                       ...   \n",
       "191-X-mast-X-mast_granule-exocytosis                      0.0   \n",
       "192-X-mast-X-192                                          0.0   \n",
       "193-X-pDC-X-p-DC_CpG-TLR9_response                        0.0   \n",
       "194-X-pDC-X-194                                           0.2   \n",
       "195-X-plasma-X-195                                        0.0   \n",
       "\n",
       "                                                    B_effector-2_UP  \\\n",
       "0-X-global-X-all_biotin_metabolism                              0.0   \n",
       "1-X-global-X-all_purine_synthesis                               0.0   \n",
       "2-X-global-X-all_ethanol_metabolism                             0.0   \n",
       "3-X-global-X-all_amino-sugar-nucleotide-sugar_m...              0.0   \n",
       "4-X-global-X-all_steroid_metabolism                             0.0   \n",
       "...                                                             ...   \n",
       "191-X-mast-X-mast_granule-exocytosis                            0.0   \n",
       "192-X-mast-X-192                                                0.0   \n",
       "193-X-pDC-X-p-DC_CpG-TLR9_response                              0.0   \n",
       "194-X-pDC-X-194                                                 0.0   \n",
       "195-X-plasma-X-195                                              0.0   \n",
       "\n",
       "                                                    B_effector-1_UP  \\\n",
       "0-X-global-X-all_biotin_metabolism                            0.000   \n",
       "1-X-global-X-all_purine_synthesis                             0.000   \n",
       "2-X-global-X-all_ethanol_metabolism                           0.000   \n",
       "3-X-global-X-all_amino-sugar-nucleotide-sugar_m...            0.000   \n",
       "4-X-global-X-all_steroid_metabolism                           0.000   \n",
       "...                                                             ...   \n",
       "191-X-mast-X-mast_granule-exocytosis                          0.000   \n",
       "192-X-mast-X-192                                              0.000   \n",
       "193-X-pDC-X-p-DC_CpG-TLR9_response                            0.000   \n",
       "194-X-pDC-X-194                                               0.000   \n",
       "195-X-plasma-X-195                                            0.125   \n",
       "\n",
       "                                                    B_IgM-ligation_response  \\\n",
       "0-X-global-X-all_biotin_metabolism                                     0.04   \n",
       "1-X-global-X-all_purine_synthesis                                      0.00   \n",
       "2-X-global-X-all_ethanol_metabolism                                    0.00   \n",
       "3-X-global-X-all_amino-sugar-nucleotide-sugar_m...                     0.02   \n",
       "4-X-global-X-all_steroid_metabolism                                    0.00   \n",
       "...                                                                     ...   \n",
       "191-X-mast-X-mast_granule-exocytosis                                   0.00   \n",
       "192-X-mast-X-192                                                       0.00   \n",
       "193-X-pDC-X-p-DC_CpG-TLR9_response                                     0.00   \n",
       "194-X-pDC-X-194                                                        0.00   \n",
       "195-X-plasma-X-195                                                     0.02   \n",
       "\n",
       "                                                    CD4-T_IL12_response  \\\n",
       "0-X-global-X-all_biotin_metabolism                             0.000000   \n",
       "1-X-global-X-all_purine_synthesis                              0.000000   \n",
       "2-X-global-X-all_ethanol_metabolism                            0.000000   \n",
       "3-X-global-X-all_amino-sugar-nucleotide-sugar_m...             0.000000   \n",
       "4-X-global-X-all_steroid_metabolism                            0.000000   \n",
       "...                                                                 ...   \n",
       "191-X-mast-X-mast_granule-exocytosis                           0.076923   \n",
       "192-X-mast-X-192                                               0.000000   \n",
       "193-X-pDC-X-p-DC_CpG-TLR9_response                             0.000000   \n",
       "194-X-pDC-X-194                                                0.000000   \n",
       "195-X-plasma-X-195                                             0.000000   \n",
       "\n",
       "                                                    TNK_IL2_response  \\\n",
       "0-X-global-X-all_biotin_metabolism                          0.055556   \n",
       "1-X-global-X-all_purine_synthesis                           0.000000   \n",
       "2-X-global-X-all_ethanol_metabolism                         0.000000   \n",
       "3-X-global-X-all_amino-sugar-nucleotide-sugar_m...          0.000000   \n",
       "4-X-global-X-all_steroid_metabolism                         0.000000   \n",
       "...                                                              ...   \n",
       "191-X-mast-X-mast_granule-exocytosis                        0.000000   \n",
       "192-X-mast-X-192                                            0.000000   \n",
       "193-X-pDC-X-p-DC_CpG-TLR9_response                          0.000000   \n",
       "194-X-pDC-X-194                                             0.000000   \n",
       "195-X-plasma-X-195                                          0.000000   \n",
       "\n",
       "                                                    CD4-T_TH22_UP  \\\n",
       "0-X-global-X-all_biotin_metabolism                       0.000000   \n",
       "1-X-global-X-all_purine_synthesis                        0.000000   \n",
       "2-X-global-X-all_ethanol_metabolism                      0.000000   \n",
       "3-X-global-X-all_amino-sugar-nucleotide-sugar_m...       0.000000   \n",
       "4-X-global-X-all_steroid_metabolism                      0.000000   \n",
       "...                                                           ...   \n",
       "191-X-mast-X-mast_granule-exocytosis                     0.000000   \n",
       "192-X-mast-X-192                                         0.166667   \n",
       "193-X-pDC-X-p-DC_CpG-TLR9_response                       0.000000   \n",
       "194-X-pDC-X-194                                          0.000000   \n",
       "195-X-plasma-X-195                                       0.000000   \n",
       "\n",
       "                                                    CD4-T_TH17_UP  \\\n",
       "0-X-global-X-all_biotin_metabolism                            0.0   \n",
       "1-X-global-X-all_purine_synthesis                             0.0   \n",
       "2-X-global-X-all_ethanol_metabolism                           0.0   \n",
       "3-X-global-X-all_amino-sugar-nucleotide-sugar_m...            0.0   \n",
       "4-X-global-X-all_steroid_metabolism                           0.0   \n",
       "...                                                           ...   \n",
       "191-X-mast-X-mast_granule-exocytosis                          0.0   \n",
       "192-X-mast-X-192                                              0.0   \n",
       "193-X-pDC-X-p-DC_CpG-TLR9_response                            0.0   \n",
       "194-X-pDC-X-194                                               0.0   \n",
       "195-X-plasma-X-195                                            0.0   \n",
       "\n",
       "                                                    TNK_IL2-STAT5-signaling  \\\n",
       "0-X-global-X-all_biotin_metabolism                                     0.02   \n",
       "1-X-global-X-all_purine_synthesis                                      0.06   \n",
       "2-X-global-X-all_ethanol_metabolism                                    0.00   \n",
       "3-X-global-X-all_amino-sugar-nucleotide-sugar_m...                     0.06   \n",
       "4-X-global-X-all_steroid_metabolism                                    0.00   \n",
       "...                                                                     ...   \n",
       "191-X-mast-X-mast_granule-exocytosis                                   0.00   \n",
       "192-X-mast-X-192                                                       0.06   \n",
       "193-X-pDC-X-p-DC_CpG-TLR9_response                                     0.04   \n",
       "194-X-pDC-X-194                                                        0.06   \n",
       "195-X-plasma-X-195                                                     0.08   \n",
       "\n",
       "                                                    T_IL21_response  ...  \\\n",
       "0-X-global-X-all_biotin_metabolism                              0.0  ...   \n",
       "1-X-global-X-all_purine_synthesis                               0.0  ...   \n",
       "2-X-global-X-all_ethanol_metabolism                             0.0  ...   \n",
       "3-X-global-X-all_amino-sugar-nucleotide-sugar_m...              0.0  ...   \n",
       "4-X-global-X-all_steroid_metabolism                             0.0  ...   \n",
       "...                                                             ...  ...   \n",
       "191-X-mast-X-mast_granule-exocytosis                            0.0  ...   \n",
       "192-X-mast-X-192                                                0.0  ...   \n",
       "193-X-pDC-X-p-DC_CpG-TLR9_response                              0.0  ...   \n",
       "194-X-pDC-X-194                                                 0.0  ...   \n",
       "195-X-plasma-X-195                                              0.0  ...   \n",
       "\n",
       "                                                    all_thiamin_metabolism  \\\n",
       "0-X-global-X-all_biotin_metabolism                                     0.0   \n",
       "1-X-global-X-all_purine_synthesis                                      0.0   \n",
       "2-X-global-X-all_ethanol_metabolism                                    0.0   \n",
       "3-X-global-X-all_amino-sugar-nucleotide-sugar_m...                     0.0   \n",
       "4-X-global-X-all_steroid_metabolism                                    0.0   \n",
       "...                                                                    ...   \n",
       "191-X-mast-X-mast_granule-exocytosis                                   0.0   \n",
       "192-X-mast-X-192                                                       0.0   \n",
       "193-X-pDC-X-p-DC_CpG-TLR9_response                                     0.0   \n",
       "194-X-pDC-X-194                                                        0.0   \n",
       "195-X-plasma-X-195                                                     0.0   \n",
       "\n",
       "                                                    all_NOTCH_signaling  \\\n",
       "0-X-global-X-all_biotin_metabolism                             0.058824   \n",
       "1-X-global-X-all_purine_synthesis                              0.000000   \n",
       "2-X-global-X-all_ethanol_metabolism                            0.029412   \n",
       "3-X-global-X-all_amino-sugar-nucleotide-sugar_m...             0.000000   \n",
       "4-X-global-X-all_steroid_metabolism                            0.000000   \n",
       "...                                                                 ...   \n",
       "191-X-mast-X-mast_granule-exocytosis                           0.000000   \n",
       "192-X-mast-X-192                                               0.000000   \n",
       "193-X-pDC-X-p-DC_CpG-TLR9_response                             0.000000   \n",
       "194-X-pDC-X-194                                                0.000000   \n",
       "195-X-plasma-X-195                                             0.000000   \n",
       "\n",
       "                                                    all_galactose_metabolism  \\\n",
       "0-X-global-X-all_biotin_metabolism                                  0.000000   \n",
       "1-X-global-X-all_purine_synthesis                                   0.000000   \n",
       "2-X-global-X-all_ethanol_metabolism                                 0.000000   \n",
       "3-X-global-X-all_amino-sugar-nucleotide-sugar_m...                  0.055556   \n",
       "4-X-global-X-all_steroid_metabolism                                 0.000000   \n",
       "...                                                                      ...   \n",
       "191-X-mast-X-mast_granule-exocytosis                                0.000000   \n",
       "192-X-mast-X-192                                                    0.000000   \n",
       "193-X-pDC-X-p-DC_CpG-TLR9_response                                  0.000000   \n",
       "194-X-pDC-X-194                                                     0.000000   \n",
       "195-X-plasma-X-195                                                  0.000000   \n",
       "\n",
       "                                                    all_MYC_targets  \\\n",
       "0-X-global-X-all_biotin_metabolism                             0.06   \n",
       "1-X-global-X-all_purine_synthesis                              0.02   \n",
       "2-X-global-X-all_ethanol_metabolism                            0.00   \n",
       "3-X-global-X-all_amino-sugar-nucleotide-sugar_m...             0.00   \n",
       "4-X-global-X-all_steroid_metabolism                            0.00   \n",
       "...                                                             ...   \n",
       "191-X-mast-X-mast_granule-exocytosis                           0.00   \n",
       "192-X-mast-X-192                                               0.00   \n",
       "193-X-pDC-X-p-DC_CpG-TLR9_response                             0.00   \n",
       "194-X-pDC-X-194                                                0.00   \n",
       "195-X-plasma-X-195                                             0.02   \n",
       "\n",
       "                                                    all_GLU_metabolism  \\\n",
       "0-X-global-X-all_biotin_metabolism                            0.000000   \n",
       "1-X-global-X-all_purine_synthesis                             0.000000   \n",
       "2-X-global-X-all_ethanol_metabolism                           0.000000   \n",
       "3-X-global-X-all_amino-sugar-nucleotide-sugar_m...            0.000000   \n",
       "4-X-global-X-all_steroid_metabolism                           0.000000   \n",
       "...                                                                ...   \n",
       "191-X-mast-X-mast_granule-exocytosis                          0.027027   \n",
       "192-X-mast-X-192                                              0.027027   \n",
       "193-X-pDC-X-p-DC_CpG-TLR9_response                            0.000000   \n",
       "194-X-pDC-X-194                                               0.000000   \n",
       "195-X-plasma-X-195                                            0.027027   \n",
       "\n",
       "                                                    all_fatty-acid_synthesis  \\\n",
       "0-X-global-X-all_biotin_metabolism                                  0.000000   \n",
       "1-X-global-X-all_purine_synthesis                                   0.000000   \n",
       "2-X-global-X-all_ethanol_metabolism                                 0.000000   \n",
       "3-X-global-X-all_amino-sugar-nucleotide-sugar_m...                  0.041667   \n",
       "4-X-global-X-all_steroid_metabolism                                 0.083333   \n",
       "...                                                                      ...   \n",
       "191-X-mast-X-mast_granule-exocytosis                                0.000000   \n",
       "192-X-mast-X-192                                                    0.000000   \n",
       "193-X-pDC-X-p-DC_CpG-TLR9_response                                  0.000000   \n",
       "194-X-pDC-X-194                                                     0.000000   \n",
       "195-X-plasma-X-195                                                  0.000000   \n",
       "\n",
       "                                                    all_glycolysis  \\\n",
       "0-X-global-X-all_biotin_metabolism                        0.083333   \n",
       "1-X-global-X-all_purine_synthesis                         0.000000   \n",
       "2-X-global-X-all_ethanol_metabolism                       0.000000   \n",
       "3-X-global-X-all_amino-sugar-nucleotide-sugar_m...        0.041667   \n",
       "4-X-global-X-all_steroid_metabolism                       0.000000   \n",
       "...                                                            ...   \n",
       "191-X-mast-X-mast_granule-exocytosis                      0.000000   \n",
       "192-X-mast-X-192                                          0.000000   \n",
       "193-X-pDC-X-p-DC_CpG-TLR9_response                        0.000000   \n",
       "194-X-pDC-X-194                                           0.000000   \n",
       "195-X-plasma-X-195                                        0.000000   \n",
       "\n",
       "                                                    all_glutathione_metabolism  \\\n",
       "0-X-global-X-all_biotin_metabolism                                    0.000000   \n",
       "1-X-global-X-all_purine_synthesis                                     0.000000   \n",
       "2-X-global-X-all_ethanol_metabolism                                   0.000000   \n",
       "3-X-global-X-all_amino-sugar-nucleotide-sugar_m...                    0.000000   \n",
       "4-X-global-X-all_steroid_metabolism                                   0.000000   \n",
       "...                                                                        ...   \n",
       "191-X-mast-X-mast_granule-exocytosis                                  0.047619   \n",
       "192-X-mast-X-192                                                      0.000000   \n",
       "193-X-pDC-X-p-DC_CpG-TLR9_response                                    0.000000   \n",
       "194-X-pDC-X-194                                                       0.000000   \n",
       "195-X-plasma-X-195                                                    0.000000   \n",
       "\n",
       "                                                    all_IL6-JAK-STAT3_signaling  \\\n",
       "0-X-global-X-all_biotin_metabolism                                         0.02   \n",
       "1-X-global-X-all_purine_synthesis                                          0.00   \n",
       "2-X-global-X-all_ethanol_metabolism                                        0.02   \n",
       "3-X-global-X-all_amino-sugar-nucleotide-sugar_m...                         0.04   \n",
       "4-X-global-X-all_steroid_metabolism                                        0.00   \n",
       "...                                                                         ...   \n",
       "191-X-mast-X-mast_granule-exocytosis                                       0.00   \n",
       "192-X-mast-X-192                                                           0.02   \n",
       "193-X-pDC-X-p-DC_CpG-TLR9_response                                         0.02   \n",
       "194-X-pDC-X-194                                                            0.02   \n",
       "195-X-plasma-X-195                                                         0.02   \n",
       "\n",
       "                                                    all_autophagy-chaperone-mediated  \n",
       "0-X-global-X-all_biotin_metabolism                                               0.0  \n",
       "1-X-global-X-all_purine_synthesis                                                0.0  \n",
       "2-X-global-X-all_ethanol_metabolism                                              0.0  \n",
       "3-X-global-X-all_amino-sugar-nucleotide-sugar_m...                               0.0  \n",
       "4-X-global-X-all_steroid_metabolism                                              0.0  \n",
       "...                                                                              ...  \n",
       "191-X-mast-X-mast_granule-exocytosis                                             0.0  \n",
       "192-X-mast-X-192                                                                 0.0  \n",
       "193-X-pDC-X-p-DC_CpG-TLR9_response                                               0.0  \n",
       "194-X-pDC-X-194                                                                  0.0  \n",
       "195-X-plasma-X-195                                                               0.0  \n",
       "\n",
       "[196 rows x 181 columns]"
      ]
     },
     "execution_count": 14,
     "metadata": {},
     "output_type": "execute_result"
    }
   ],
   "source": [
    "adata.uns['SPECTRA_overlap']"
   ]
  },
  {
   "cell_type": "markdown",
   "metadata": {
    "id": "QyTwCekIoLAQ"
   },
   "source": [
    "*Cell scores* are similarly the score of each factor for every cell:"
   ]
  },
  {
   "cell_type": "code",
   "execution_count": 15,
   "metadata": {
    "id": "5Q0eqNunoLAQ"
   },
   "outputs": [
    {
     "data": {
      "text/plain": [
       "array([[5.92012661e-05, 6.09113287e-06, 4.29270923e-06, ...,\n",
       "        0.00000000e+00, 0.00000000e+00, 0.00000000e+00],\n",
       "       [2.07278118e-05, 7.59219680e-06, 3.56601400e-06, ...,\n",
       "        0.00000000e+00, 0.00000000e+00, 1.06560870e-01],\n",
       "       [3.44234737e-05, 1.29496671e-05, 2.16738783e-05, ...,\n",
       "        0.00000000e+00, 0.00000000e+00, 0.00000000e+00],\n",
       "       ...,\n",
       "       [2.38164069e-04, 2.07450387e-05, 1.47272816e-05, ...,\n",
       "        0.00000000e+00, 0.00000000e+00, 0.00000000e+00],\n",
       "       [8.04828960e-06, 6.67606181e-06, 3.03662996e-06, ...,\n",
       "        0.00000000e+00, 0.00000000e+00, 0.00000000e+00],\n",
       "       [2.05452227e-05, 8.67253067e-06, 1.45520775e-05, ...,\n",
       "        0.00000000e+00, 0.00000000e+00, 0.00000000e+00]])"
      ]
     },
     "execution_count": 15,
     "metadata": {},
     "output_type": "execute_result"
    }
   ],
   "source": [
    "#find an array of cell scores per factor and cell here:\n",
    "adata.obsm['SPECTRA_cell_scores']"
   ]
  },
  {
   "cell_type": "markdown",
   "metadata": {
    "id": "5XKnFoweoLAQ"
   },
   "source": [
    "Vocab is a boolean array that is `True` for genes that were used while fitting the model - note that this quantity is only added to the AnnData when `highly_variable` is set to `True`:"
   ]
  },
  {
   "cell_type": "code",
   "execution_count": 16,
   "metadata": {
    "id": "srZ8tgnuoLAQ"
   },
   "outputs": [
    {
     "data": {
      "text/plain": [
       "KCNC3      True\n",
       "NDUFS3     True\n",
       "HACD1      True\n",
       "FAM214A    True\n",
       "TBCD       True\n",
       "           ... \n",
       "FDFT1      True\n",
       "HACD4      True\n",
       "FCGR3A     True\n",
       "AZGP1      True\n",
       "SLC35A1    True\n",
       "Name: spectra_vocab, Length: 6397, dtype: bool"
      ]
     },
     "execution_count": 16,
     "metadata": {},
     "output_type": "execute_result"
    }
   ],
   "source": [
    "#find the vocab here:\n",
    "adata.var['spectra_vocab']"
   ]
  },
  {
   "cell_type": "markdown",
   "metadata": {
    "id": "SQmdDikBoLAQ"
   },
   "source": [
    "It also includes a dictionary of the factor numbers per cell type:"
   ]
  },
  {
   "cell_type": "code",
   "execution_count": 17,
   "metadata": {
    "id": "HroCBP1RoLAQ"
   },
   "outputs": [
    {
     "data": {
      "text/plain": [
       "{'B_GC': 1,\n",
       " 'B_memory': 5,\n",
       " 'B_naive': 1,\n",
       " 'CD4_T': 12,\n",
       " 'CD8_T': 7,\n",
       " 'DC': 3,\n",
       " 'ILC3': 1,\n",
       " 'MDC': 6,\n",
       " 'NK': 1,\n",
       " 'Treg': 2,\n",
       " 'gdT': 1,\n",
       " 'mast': 2,\n",
       " 'pDC': 2,\n",
       " 'plasma': 1,\n",
       " 'global': 151}"
      ]
     },
     "execution_count": 17,
     "metadata": {},
     "output_type": "execute_result"
    }
   ],
   "source": [
    "#find the factor numbere dict here:\n",
    "adata.uns['SPECTRA_L']"
   ]
  },
  {
   "cell_type": "markdown",
   "metadata": {
    "id": "3erfKib1oLAQ"
   },
   "source": [
    "## Acessing model parameters"
   ]
  },
  {
   "cell_type": "markdown",
   "metadata": {
    "id": "WWibRIwBoLAQ"
   },
   "source": [
    "To access finer grained information about the model fit, we can look at the attributes of the model object directly. Model parameters can be accessed with functions associated with the model object"
   ]
  },
  {
   "cell_type": "code",
   "execution_count": 18,
   "metadata": {
    "id": "0gwZmVFFoLAQ"
   },
   "outputs": [
    {
     "data": {
      "text/plain": [
       "['B_diag',\n",
       " 'L',\n",
       " '_SPECTRA_Model__B_diag',\n",
       " '_SPECTRA_Model__eta_matrices',\n",
       " '_SPECTRA_Model__store_parameters',\n",
       " '_SPECTRA_Model__store_parameters_no_celltypes',\n",
       " '__class__',\n",
       " '__delattr__',\n",
       " '__dict__',\n",
       " '__dir__',\n",
       " '__doc__',\n",
       " '__eq__',\n",
       " '__format__',\n",
       " '__ge__',\n",
       " '__getattribute__',\n",
       " '__gt__',\n",
       " '__hash__',\n",
       " '__init__',\n",
       " '__init_subclass__',\n",
       " '__le__',\n",
       " '__lt__',\n",
       " '__module__',\n",
       " '__ne__',\n",
       " '__new__',\n",
       " '__reduce__',\n",
       " '__reduce_ex__',\n",
       " '__repr__',\n",
       " '__setattr__',\n",
       " '__sizeof__',\n",
       " '__str__',\n",
       " '__subclasshook__',\n",
       " '__weakref__',\n",
       " 'cell_scores',\n",
       " 'delta',\n",
       " 'eta_matrices',\n",
       " 'factors',\n",
       " 'gene_scalings',\n",
       " 'initialize',\n",
       " 'internal_model',\n",
       " 'kappa',\n",
       " 'lam',\n",
       " 'load',\n",
       " 'matching',\n",
       " 'return_cell_scores',\n",
       " 'return_eta',\n",
       " 'return_eta_diag',\n",
       " 'return_factors',\n",
       " 'return_gene_scalings',\n",
       " 'return_graph',\n",
       " 'return_kappa',\n",
       " 'return_rho',\n",
       " 'rho',\n",
       " 'save',\n",
       " 'train',\n",
       " 'use_cell_types']"
      ]
     },
     "execution_count": 18,
     "metadata": {},
     "output_type": "execute_result"
    }
   ],
   "source": [
    "#this is the model file\n",
    "dir(model)"
   ]
  },
  {
   "cell_type": "code",
   "execution_count": 19,
   "metadata": {
    "id": "52rcybZNoLAQ"
   },
   "outputs": [
    {
     "data": {
      "text/plain": [
       "0.1"
      ]
     },
     "execution_count": 19,
     "metadata": {},
     "output_type": "execute_result"
    }
   ],
   "source": [
    "#e.g. find the lambda parameter the model was trained with:\n",
    "model.lam"
   ]
  },
  {
   "cell_type": "markdown",
   "metadata": {
    "id": "Ud9jMj2roLAQ"
   },
   "source": [
    "Apart from cell scores and factors, we can also retrive a number of other parameters this way that are not by default added to the AnnData. Eta diag is the diagonal of the fitted factor-factor interaction matrix; however, its interpretation is that it measures the extent to which each factor is influenced by the prior information. In practice many of these values are zero, indicating that they are estimated without bias introduced by the annotation set. Eta is the full set of factor-factor interaction matrices, whose off diagonals measure the extent to which factors share the same genes. Rho and kappa are parameters that control the background rate of non-edges and edges respectively. These can be fixed throughout training (default) or estimated from the data by providing rho = None or kappa = None to the est_spectra() function or to model.train(). Finally gene scalings are correction factors that normalize each gene based on its mean expression value."
   ]
  },
  {
   "cell_type": "code",
   "execution_count": 20,
   "metadata": {
    "id": "InIZxXZXoLAQ"
   },
   "outputs": [
    {
     "data": {
      "text/plain": [
       "array([5.08050025e-01, 7.21948802e-01, 4.90091026e-01, 8.47066820e-01,\n",
       "       7.60907412e-01, 5.67253172e-01, 5.43871880e-01, 6.72297478e-01,\n",
       "       7.43253589e-01, 8.55967522e-01, 7.22362638e-01, 8.63387465e-01,\n",
       "       8.02784383e-01, 1.57174468e-01, 3.11313123e-01, 4.56129581e-01,\n",
       "       7.62333333e-01, 7.07589090e-01, 7.57226288e-01, 8.15425932e-01,\n",
       "       8.94356191e-01, 6.35477066e-01, 3.12536806e-01, 9.36962366e-01,\n",
       "       6.84281170e-01, 9.00267303e-01, 9.52929020e-01, 8.66900027e-01,\n",
       "       7.52293825e-01, 5.24942696e-01, 7.44166613e-01, 9.58937883e-01,\n",
       "       9.18640077e-01, 8.27996492e-01, 5.31382799e-01, 9.18086648e-01,\n",
       "       5.77133596e-01, 5.91037571e-01, 4.61083472e-01, 8.75263512e-01,\n",
       "       1.41178221e-01, 4.15463328e-01, 4.97399598e-01, 9.39325750e-01,\n",
       "       7.18635798e-01, 6.96919501e-01, 7.29688883e-01, 6.39705956e-01,\n",
       "       7.57886350e-01, 4.31670398e-01, 7.66722441e-01, 7.66559660e-01,\n",
       "       7.80520380e-01, 8.11941683e-01, 9.31419015e-01, 7.97451854e-01,\n",
       "       9.36590135e-01, 7.49295115e-01, 9.15247142e-01, 8.33428621e-01,\n",
       "       9.68242705e-01, 3.07887226e-01, 9.37706649e-01, 6.80639029e-01,\n",
       "       7.48939097e-01, 4.50167358e-01, 7.19955921e-01, 4.70412910e-01,\n",
       "       6.90319717e-01, 9.69262481e-01, 5.53184330e-01, 6.17235959e-01,\n",
       "       7.42150664e-01, 7.77835429e-01, 5.86247385e-01, 3.68960232e-01,\n",
       "       9.37831461e-01, 8.45082283e-01, 5.82559764e-01, 6.70812607e-01,\n",
       "       7.19363868e-01, 3.69191945e-01, 5.20277023e-01, 8.58425677e-01,\n",
       "       7.98214138e-01, 8.53570163e-01, 4.79549974e-01, 7.34055221e-01,\n",
       "       9.17298198e-01, 8.07554185e-01, 3.58354807e-01, 2.39577323e-01,\n",
       "       7.87427723e-01, 7.28981137e-01, 8.71939242e-01, 7.12455153e-01,\n",
       "       4.81897086e-01, 7.19763279e-01, 8.08743894e-01, 7.72346497e-01,\n",
       "       1.92810878e-01, 4.84358072e-01, 7.00007617e-01, 4.43876594e-01,\n",
       "       9.17338610e-01, 7.86827743e-01, 8.00988138e-01, 6.65314376e-01,\n",
       "       4.19759601e-01, 9.13489878e-01, 7.66757727e-01, 7.58286178e-01,\n",
       "       6.70365393e-01, 6.44246757e-01, 7.96741247e-01, 7.61681318e-01,\n",
       "       8.62668633e-01, 5.69058418e-01, 7.36301303e-01, 8.79782319e-01,\n",
       "       7.24142551e-01, 5.31364143e-01, 4.90230203e-01, 5.65610766e-01,\n",
       "       7.72962928e-01, 5.64719677e-01, 4.91942436e-01, 7.39037633e-01,\n",
       "       4.49805439e-01, 7.21523762e-01, 4.80779231e-01, 8.17489028e-01,\n",
       "       5.13866842e-01, 6.68690205e-01, 7.73141026e-01, 5.93276441e-01,\n",
       "       8.97104442e-01, 6.79909647e-01, 8.87906671e-01, 5.20116866e-01,\n",
       "       3.46883565e-01, 7.93163240e-01, 8.53375077e-01, 7.86702037e-01,\n",
       "       8.77142787e-01, 8.56464863e-01, 8.16505790e-01, 6.74169242e-01,\n",
       "       2.66399533e-01, 2.57432014e-01, 5.10962496e-12, 1.75926983e-01,\n",
       "       8.18652689e-01, 9.20069695e-01, 5.00376642e-01, 7.04135954e-01,\n",
       "       5.11093121e-12, 3.47152382e-01, 3.02248269e-01, 1.56739011e-01,\n",
       "       7.59484887e-01, 4.52047408e-01, 6.79866850e-01, 8.79322112e-01,\n",
       "       9.21054065e-01, 6.50999844e-01, 7.67659307e-01, 8.25449288e-01,\n",
       "       7.39914954e-01, 5.10946927e-12, 7.78974712e-01, 7.86396623e-01,\n",
       "       5.93729556e-01, 6.73646629e-01, 6.36680365e-01, 4.51229036e-01,\n",
       "       5.10939121e-12, 7.69445658e-01, 8.82905304e-01, 5.11392491e-12,\n",
       "       5.19018292e-01, 9.26582575e-01, 2.37585187e-01, 1.57408848e-01,\n",
       "       6.93307281e-01, 6.95191801e-01, 5.10975160e-12, 2.98097968e-01,\n",
       "       6.18593156e-01, 5.11038521e-12, 2.00095758e-01, 6.54770255e-01,\n",
       "       5.11813031e-12, 6.23451173e-01, 5.11812077e-12, 5.90226114e-01])"
      ]
     },
     "execution_count": 20,
     "metadata": {},
     "output_type": "execute_result"
    }
   ],
   "source": [
    "model.return_eta_diag()"
   ]
  },
  {
   "cell_type": "code",
   "execution_count": 21,
   "metadata": {
    "id": "0qlbPlIeoLAQ"
   },
   "outputs": [
    {
     "data": {
      "text/html": [
       "<div>\n",
       "<style scoped>\n",
       "    .dataframe tbody tr th:only-of-type {\n",
       "        vertical-align: middle;\n",
       "    }\n",
       "\n",
       "    .dataframe tbody tr th {\n",
       "        vertical-align: top;\n",
       "    }\n",
       "\n",
       "    .dataframe thead th {\n",
       "        text-align: right;\n",
       "    }\n",
       "</style>\n",
       "<table border=\"1\" class=\"dataframe\">\n",
       "  <thead>\n",
       "    <tr style=\"text-align: right;\">\n",
       "      <th></th>\n",
       "      <th>B_Breg_UP</th>\n",
       "      <th>B_effector-2_UP</th>\n",
       "      <th>B_effector-1_UP</th>\n",
       "      <th>B_IgM-ligation_response</th>\n",
       "      <th>CD4-T_IL12_response</th>\n",
       "      <th>TNK_IL2_response</th>\n",
       "      <th>CD4-T_TH22_UP</th>\n",
       "      <th>CD4-T_TH17_UP</th>\n",
       "      <th>TNK_IL2-STAT5-signaling</th>\n",
       "      <th>T_IL21_response</th>\n",
       "      <th>...</th>\n",
       "      <th>all_thiamin_metabolism</th>\n",
       "      <th>all_NOTCH_signaling</th>\n",
       "      <th>all_galactose_metabolism</th>\n",
       "      <th>all_MYC_targets</th>\n",
       "      <th>all_GLU_metabolism</th>\n",
       "      <th>all_fatty-acid_synthesis</th>\n",
       "      <th>all_glycolysis</th>\n",
       "      <th>all_glutathione_metabolism</th>\n",
       "      <th>all_IL6-JAK-STAT3_signaling</th>\n",
       "      <th>all_autophagy-chaperone-mediated</th>\n",
       "    </tr>\n",
       "  </thead>\n",
       "  <tbody>\n",
       "    <tr>\n",
       "      <th>0-X-global-X-all_biotin_metabolism</th>\n",
       "      <td>0.0</td>\n",
       "      <td>0.0</td>\n",
       "      <td>0.000</td>\n",
       "      <td>0.04</td>\n",
       "      <td>0.000000</td>\n",
       "      <td>0.055556</td>\n",
       "      <td>0.000000</td>\n",
       "      <td>0.0</td>\n",
       "      <td>0.02</td>\n",
       "      <td>0.0</td>\n",
       "      <td>...</td>\n",
       "      <td>0.0</td>\n",
       "      <td>0.058824</td>\n",
       "      <td>0.000000</td>\n",
       "      <td>0.06</td>\n",
       "      <td>0.000000</td>\n",
       "      <td>0.000000</td>\n",
       "      <td>0.083333</td>\n",
       "      <td>0.000000</td>\n",
       "      <td>0.02</td>\n",
       "      <td>0.0</td>\n",
       "    </tr>\n",
       "    <tr>\n",
       "      <th>1-X-global-X-all_purine_synthesis</th>\n",
       "      <td>0.0</td>\n",
       "      <td>0.0</td>\n",
       "      <td>0.000</td>\n",
       "      <td>0.00</td>\n",
       "      <td>0.000000</td>\n",
       "      <td>0.000000</td>\n",
       "      <td>0.000000</td>\n",
       "      <td>0.0</td>\n",
       "      <td>0.06</td>\n",
       "      <td>0.0</td>\n",
       "      <td>...</td>\n",
       "      <td>0.0</td>\n",
       "      <td>0.000000</td>\n",
       "      <td>0.000000</td>\n",
       "      <td>0.02</td>\n",
       "      <td>0.000000</td>\n",
       "      <td>0.000000</td>\n",
       "      <td>0.000000</td>\n",
       "      <td>0.000000</td>\n",
       "      <td>0.00</td>\n",
       "      <td>0.0</td>\n",
       "    </tr>\n",
       "    <tr>\n",
       "      <th>2-X-global-X-all_ethanol_metabolism</th>\n",
       "      <td>0.0</td>\n",
       "      <td>0.0</td>\n",
       "      <td>0.000</td>\n",
       "      <td>0.00</td>\n",
       "      <td>0.000000</td>\n",
       "      <td>0.000000</td>\n",
       "      <td>0.000000</td>\n",
       "      <td>0.0</td>\n",
       "      <td>0.00</td>\n",
       "      <td>0.0</td>\n",
       "      <td>...</td>\n",
       "      <td>0.0</td>\n",
       "      <td>0.029412</td>\n",
       "      <td>0.000000</td>\n",
       "      <td>0.00</td>\n",
       "      <td>0.000000</td>\n",
       "      <td>0.000000</td>\n",
       "      <td>0.000000</td>\n",
       "      <td>0.000000</td>\n",
       "      <td>0.02</td>\n",
       "      <td>0.0</td>\n",
       "    </tr>\n",
       "    <tr>\n",
       "      <th>3-X-global-X-all_amino-sugar-nucleotide-sugar_metabolism</th>\n",
       "      <td>0.0</td>\n",
       "      <td>0.0</td>\n",
       "      <td>0.000</td>\n",
       "      <td>0.02</td>\n",
       "      <td>0.000000</td>\n",
       "      <td>0.000000</td>\n",
       "      <td>0.000000</td>\n",
       "      <td>0.0</td>\n",
       "      <td>0.06</td>\n",
       "      <td>0.0</td>\n",
       "      <td>...</td>\n",
       "      <td>0.0</td>\n",
       "      <td>0.000000</td>\n",
       "      <td>0.055556</td>\n",
       "      <td>0.00</td>\n",
       "      <td>0.000000</td>\n",
       "      <td>0.041667</td>\n",
       "      <td>0.041667</td>\n",
       "      <td>0.000000</td>\n",
       "      <td>0.04</td>\n",
       "      <td>0.0</td>\n",
       "    </tr>\n",
       "    <tr>\n",
       "      <th>4-X-global-X-all_steroid_metabolism</th>\n",
       "      <td>0.0</td>\n",
       "      <td>0.0</td>\n",
       "      <td>0.000</td>\n",
       "      <td>0.00</td>\n",
       "      <td>0.000000</td>\n",
       "      <td>0.000000</td>\n",
       "      <td>0.000000</td>\n",
       "      <td>0.0</td>\n",
       "      <td>0.00</td>\n",
       "      <td>0.0</td>\n",
       "      <td>...</td>\n",
       "      <td>0.0</td>\n",
       "      <td>0.000000</td>\n",
       "      <td>0.000000</td>\n",
       "      <td>0.00</td>\n",
       "      <td>0.000000</td>\n",
       "      <td>0.083333</td>\n",
       "      <td>0.000000</td>\n",
       "      <td>0.000000</td>\n",
       "      <td>0.00</td>\n",
       "      <td>0.0</td>\n",
       "    </tr>\n",
       "    <tr>\n",
       "      <th>...</th>\n",
       "      <td>...</td>\n",
       "      <td>...</td>\n",
       "      <td>...</td>\n",
       "      <td>...</td>\n",
       "      <td>...</td>\n",
       "      <td>...</td>\n",
       "      <td>...</td>\n",
       "      <td>...</td>\n",
       "      <td>...</td>\n",
       "      <td>...</td>\n",
       "      <td>...</td>\n",
       "      <td>...</td>\n",
       "      <td>...</td>\n",
       "      <td>...</td>\n",
       "      <td>...</td>\n",
       "      <td>...</td>\n",
       "      <td>...</td>\n",
       "      <td>...</td>\n",
       "      <td>...</td>\n",
       "      <td>...</td>\n",
       "      <td>...</td>\n",
       "    </tr>\n",
       "    <tr>\n",
       "      <th>191-X-mast-X-mast_granule-exocytosis</th>\n",
       "      <td>0.0</td>\n",
       "      <td>0.0</td>\n",
       "      <td>0.000</td>\n",
       "      <td>0.00</td>\n",
       "      <td>0.076923</td>\n",
       "      <td>0.000000</td>\n",
       "      <td>0.000000</td>\n",
       "      <td>0.0</td>\n",
       "      <td>0.00</td>\n",
       "      <td>0.0</td>\n",
       "      <td>...</td>\n",
       "      <td>0.0</td>\n",
       "      <td>0.000000</td>\n",
       "      <td>0.000000</td>\n",
       "      <td>0.00</td>\n",
       "      <td>0.027027</td>\n",
       "      <td>0.000000</td>\n",
       "      <td>0.000000</td>\n",
       "      <td>0.047619</td>\n",
       "      <td>0.00</td>\n",
       "      <td>0.0</td>\n",
       "    </tr>\n",
       "    <tr>\n",
       "      <th>192-X-mast-X-192</th>\n",
       "      <td>0.0</td>\n",
       "      <td>0.0</td>\n",
       "      <td>0.000</td>\n",
       "      <td>0.00</td>\n",
       "      <td>0.000000</td>\n",
       "      <td>0.000000</td>\n",
       "      <td>0.166667</td>\n",
       "      <td>0.0</td>\n",
       "      <td>0.06</td>\n",
       "      <td>0.0</td>\n",
       "      <td>...</td>\n",
       "      <td>0.0</td>\n",
       "      <td>0.000000</td>\n",
       "      <td>0.000000</td>\n",
       "      <td>0.00</td>\n",
       "      <td>0.027027</td>\n",
       "      <td>0.000000</td>\n",
       "      <td>0.000000</td>\n",
       "      <td>0.000000</td>\n",
       "      <td>0.02</td>\n",
       "      <td>0.0</td>\n",
       "    </tr>\n",
       "    <tr>\n",
       "      <th>193-X-pDC-X-p-DC_CpG-TLR9_response</th>\n",
       "      <td>0.0</td>\n",
       "      <td>0.0</td>\n",
       "      <td>0.000</td>\n",
       "      <td>0.00</td>\n",
       "      <td>0.000000</td>\n",
       "      <td>0.000000</td>\n",
       "      <td>0.000000</td>\n",
       "      <td>0.0</td>\n",
       "      <td>0.04</td>\n",
       "      <td>0.0</td>\n",
       "      <td>...</td>\n",
       "      <td>0.0</td>\n",
       "      <td>0.000000</td>\n",
       "      <td>0.000000</td>\n",
       "      <td>0.00</td>\n",
       "      <td>0.000000</td>\n",
       "      <td>0.000000</td>\n",
       "      <td>0.000000</td>\n",
       "      <td>0.000000</td>\n",
       "      <td>0.02</td>\n",
       "      <td>0.0</td>\n",
       "    </tr>\n",
       "    <tr>\n",
       "      <th>194-X-pDC-X-194</th>\n",
       "      <td>0.2</td>\n",
       "      <td>0.0</td>\n",
       "      <td>0.000</td>\n",
       "      <td>0.00</td>\n",
       "      <td>0.000000</td>\n",
       "      <td>0.000000</td>\n",
       "      <td>0.000000</td>\n",
       "      <td>0.0</td>\n",
       "      <td>0.06</td>\n",
       "      <td>0.0</td>\n",
       "      <td>...</td>\n",
       "      <td>0.0</td>\n",
       "      <td>0.000000</td>\n",
       "      <td>0.000000</td>\n",
       "      <td>0.00</td>\n",
       "      <td>0.000000</td>\n",
       "      <td>0.000000</td>\n",
       "      <td>0.000000</td>\n",
       "      <td>0.000000</td>\n",
       "      <td>0.02</td>\n",
       "      <td>0.0</td>\n",
       "    </tr>\n",
       "    <tr>\n",
       "      <th>195-X-plasma-X-195</th>\n",
       "      <td>0.0</td>\n",
       "      <td>0.0</td>\n",
       "      <td>0.125</td>\n",
       "      <td>0.02</td>\n",
       "      <td>0.000000</td>\n",
       "      <td>0.000000</td>\n",
       "      <td>0.000000</td>\n",
       "      <td>0.0</td>\n",
       "      <td>0.08</td>\n",
       "      <td>0.0</td>\n",
       "      <td>...</td>\n",
       "      <td>0.0</td>\n",
       "      <td>0.000000</td>\n",
       "      <td>0.000000</td>\n",
       "      <td>0.02</td>\n",
       "      <td>0.027027</td>\n",
       "      <td>0.000000</td>\n",
       "      <td>0.000000</td>\n",
       "      <td>0.000000</td>\n",
       "      <td>0.02</td>\n",
       "      <td>0.0</td>\n",
       "    </tr>\n",
       "  </tbody>\n",
       "</table>\n",
       "<p>196 rows × 181 columns</p>\n",
       "</div>"
      ],
      "text/plain": [
       "                                                    B_Breg_UP  \\\n",
       "0-X-global-X-all_biotin_metabolism                        0.0   \n",
       "1-X-global-X-all_purine_synthesis                         0.0   \n",
       "2-X-global-X-all_ethanol_metabolism                       0.0   \n",
       "3-X-global-X-all_amino-sugar-nucleotide-sugar_m...        0.0   \n",
       "4-X-global-X-all_steroid_metabolism                       0.0   \n",
       "...                                                       ...   \n",
       "191-X-mast-X-mast_granule-exocytosis                      0.0   \n",
       "192-X-mast-X-192                                          0.0   \n",
       "193-X-pDC-X-p-DC_CpG-TLR9_response                        0.0   \n",
       "194-X-pDC-X-194                                           0.2   \n",
       "195-X-plasma-X-195                                        0.0   \n",
       "\n",
       "                                                    B_effector-2_UP  \\\n",
       "0-X-global-X-all_biotin_metabolism                              0.0   \n",
       "1-X-global-X-all_purine_synthesis                               0.0   \n",
       "2-X-global-X-all_ethanol_metabolism                             0.0   \n",
       "3-X-global-X-all_amino-sugar-nucleotide-sugar_m...              0.0   \n",
       "4-X-global-X-all_steroid_metabolism                             0.0   \n",
       "...                                                             ...   \n",
       "191-X-mast-X-mast_granule-exocytosis                            0.0   \n",
       "192-X-mast-X-192                                                0.0   \n",
       "193-X-pDC-X-p-DC_CpG-TLR9_response                              0.0   \n",
       "194-X-pDC-X-194                                                 0.0   \n",
       "195-X-plasma-X-195                                              0.0   \n",
       "\n",
       "                                                    B_effector-1_UP  \\\n",
       "0-X-global-X-all_biotin_metabolism                            0.000   \n",
       "1-X-global-X-all_purine_synthesis                             0.000   \n",
       "2-X-global-X-all_ethanol_metabolism                           0.000   \n",
       "3-X-global-X-all_amino-sugar-nucleotide-sugar_m...            0.000   \n",
       "4-X-global-X-all_steroid_metabolism                           0.000   \n",
       "...                                                             ...   \n",
       "191-X-mast-X-mast_granule-exocytosis                          0.000   \n",
       "192-X-mast-X-192                                              0.000   \n",
       "193-X-pDC-X-p-DC_CpG-TLR9_response                            0.000   \n",
       "194-X-pDC-X-194                                               0.000   \n",
       "195-X-plasma-X-195                                            0.125   \n",
       "\n",
       "                                                    B_IgM-ligation_response  \\\n",
       "0-X-global-X-all_biotin_metabolism                                     0.04   \n",
       "1-X-global-X-all_purine_synthesis                                      0.00   \n",
       "2-X-global-X-all_ethanol_metabolism                                    0.00   \n",
       "3-X-global-X-all_amino-sugar-nucleotide-sugar_m...                     0.02   \n",
       "4-X-global-X-all_steroid_metabolism                                    0.00   \n",
       "...                                                                     ...   \n",
       "191-X-mast-X-mast_granule-exocytosis                                   0.00   \n",
       "192-X-mast-X-192                                                       0.00   \n",
       "193-X-pDC-X-p-DC_CpG-TLR9_response                                     0.00   \n",
       "194-X-pDC-X-194                                                        0.00   \n",
       "195-X-plasma-X-195                                                     0.02   \n",
       "\n",
       "                                                    CD4-T_IL12_response  \\\n",
       "0-X-global-X-all_biotin_metabolism                             0.000000   \n",
       "1-X-global-X-all_purine_synthesis                              0.000000   \n",
       "2-X-global-X-all_ethanol_metabolism                            0.000000   \n",
       "3-X-global-X-all_amino-sugar-nucleotide-sugar_m...             0.000000   \n",
       "4-X-global-X-all_steroid_metabolism                            0.000000   \n",
       "...                                                                 ...   \n",
       "191-X-mast-X-mast_granule-exocytosis                           0.076923   \n",
       "192-X-mast-X-192                                               0.000000   \n",
       "193-X-pDC-X-p-DC_CpG-TLR9_response                             0.000000   \n",
       "194-X-pDC-X-194                                                0.000000   \n",
       "195-X-plasma-X-195                                             0.000000   \n",
       "\n",
       "                                                    TNK_IL2_response  \\\n",
       "0-X-global-X-all_biotin_metabolism                          0.055556   \n",
       "1-X-global-X-all_purine_synthesis                           0.000000   \n",
       "2-X-global-X-all_ethanol_metabolism                         0.000000   \n",
       "3-X-global-X-all_amino-sugar-nucleotide-sugar_m...          0.000000   \n",
       "4-X-global-X-all_steroid_metabolism                         0.000000   \n",
       "...                                                              ...   \n",
       "191-X-mast-X-mast_granule-exocytosis                        0.000000   \n",
       "192-X-mast-X-192                                            0.000000   \n",
       "193-X-pDC-X-p-DC_CpG-TLR9_response                          0.000000   \n",
       "194-X-pDC-X-194                                             0.000000   \n",
       "195-X-plasma-X-195                                          0.000000   \n",
       "\n",
       "                                                    CD4-T_TH22_UP  \\\n",
       "0-X-global-X-all_biotin_metabolism                       0.000000   \n",
       "1-X-global-X-all_purine_synthesis                        0.000000   \n",
       "2-X-global-X-all_ethanol_metabolism                      0.000000   \n",
       "3-X-global-X-all_amino-sugar-nucleotide-sugar_m...       0.000000   \n",
       "4-X-global-X-all_steroid_metabolism                      0.000000   \n",
       "...                                                           ...   \n",
       "191-X-mast-X-mast_granule-exocytosis                     0.000000   \n",
       "192-X-mast-X-192                                         0.166667   \n",
       "193-X-pDC-X-p-DC_CpG-TLR9_response                       0.000000   \n",
       "194-X-pDC-X-194                                          0.000000   \n",
       "195-X-plasma-X-195                                       0.000000   \n",
       "\n",
       "                                                    CD4-T_TH17_UP  \\\n",
       "0-X-global-X-all_biotin_metabolism                            0.0   \n",
       "1-X-global-X-all_purine_synthesis                             0.0   \n",
       "2-X-global-X-all_ethanol_metabolism                           0.0   \n",
       "3-X-global-X-all_amino-sugar-nucleotide-sugar_m...            0.0   \n",
       "4-X-global-X-all_steroid_metabolism                           0.0   \n",
       "...                                                           ...   \n",
       "191-X-mast-X-mast_granule-exocytosis                          0.0   \n",
       "192-X-mast-X-192                                              0.0   \n",
       "193-X-pDC-X-p-DC_CpG-TLR9_response                            0.0   \n",
       "194-X-pDC-X-194                                               0.0   \n",
       "195-X-plasma-X-195                                            0.0   \n",
       "\n",
       "                                                    TNK_IL2-STAT5-signaling  \\\n",
       "0-X-global-X-all_biotin_metabolism                                     0.02   \n",
       "1-X-global-X-all_purine_synthesis                                      0.06   \n",
       "2-X-global-X-all_ethanol_metabolism                                    0.00   \n",
       "3-X-global-X-all_amino-sugar-nucleotide-sugar_m...                     0.06   \n",
       "4-X-global-X-all_steroid_metabolism                                    0.00   \n",
       "...                                                                     ...   \n",
       "191-X-mast-X-mast_granule-exocytosis                                   0.00   \n",
       "192-X-mast-X-192                                                       0.06   \n",
       "193-X-pDC-X-p-DC_CpG-TLR9_response                                     0.04   \n",
       "194-X-pDC-X-194                                                        0.06   \n",
       "195-X-plasma-X-195                                                     0.08   \n",
       "\n",
       "                                                    T_IL21_response  ...  \\\n",
       "0-X-global-X-all_biotin_metabolism                              0.0  ...   \n",
       "1-X-global-X-all_purine_synthesis                               0.0  ...   \n",
       "2-X-global-X-all_ethanol_metabolism                             0.0  ...   \n",
       "3-X-global-X-all_amino-sugar-nucleotide-sugar_m...              0.0  ...   \n",
       "4-X-global-X-all_steroid_metabolism                             0.0  ...   \n",
       "...                                                             ...  ...   \n",
       "191-X-mast-X-mast_granule-exocytosis                            0.0  ...   \n",
       "192-X-mast-X-192                                                0.0  ...   \n",
       "193-X-pDC-X-p-DC_CpG-TLR9_response                              0.0  ...   \n",
       "194-X-pDC-X-194                                                 0.0  ...   \n",
       "195-X-plasma-X-195                                              0.0  ...   \n",
       "\n",
       "                                                    all_thiamin_metabolism  \\\n",
       "0-X-global-X-all_biotin_metabolism                                     0.0   \n",
       "1-X-global-X-all_purine_synthesis                                      0.0   \n",
       "2-X-global-X-all_ethanol_metabolism                                    0.0   \n",
       "3-X-global-X-all_amino-sugar-nucleotide-sugar_m...                     0.0   \n",
       "4-X-global-X-all_steroid_metabolism                                    0.0   \n",
       "...                                                                    ...   \n",
       "191-X-mast-X-mast_granule-exocytosis                                   0.0   \n",
       "192-X-mast-X-192                                                       0.0   \n",
       "193-X-pDC-X-p-DC_CpG-TLR9_response                                     0.0   \n",
       "194-X-pDC-X-194                                                        0.0   \n",
       "195-X-plasma-X-195                                                     0.0   \n",
       "\n",
       "                                                    all_NOTCH_signaling  \\\n",
       "0-X-global-X-all_biotin_metabolism                             0.058824   \n",
       "1-X-global-X-all_purine_synthesis                              0.000000   \n",
       "2-X-global-X-all_ethanol_metabolism                            0.029412   \n",
       "3-X-global-X-all_amino-sugar-nucleotide-sugar_m...             0.000000   \n",
       "4-X-global-X-all_steroid_metabolism                            0.000000   \n",
       "...                                                                 ...   \n",
       "191-X-mast-X-mast_granule-exocytosis                           0.000000   \n",
       "192-X-mast-X-192                                               0.000000   \n",
       "193-X-pDC-X-p-DC_CpG-TLR9_response                             0.000000   \n",
       "194-X-pDC-X-194                                                0.000000   \n",
       "195-X-plasma-X-195                                             0.000000   \n",
       "\n",
       "                                                    all_galactose_metabolism  \\\n",
       "0-X-global-X-all_biotin_metabolism                                  0.000000   \n",
       "1-X-global-X-all_purine_synthesis                                   0.000000   \n",
       "2-X-global-X-all_ethanol_metabolism                                 0.000000   \n",
       "3-X-global-X-all_amino-sugar-nucleotide-sugar_m...                  0.055556   \n",
       "4-X-global-X-all_steroid_metabolism                                 0.000000   \n",
       "...                                                                      ...   \n",
       "191-X-mast-X-mast_granule-exocytosis                                0.000000   \n",
       "192-X-mast-X-192                                                    0.000000   \n",
       "193-X-pDC-X-p-DC_CpG-TLR9_response                                  0.000000   \n",
       "194-X-pDC-X-194                                                     0.000000   \n",
       "195-X-plasma-X-195                                                  0.000000   \n",
       "\n",
       "                                                    all_MYC_targets  \\\n",
       "0-X-global-X-all_biotin_metabolism                             0.06   \n",
       "1-X-global-X-all_purine_synthesis                              0.02   \n",
       "2-X-global-X-all_ethanol_metabolism                            0.00   \n",
       "3-X-global-X-all_amino-sugar-nucleotide-sugar_m...             0.00   \n",
       "4-X-global-X-all_steroid_metabolism                            0.00   \n",
       "...                                                             ...   \n",
       "191-X-mast-X-mast_granule-exocytosis                           0.00   \n",
       "192-X-mast-X-192                                               0.00   \n",
       "193-X-pDC-X-p-DC_CpG-TLR9_response                             0.00   \n",
       "194-X-pDC-X-194                                                0.00   \n",
       "195-X-plasma-X-195                                             0.02   \n",
       "\n",
       "                                                    all_GLU_metabolism  \\\n",
       "0-X-global-X-all_biotin_metabolism                            0.000000   \n",
       "1-X-global-X-all_purine_synthesis                             0.000000   \n",
       "2-X-global-X-all_ethanol_metabolism                           0.000000   \n",
       "3-X-global-X-all_amino-sugar-nucleotide-sugar_m...            0.000000   \n",
       "4-X-global-X-all_steroid_metabolism                           0.000000   \n",
       "...                                                                ...   \n",
       "191-X-mast-X-mast_granule-exocytosis                          0.027027   \n",
       "192-X-mast-X-192                                              0.027027   \n",
       "193-X-pDC-X-p-DC_CpG-TLR9_response                            0.000000   \n",
       "194-X-pDC-X-194                                               0.000000   \n",
       "195-X-plasma-X-195                                            0.027027   \n",
       "\n",
       "                                                    all_fatty-acid_synthesis  \\\n",
       "0-X-global-X-all_biotin_metabolism                                  0.000000   \n",
       "1-X-global-X-all_purine_synthesis                                   0.000000   \n",
       "2-X-global-X-all_ethanol_metabolism                                 0.000000   \n",
       "3-X-global-X-all_amino-sugar-nucleotide-sugar_m...                  0.041667   \n",
       "4-X-global-X-all_steroid_metabolism                                 0.083333   \n",
       "...                                                                      ...   \n",
       "191-X-mast-X-mast_granule-exocytosis                                0.000000   \n",
       "192-X-mast-X-192                                                    0.000000   \n",
       "193-X-pDC-X-p-DC_CpG-TLR9_response                                  0.000000   \n",
       "194-X-pDC-X-194                                                     0.000000   \n",
       "195-X-plasma-X-195                                                  0.000000   \n",
       "\n",
       "                                                    all_glycolysis  \\\n",
       "0-X-global-X-all_biotin_metabolism                        0.083333   \n",
       "1-X-global-X-all_purine_synthesis                         0.000000   \n",
       "2-X-global-X-all_ethanol_metabolism                       0.000000   \n",
       "3-X-global-X-all_amino-sugar-nucleotide-sugar_m...        0.041667   \n",
       "4-X-global-X-all_steroid_metabolism                       0.000000   \n",
       "...                                                            ...   \n",
       "191-X-mast-X-mast_granule-exocytosis                      0.000000   \n",
       "192-X-mast-X-192                                          0.000000   \n",
       "193-X-pDC-X-p-DC_CpG-TLR9_response                        0.000000   \n",
       "194-X-pDC-X-194                                           0.000000   \n",
       "195-X-plasma-X-195                                        0.000000   \n",
       "\n",
       "                                                    all_glutathione_metabolism  \\\n",
       "0-X-global-X-all_biotin_metabolism                                    0.000000   \n",
       "1-X-global-X-all_purine_synthesis                                     0.000000   \n",
       "2-X-global-X-all_ethanol_metabolism                                   0.000000   \n",
       "3-X-global-X-all_amino-sugar-nucleotide-sugar_m...                    0.000000   \n",
       "4-X-global-X-all_steroid_metabolism                                   0.000000   \n",
       "...                                                                        ...   \n",
       "191-X-mast-X-mast_granule-exocytosis                                  0.047619   \n",
       "192-X-mast-X-192                                                      0.000000   \n",
       "193-X-pDC-X-p-DC_CpG-TLR9_response                                    0.000000   \n",
       "194-X-pDC-X-194                                                       0.000000   \n",
       "195-X-plasma-X-195                                                    0.000000   \n",
       "\n",
       "                                                    all_IL6-JAK-STAT3_signaling  \\\n",
       "0-X-global-X-all_biotin_metabolism                                         0.02   \n",
       "1-X-global-X-all_purine_synthesis                                          0.00   \n",
       "2-X-global-X-all_ethanol_metabolism                                        0.02   \n",
       "3-X-global-X-all_amino-sugar-nucleotide-sugar_m...                         0.04   \n",
       "4-X-global-X-all_steroid_metabolism                                        0.00   \n",
       "...                                                                         ...   \n",
       "191-X-mast-X-mast_granule-exocytosis                                       0.00   \n",
       "192-X-mast-X-192                                                           0.02   \n",
       "193-X-pDC-X-p-DC_CpG-TLR9_response                                         0.02   \n",
       "194-X-pDC-X-194                                                            0.02   \n",
       "195-X-plasma-X-195                                                         0.02   \n",
       "\n",
       "                                                    all_autophagy-chaperone-mediated  \n",
       "0-X-global-X-all_biotin_metabolism                                               0.0  \n",
       "1-X-global-X-all_purine_synthesis                                                0.0  \n",
       "2-X-global-X-all_ethanol_metabolism                                              0.0  \n",
       "3-X-global-X-all_amino-sugar-nucleotide-sugar_m...                               0.0  \n",
       "4-X-global-X-all_steroid_metabolism                                              0.0  \n",
       "...                                                                              ...  \n",
       "191-X-mast-X-mast_granule-exocytosis                                             0.0  \n",
       "192-X-mast-X-192                                                                 0.0  \n",
       "193-X-pDC-X-p-DC_CpG-TLR9_response                                               0.0  \n",
       "194-X-pDC-X-194                                                                  0.0  \n",
       "195-X-plasma-X-195                                                               0.0  \n",
       "\n",
       "[196 rows x 181 columns]"
      ]
     },
     "execution_count": 21,
     "metadata": {},
     "output_type": "execute_result"
    }
   ],
   "source": [
    "adata.uns['SPECTRA_overlap']"
   ]
  },
  {
   "cell_type": "markdown",
   "metadata": {
    "id": "jDCr3eXVoLAQ"
   },
   "source": [
    "Examine the parameters of the underlying internal model:"
   ]
  },
  {
   "cell_type": "code",
   "execution_count": 22,
   "metadata": {
    "id": "OweMPv-foLAQ"
   },
   "outputs": [
    {
     "data": {
      "text/plain": [
       "SPECTRA(\n",
       "  (theta): ParameterDict(\n",
       "      (global): Parameter containing: [torch.FloatTensor of size 6392x151]\n",
       "      (B_GC): Parameter containing: [torch.FloatTensor of size 6392x1]\n",
       "      (B_memory): Parameter containing: [torch.FloatTensor of size 6392x5]\n",
       "      (B_naive): Parameter containing: [torch.FloatTensor of size 6392x1]\n",
       "      (CD4_T): Parameter containing: [torch.FloatTensor of size 6392x12]\n",
       "      (CD8_T): Parameter containing: [torch.FloatTensor of size 6392x7]\n",
       "      (DC): Parameter containing: [torch.FloatTensor of size 6392x3]\n",
       "      (ILC3): Parameter containing: [torch.FloatTensor of size 6392x1]\n",
       "      (MDC): Parameter containing: [torch.FloatTensor of size 6392x6]\n",
       "      (NK): Parameter containing: [torch.FloatTensor of size 6392x1]\n",
       "      (Treg): Parameter containing: [torch.FloatTensor of size 6392x2]\n",
       "      (gdT): Parameter containing: [torch.FloatTensor of size 6392x1]\n",
       "      (mast): Parameter containing: [torch.FloatTensor of size 6392x2]\n",
       "      (pDC): Parameter containing: [torch.FloatTensor of size 6392x2]\n",
       "      (plasma): Parameter containing: [torch.FloatTensor of size 6392x1]\n",
       "  )\n",
       "  (alpha): ParameterDict(\n",
       "      (B_GC): Parameter containing: [torch.FloatTensor of size 7x152]\n",
       "      (B_memory): Parameter containing: [torch.FloatTensor of size 51x156]\n",
       "      (B_naive): Parameter containing: [torch.FloatTensor of size 19x152]\n",
       "      (CD4_T): Parameter containing: [torch.FloatTensor of size 264x163]\n",
       "      (CD8_T): Parameter containing: [torch.FloatTensor of size 324x158]\n",
       "      (DC): Parameter containing: [torch.FloatTensor of size 19x154]\n",
       "      (ILC3): Parameter containing: [torch.FloatTensor of size 2x152]\n",
       "      (MDC): Parameter containing: [torch.FloatTensor of size 143x157]\n",
       "      (NK): Parameter containing: [torch.FloatTensor of size 37x152]\n",
       "      (Treg): Parameter containing: [torch.FloatTensor of size 70x153]\n",
       "      (gdT): Parameter containing: [torch.FloatTensor of size 12x152]\n",
       "      (mast): Parameter containing: [torch.FloatTensor of size 10x153]\n",
       "      (pDC): Parameter containing: [torch.FloatTensor of size 10x153]\n",
       "      (plasma): Parameter containing: [torch.FloatTensor of size 32x152]\n",
       "  )\n",
       "  (eta): ParameterDict(\n",
       "      (global): Parameter containing: [torch.FloatTensor of size 151x151]\n",
       "      (B_GC): Parameter containing: [torch.FloatTensor of size 1x1]\n",
       "      (B_memory): Parameter containing: [torch.FloatTensor of size 5x5]\n",
       "      (B_naive): Parameter containing: [torch.FloatTensor of size 1x1]\n",
       "      (CD4_T): Parameter containing: [torch.FloatTensor of size 12x12]\n",
       "      (CD8_T): Parameter containing: [torch.FloatTensor of size 7x7]\n",
       "      (DC): Parameter containing: [torch.FloatTensor of size 3x3]\n",
       "      (ILC3): Parameter containing: [torch.FloatTensor of size 1x1]\n",
       "      (MDC): Parameter containing: [torch.FloatTensor of size 6x6]\n",
       "      (NK): Parameter containing: [torch.FloatTensor of size 1x1]\n",
       "      (Treg): Parameter containing: [torch.FloatTensor of size 2x2]\n",
       "      (gdT): Parameter containing: [torch.FloatTensor of size 1x1]\n",
       "      (mast): Parameter containing: [torch.FloatTensor of size 2x2]\n",
       "      (pDC): Parameter containing: [torch.FloatTensor of size 2x2]\n",
       "      (plasma): Parameter containing: [torch.FloatTensor of size 1x1]\n",
       "  )\n",
       "  (gene_scaling): ParameterDict(\n",
       "      (global): Parameter containing: [torch.FloatTensor of size 6392]\n",
       "      (B_GC): Parameter containing: [torch.FloatTensor of size 6392]\n",
       "      (B_memory): Parameter containing: [torch.FloatTensor of size 6392]\n",
       "      (B_naive): Parameter containing: [torch.FloatTensor of size 6392]\n",
       "      (CD4_T): Parameter containing: [torch.FloatTensor of size 6392]\n",
       "      (CD8_T): Parameter containing: [torch.FloatTensor of size 6392]\n",
       "      (DC): Parameter containing: [torch.FloatTensor of size 6392]\n",
       "      (ILC3): Parameter containing: [torch.FloatTensor of size 6392]\n",
       "      (MDC): Parameter containing: [torch.FloatTensor of size 6392]\n",
       "      (NK): Parameter containing: [torch.FloatTensor of size 6392]\n",
       "      (Treg): Parameter containing: [torch.FloatTensor of size 6392]\n",
       "      (gdT): Parameter containing: [torch.FloatTensor of size 6392]\n",
       "      (mast): Parameter containing: [torch.FloatTensor of size 6392]\n",
       "      (pDC): Parameter containing: [torch.FloatTensor of size 6392]\n",
       "      (plasma): Parameter containing: [torch.FloatTensor of size 6392]\n",
       "  )\n",
       "  (kappa): ParameterDict(\n",
       "      (global): Parameter containing: [torch.FloatTensor of size ]\n",
       "      (B_GC): Parameter containing: [torch.FloatTensor of size ]\n",
       "      (B_memory): Parameter containing: [torch.FloatTensor of size ]\n",
       "      (B_naive): Parameter containing: [torch.FloatTensor of size ]\n",
       "      (CD4_T): Parameter containing: [torch.FloatTensor of size ]\n",
       "      (CD8_T): Parameter containing: [torch.FloatTensor of size ]\n",
       "      (DC): Parameter containing: [torch.FloatTensor of size ]\n",
       "      (ILC3): Parameter containing: [torch.FloatTensor of size ]\n",
       "      (MDC): Parameter containing: [torch.FloatTensor of size ]\n",
       "      (NK): Parameter containing: [torch.FloatTensor of size ]\n",
       "      (Treg): Parameter containing: [torch.FloatTensor of size ]\n",
       "      (gdT): Parameter containing: [torch.FloatTensor of size ]\n",
       "      (mast): Parameter containing: [torch.FloatTensor of size ]\n",
       "      (pDC): Parameter containing: [torch.FloatTensor of size ]\n",
       "      (plasma): Parameter containing: [torch.FloatTensor of size ]\n",
       "  )\n",
       "  (rho): ParameterDict(\n",
       "      (B_GC): Parameter containing: [torch.DoubleTensor of size ]\n",
       "      (B_memory): Parameter containing: [torch.DoubleTensor of size ]\n",
       "      (B_naive): Parameter containing: [torch.DoubleTensor of size ]\n",
       "      (CD4_T): Parameter containing: [torch.DoubleTensor of size ]\n",
       "      (CD8_T): Parameter containing: [torch.DoubleTensor of size ]\n",
       "      (DC): Parameter containing: [torch.DoubleTensor of size ]\n",
       "      (ILC3): Parameter containing: [torch.DoubleTensor of size ]\n",
       "      (MDC): Parameter containing: [torch.DoubleTensor of size ]\n",
       "      (NK): Parameter containing: [torch.DoubleTensor of size ]\n",
       "      (Treg): Parameter containing: [torch.DoubleTensor of size ]\n",
       "      (gdT): Parameter containing: [torch.DoubleTensor of size ]\n",
       "      (global): Parameter containing: [torch.DoubleTensor of size ]\n",
       "      (mast): Parameter containing: [torch.DoubleTensor of size ]\n",
       "      (pDC): Parameter containing: [torch.DoubleTensor of size ]\n",
       "      (plasma): Parameter containing: [torch.DoubleTensor of size ]\n",
       "  )\n",
       ")"
      ]
     },
     "execution_count": 22,
     "metadata": {},
     "output_type": "execute_result"
    }
   ],
   "source": [
    "model.internal_model"
   ]
  },
  {
   "cell_type": "code",
   "execution_count": 23,
   "metadata": {
    "id": "G-cxlAuBoLAQ"
   },
   "outputs": [
    {
     "ename": "KeyboardInterrupt",
     "evalue": "",
     "output_type": "error",
     "traceback": [
      "\u001b[0;31m---------------------------------------------------------------------------\u001b[0m",
      "\u001b[0;31mKeyboardInterrupt\u001b[0m                         Traceback (most recent call last)",
      "Cell \u001b[0;32mIn[23], line 4\u001b[0m\n\u001b[1;32m      2\u001b[0m \u001b[38;5;28;01mimport\u001b[39;00m\u001b[38;5;250m \u001b[39m\u001b[38;5;21;01mpickle\u001b[39;00m\n\u001b[1;32m      3\u001b[0m \u001b[38;5;28;01mwith\u001b[39;00m \u001b[38;5;28mopen\u001b[39m(\u001b[38;5;124m'\u001b[39m\u001b[38;5;124mspectra_model.pickle\u001b[39m\u001b[38;5;124m'\u001b[39m, \u001b[38;5;124m'\u001b[39m\u001b[38;5;124mwb\u001b[39m\u001b[38;5;124m'\u001b[39m) \u001b[38;5;28;01mas\u001b[39;00m f:\n\u001b[0;32m----> 4\u001b[0m     pickle\u001b[38;5;241m.\u001b[39mdump(model, f, pickle\u001b[38;5;241m.\u001b[39mHIGHEST_PROTOCOL)\n",
      "\u001b[0;31mKeyboardInterrupt\u001b[0m: "
     ]
    }
   ],
   "source": [
    "#You can save the model like this (this way consumes a lot of storage but does not require the model parameters to load)\n",
    "import pickle\n",
    "with open('spectra_model.pickle', 'wb') as f:\n",
    "    pickle.dump(model, f, pickle.HIGHEST_PROTOCOL)"
   ]
  },
  {
   "cell_type": "code",
   "execution_count": null,
   "metadata": {
    "id": "U9tDy_UnoLAQ"
   },
   "outputs": [],
   "source": [
    "#and load it like this:\n",
    "with open('spectra_model.pickle', 'rb') as f:\n",
    "    model = pickle.load(f)"
   ]
  },
  {
   "cell_type": "code",
   "execution_count": null,
   "metadata": {
    "id": "UzPlqqlboLAQ"
   },
   "outputs": [],
   "source": [
    "#this way needs less storage but requires the original adata, annotations and cell type annotations to load the model again\n",
    "model.save('spectra_model_compact')"
   ]
  },
  {
   "cell_type": "code",
   "execution_count": null,
   "metadata": {
    "id": "HqeSS3qVoLAQ"
   },
   "outputs": [],
   "source": [
    "#load the model (you will need all the parameters indicated here)\n",
    "model = spc.load_from_pickle('spectra_model_compact',adata,gs_dict=annotations,cell_type_key='cell_type_annotations',\n",
    "                     )"
   ]
  },
  {
   "cell_type": "markdown",
   "metadata": {
    "id": "M85VkrlHoLAQ"
   },
   "source": [
    "**fit model without cell type annotations**\n",
    "\n",
    "You can also fit the model without using the cell type annotations. In this case, instead of a nested gene set annotation dictionary, supply a regular dictionary with gene set names as keys (str) and the gene sets as values (list of gene names/IDs which match the gene names/IDs in the adata.var_names)"
   ]
  },
  {
   "cell_type": "code",
   "execution_count": null,
   "metadata": {
    "id": "1Oj4aTjyoLAQ"
   },
   "outputs": [],
   "source": [
    "{'global':annotations['global']}"
   ]
  },
  {
   "cell_type": "code",
   "execution_count": null,
   "metadata": {
    "id": "H-UxhR2HoLAR"
   },
   "outputs": [],
   "source": [
    "#fit the model (We will run this with only 2 epochs to decrease runtime in this tutorial)\n",
    "model_global = spc.est_spectra(adata = adata, gene_set_dictionary = annotations['global'], # because we do not use the cell types\n",
    "                                                                                    # we will supply a regular dict\n",
    "                                                                                    # instead of the nested dict above\n",
    "                        use_highly_variable = True, cell_type_key =None, #\"cell_type_annotations\" ,\n",
    "                        use_weights = True, lam = 0.1,\n",
    "                        delta=0.001,kappa = 0.00001, rho = 0.00001,\n",
    "                        use_cell_types = False, #set to False to not use the cell type annotations\n",
    "                        n_top_vals = 25,\n",
    "                        clean_gs=True,\n",
    "                        label_factors=True,\n",
    "                        num_epochs=2 #for demonstration purposes we will only run 2 epochs, we recommend 10,000 epochs\n",
    "                       )\n",
    "\n"
   ]
  },
  {
   "cell_type": "code",
   "execution_count": null,
   "metadata": {
    "id": "9SPZrqPloLAR"
   },
   "outputs": [],
   "source": [
    "#show the labeled factors in the data:\n",
    "adata.uns['SPECTRA_overlap'].index"
   ]
  },
  {
   "cell_type": "code",
   "execution_count": null,
   "metadata": {
    "id": "4vXRdI4SzOq9"
   },
   "outputs": [],
   "source": [
    "#visualize factor cell scores (this is poorly fitted bc we only ran 2 epochs)\n",
    "factor_of_interest = adata.uns['SPECTRA_overlap'].index[80]\n",
    "print('plotting factor:',adata.uns['SPECTRA_overlap'].index[80])\n",
    "\n",
    "#add cell scores to obs\n",
    "cell_scores = adata.obsm['SPECTRA_cell_scores'][:,0].astype(float)\n",
    "adata.obs[factor_of_interest] = cell_scores\n",
    "sc.pl.umap(adata,color=factor_of_interest,s=30,vmax=np.quantile(cell_scores,0.98))"
   ]
  },
  {
   "cell_type": "code",
   "execution_count": null,
   "metadata": {
    "id": "FOU3kk63zQ7x"
   },
   "outputs": [],
   "source": [
    "#save the adata\n",
    "adata_save_path = 'adata_spectra.h5ad'#where to save the adata to\n",
    "adata.write(adata_save_path)\n",
    "print('Saved adata to:',adata_save_path)"
   ]
  },
  {
   "cell_type": "markdown",
   "metadata": {
    "id": "MLi-_2rUoLAR"
   },
   "source": [
    "# Accessing the fitted gene-gene graph"
   ]
  },
  {
   "cell_type": "markdown",
   "metadata": {
    "id": "ySI6256XoLAR"
   },
   "source": [
    "One outcome of fitting spectra is to fit a gene-gene graph where edges represent similarities between latent variables associated with each gene (a smoothed version of transcriptional similarity) To access this for say, TNK cells; use the following"
   ]
  },
  {
   "cell_type": "code",
   "execution_count": null,
   "metadata": {
    "id": "CAo7TUZwoLAR"
   },
   "outputs": [],
   "source": [
    "soft_graph = model_global.return_graph(ct = \"global\")\n",
    "soft_graph"
   ]
  },
  {
   "cell_type": "markdown",
   "metadata": {
    "id": "XfrlfsKfoLAR"
   },
   "source": [
    "for large numbers of genes its clumsy to visualize the whole graph - to visualize a subgraph formed around a particular list of genes, use:"
   ]
  },
  {
   "cell_type": "code",
   "execution_count": null,
   "metadata": {
    "id": "44EaHmfsoLAR"
   },
   "outputs": [],
   "source": [
    "gene_set = list(adata.uns['SPECTRA_markers'][0])\n",
    "out = spc.graph_network(adata, soft_graph, gene_set)\n",
    "\n",
    "#this will not show in Google Colaboratory but you can open the file manually outside Google Colaboratory\n",
    "#out.show(\"test_graph.html\")"
   ]
  },
  {
   "cell_type": "code",
   "execution_count": null,
   "metadata": {
    "id": "9V0RMT3hoLAR"
   },
   "outputs": [],
   "source": [
    "adata.uns['SPECTRA_markers'][0].shape"
   ]
  },
  {
   "cell_type": "markdown",
   "metadata": {
    "id": "MkK5GkXwoLAR"
   },
   "source": [
    "this will take N closest genes to your gene set and only visualize this subgraph. The interactive graph file gets saved as an html. To visualize multiple gene sets at the same time, we have a different version of the function that assigns a random color to each gene set:"
   ]
  },
  {
   "cell_type": "code",
   "execution_count": null,
   "metadata": {
    "id": "_xRIxLi8oLAR"
   },
   "outputs": [],
   "source": [
    "#gene sets is a list of lists\n",
    "gene_set_2 = list(adata.uns['SPECTRA_markers'][1])\n",
    "gene_sets = [gene_set,gene_set_2]\n",
    "out = spc.graph_network_multiple(adata,soft_graph, gene_sets)\n",
    "#out.show(\"test_graph.html\")"
   ]
  },
  {
   "cell_type": "markdown",
   "metadata": {
    "id": "mh8AAbEaoLAR"
   },
   "source": [
    "# Fitting the model without AnnData"
   ]
  },
  {
   "cell_type": "markdown",
   "metadata": {
    "id": "YFEGT4sXoLAR"
   },
   "source": [
    "Instead of passing an AnnData object to est_spectra one can pass np.ndarray objects directly. The **kwargs contains arguments to the training function, lr_schedule = [1.0,.5,.1,.01,.001,.0001],num_epochs = 10000, verbose = False. To do this, initialize a model:"
   ]
  },
  {
   "cell_type": "code",
   "execution_count": null,
   "metadata": {
    "id": "euTYx6aAoLAR"
   },
   "outputs": [],
   "source": [
    "adata"
   ]
  },
  {
   "cell_type": "code",
   "execution_count": null,
   "metadata": {
    "id": "Z_rYHoqxoLAR"
   },
   "outputs": [],
   "source": [
    "#define number of factors (only est_spectra has the option to automatically set the factor numbers per celltype)\n",
    "\n",
    "L = {}\n",
    "for key in annotations.keys():\n",
    "    length = len(list(annotations[key].values()))\n",
    "    L[key] = length + 1\n",
    "L"
   ]
  },
  {
   "cell_type": "code",
   "execution_count": null,
   "metadata": {
    "id": "1RMISQwXoLAR"
   },
   "outputs": [],
   "source": [
    "#get the genes you want to use (for simplicity we will copy from the adata above)\n",
    "vocab = list(adata.var_names)"
   ]
  },
  {
   "cell_type": "code",
   "execution_count": null,
   "metadata": {
    "id": "REIw9iILoLAR"
   },
   "outputs": [],
   "source": [
    "adata.X.todense().shape"
   ]
  },
  {
   "cell_type": "code",
   "execution_count": null,
   "metadata": {
    "id": "mQaXOMZ9oLAR"
   },
   "outputs": [],
   "source": [
    "len(vocab)"
   ]
  },
  {
   "cell_type": "code",
   "execution_count": null,
   "metadata": {
    "id": "hygEftx-oLAR"
   },
   "outputs": [],
   "source": [
    "model = spc.SPECTRA_Model(X = adata.X.todense(), L=L, labels = np.array(adata.obs['cell_type_annotations']),\n",
    "                          gs_dict = annotations,lam = 0.01, vocab=vocab, use_weights=True,\n",
    "                          delta=0.001,kappa = None, rho = 0.05,use_cell_types=True)\n",
    "model.train(X = adata.X.todense(), labels = np.array(adata.obs['cell_type_annotations']),\n",
    "            num_epochs=2) #we will only do 2 epochs here for demonstration purposes. We recommend 10,000 epochs for most datasets."
   ]
  },
  {
   "cell_type": "markdown",
   "metadata": {
    "id": "robqIkBMoLAR"
   },
   "source": [
    "It is also required to run the model this way if you want to input arbitrary adjacency matrices instead of a dictionary of gene sets. The gene set dictionary is used to create an adjacency matrix when it is not None."
   ]
  },
  {
   "cell_type": "code",
   "execution_count": null,
   "metadata": {
    "id": "XrAR585YoLAR"
   },
   "outputs": [],
   "source": [
    "#you will need the cell type containing model and vocab again --> for this tutorial we will retrain\n",
    "model = spc.est_spectra(adata = adata, gene_set_dictionary = annotations,\n",
    "                        use_highly_variable = True, cell_type_key = \"cell_type_annotations\",\n",
    "                        use_weights = True, lam = 0.1,\n",
    "                        delta=0.001,kappa = 0.00001, rho = 0.00001,\n",
    "                        use_cell_types = True, n_top_vals = 25,\n",
    "                        label_factors = True, #whether to label the factors by their overlap coefficient with the input gene sets\n",
    "                        overlap_threshold = 0.2, #minimum overlap coefficient that has to be surpassed to assign a label to a factor\n",
    "                        num_epochs=2 #for demonstration purposes we will only run 2 epochs, we recommend 10,000 epochs\n",
    "                       )"
   ]
  },
  {
   "cell_type": "code",
   "execution_count": null,
   "metadata": {
    "id": "3JEn6T8WoLAR"
   },
   "outputs": [],
   "source": [
    "#get an example adjacency matrix (the threshold should be properly determined based on the question)\n",
    "threshold = 0.15\n",
    "cell_types = list(set(adata.obs['cell_type_annotations'])) + ['global']\n",
    "adj_matrix = {cell_type : (model.return_graph(ct = cell_type) > threshold).astype(float) for cell_type in cell_types}\n",
    "adj_matrix"
   ]
  },
  {
   "cell_type": "code",
   "execution_count": null,
   "metadata": {
    "id": "_aXNwOr5oLAS"
   },
   "outputs": [],
   "source": [
    "dir(model)"
   ]
  },
  {
   "cell_type": "code",
   "execution_count": null,
   "metadata": {
    "id": "ncfbmjIsoLAS"
   },
   "outputs": [],
   "source": [
    "soft_graph"
   ]
  },
  {
   "cell_type": "code",
   "execution_count": null,
   "metadata": {
    "id": "pDcInKsWoLAS"
   },
   "outputs": [],
   "source": [
    "adata.X.todense().shape"
   ]
  },
  {
   "cell_type": "code",
   "execution_count": null,
   "metadata": {
    "id": "0c0IJt4qoLAS"
   },
   "outputs": [],
   "source": [
    "adata.var['spectra_vocab'].value_counts()"
   ]
  },
  {
   "cell_type": "code",
   "execution_count": null,
   "metadata": {
    "id": "NQW6Fv8woLAS"
   },
   "outputs": [],
   "source": [
    "#train model with adjacency matrix\n",
    "vocab = np.array(adata.var['spectra_vocab'][adata.var['spectra_vocab']].index)\n",
    "X = adata.X.todense().T[adata.var['spectra_vocab']].T\n",
    "\n",
    "model = spc.SPECTRA_Model(X = X, labels =  np.array(adata.obs['cell_type_annotations']),\n",
    "                          L = L, adj_matrix = adj_matrix, weights = None, lam = 0.01,  delta=0.001,kappa = None, rho = 0.05,\n",
    "                          use_cell_types = True)\n",
    "model.train(X = X, labels =  np.array(adata.obs['cell_type_annotations']),\n",
    "            num_epochs=2) #we will only do 2 epochs here for demonstration purposes. We recommend 10,000 epochs for most datasets.)\n",
    "\n"
   ]
  },
  {
   "cell_type": "code",
   "execution_count": null,
   "metadata": {
    "id": "5uFRmnQdoLAS"
   },
   "outputs": [],
   "source": []
  }
 ],
 "metadata": {
  "accelerator": "GPU",
  "colab": {
   "gpuType": "T4",
   "provenance": []
  },
  "kernelspec": {
   "display_name": "spectra_kernel",
   "language": "python",
   "name": "spectra_kernel"
  }
 },
 "nbformat": 4,
 "nbformat_minor": 0
}
