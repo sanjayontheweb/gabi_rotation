{
 "cells": [
  {
   "cell_type": "code",
   "execution_count": 1,
   "metadata": {},
   "outputs": [],
   "source": [
    "#import packages\n",
    "import numpy as np\n",
    "import json\n",
    "import scanpy as sc\n",
    "from collections import OrderedDict\n",
    "import scipy\n",
    "import pandas as pd\n",
    "import matplotlib.pyplot as plt\n",
    "import anndata as ad\n",
    "import pickle\n",
    "\n",
    "#To track memory\n",
    "import psutil\n",
    "import os\n",
    "\n",
    "#Run command line args\n",
    "import argparse\n",
    "\n",
    "\n",
    "#spectra imports\n",
    "import Spectra as spc\n",
    "from Spectra import Spectra_util as spc_tl\n",
    "from Spectra import K_est as kst\n",
    "from Spectra import default_gene_sets\n"
   ]
  },
  {
   "cell_type": "code",
   "execution_count": 2,
   "metadata": {},
   "outputs": [],
   "source": [
    "# #Pull the args\n",
    "# parser = argparse.ArgumentParser(description='Run SPECTRA analysis with subsampled cells')\n",
    "# parser.add_argument('--n_sample_cells', type=int, default=1000, \n",
    "#                     help='Number of cells to sample for SPECTRA analysis')\n",
    "\n",
    "# # Parse the arguments\n",
    "# args = parser.parse_args()"
   ]
  },
  {
   "cell_type": "markdown",
   "metadata": {},
   "source": [
    "# Formatting Gene Set Dictionary\n",
    "\n",
    "### Frankensteining SPECTRA's provided dictionary: We used this dictionary to generate the results in the paper: https://doi.org/10.1101/2022.12.20.521311\n",
    "\n",
    "### Options for custom gene_set: We supply the Cytopus knowledge base to construct custom input gene set dictionaries for Spectra. For a tutorial visit the github repository: https://github.com/wallet-maker/cytopus\n"
   ]
  },
  {
   "cell_type": "code",
   "execution_count": 3,
   "metadata": {},
   "outputs": [
    {
     "name": "stdout",
     "output_type": "stream",
     "text": [
      "Memory usage: 0.62 GB\n"
     ]
    }
   ],
   "source": [
    "#Check memory usage\n",
    "process = psutil.Process(os.getpid())\n",
    "print(f\"Memory usage: {process.memory_info().rss / 1024**3:.2f} GB\")"
   ]
  },
  {
   "cell_type": "code",
   "execution_count": 4,
   "metadata": {},
   "outputs": [
    {
     "data": {
      "text/plain": [
       "AnnData object with n_obs × n_vars = 261290 × 28683\n",
       "    obs: 'orig.ident', 'nCount_RNA', 'nFeature_RNA', 'doubletFinderScore', 'nCount_ADT', 'nFeature_ADT', 'percent.mt', 'percent.ribo', 'isotype_ctl_max', 'S.Score', 'G2M.Score', 'Phase', 'pool', 'batch', 'biospecimen', 'individual', 'subtype', 'disease_group', 'years_since_diagnosis', 'Age', 'Sex at Birth', 'sample_type', 'd_sample_type', 'location', 'cluster_label'\n",
       "    var: 'vst.mean', 'vst.variance', 'vst.variance.expected', 'vst.variance.standardized', 'vst.variable'\n",
       "    obsm: 'X_harmony', 'X_pca', 'X_umap'\n",
       "    varm: 'HARMONY', 'PCs'"
      ]
     },
     "execution_count": 4,
     "metadata": {},
     "output_type": "execute_result"
    }
   ],
   "source": [
    "#Load skin dataset\n",
    "\n",
    "skin_data = sc.read_h5ad('/krummellab/data1/DSCoLab/AUTOIPI/papers/skin/data/DB3_54/harmony/sobj_01-13-25.h5ad')\n",
    "skin_data"
   ]
  },
  {
   "cell_type": "code",
   "execution_count": 13,
   "metadata": {},
   "outputs": [],
   "source": [
    "#Add the SPECTRA mapping Emily created\n",
    "mapping_df = pd.read_csv('~/gabi_rotation/skin_immune_mapping.csv')\n",
    "spectra_mapping = dict(zip(mapping_df['cell_id'], mapping_df['spectra_annot']))\n",
    "\n",
    "skin_data.obs['spectra_annotation'] = skin_data.obs.index.map(spectra_mapping)\n",
    "\n",
    "skin_data.obs['combined_annotation'] = skin_data.obs['spectra_annotation'].fillna(skin_data.obs['cluster_label'])\n",
    "\n",
    "skin_cats = set(skin_data.obs['combined_annotation'])"
   ]
  },
  {
   "cell_type": "code",
   "execution_count": 14,
   "metadata": {},
   "outputs": [
    {
     "data": {
      "text/plain": [
       "{'B_memory',\n",
       " 'CD4_T',\n",
       " 'CD8_T',\n",
       " 'DC',\n",
       " 'Endothelial Cells',\n",
       " 'Fibroblasts',\n",
       " 'Keratinocytes',\n",
       " 'MDC',\n",
       " 'Melanocytes',\n",
       " 'NK',\n",
       " 'Schwann Cells',\n",
       " 'Smooth Muscle Cells',\n",
       " 'T',\n",
       " 'Treg',\n",
       " 'pDC'}"
      ]
     },
     "execution_count": 14,
     "metadata": {},
     "output_type": "execute_result"
    }
   ],
   "source": [
    "skin_cats"
   ]
  },
  {
   "cell_type": "code",
   "execution_count": 16,
   "metadata": {},
   "outputs": [
    {
     "name": "stdout",
     "output_type": "stream",
     "text": [
      "/c4/home/sanjayr\n"
     ]
    }
   ],
   "source": [
    "!pwd"
   ]
  },
  {
   "cell_type": "code",
   "execution_count": 32,
   "metadata": {},
   "outputs": [],
   "source": [
    "# load the default gene set dictionary from the Spectra paper:\n",
    "jpath = '/c4/home/sanjayr/gabi_rotation/Spectra_dict.json'\n",
    "f = open(jpath, 'r')\n",
    "annotations = json.loads(f.read())\n",
    "\n",
    "#Create a new nested dictionary to exactly match our gene set\n",
    "skin_gene_set = {}\n",
    "\n",
    "# Add existing valid keys and their values\n",
    "for key in annotations:\n",
    "    if key in skin_cats:\n",
    "        skin_gene_set[key] = annotations[key]\n",
    "\n",
    "# Add missing keys with empty dictionaries\n",
    "for key in skin_cats:\n",
    "    if key not in skin_gene_set:\n",
    "        skin_gene_set[key] = {}\n",
    "\n",
    "skin_gene_set['global'] = annotations['global']"
   ]
  },
  {
   "cell_type": "code",
   "execution_count": 35,
   "metadata": {},
   "outputs": [
    {
     "name": "stdout",
     "output_type": "stream",
     "text": [
      "key: B_memory\n",
      " Length: 4\n",
      "key: CD4_T\n",
      " Length: 9\n",
      "key: CD8_T\n",
      " Length: 7\n",
      "key: DC\n",
      " Length: 3\n",
      "key: MDC\n",
      " Length: 7\n",
      "key: NK\n",
      " Length: 5\n",
      "key: Treg\n",
      " Length: 1\n",
      "key: pDC\n",
      " Length: 3\n",
      "key: Fibroblasts\n",
      " Length: 7\n",
      "key: Endothelial Cells\n",
      " Length: 2\n",
      "key: Melanocytes\n",
      " Length: 0\n",
      "key: Schwann Cells\n",
      " Length: 0\n",
      "key: Smooth Muscle Cells\n",
      " Length: 0\n",
      "key: T\n",
      " Length: 0\n",
      "key: Keratinocytes\n",
      " Length: 0\n",
      "key: global\n",
      " Length: 150\n"
     ]
    },
    {
     "data": {
      "text/plain": [
       "198"
      ]
     },
     "execution_count": 35,
     "metadata": {},
     "output_type": "execute_result"
    }
   ],
   "source": [
    "for key in skin_gene_set.keys():\n",
    "    print(f'key: {key}\\n Length: {len(skin_gene_set[key])}')\n",
    "\n",
    "sum([len(value) for key, value in skin_gene_set.items()])"
   ]
  },
  {
   "cell_type": "code",
   "execution_count": 21,
   "metadata": {},
   "outputs": [
    {
     "name": "stdout",
     "output_type": "stream",
     "text": [
      "Cell type labels in gene set annotation dictionary and AnnData object are identical\n",
      "Your gene set annotation dictionary is now correctly formatted.\n"
     ]
    }
   ],
   "source": [
    "skin_gene_set = spc_tl.check_gene_set_dictionary(\n",
    "    skin_data,\n",
    "    skin_gene_set,\n",
    "    obs_key='combined_annotation',\n",
    "    global_key='global'\n",
    ")"
   ]
  },
  {
   "cell_type": "code",
   "execution_count": 10,
   "metadata": {},
   "outputs": [
    {
     "name": "stdout",
     "output_type": "stream",
     "text": [
      "Memory usage: 10.20 GB\n"
     ]
    }
   ],
   "source": [
    "#Check memory usage\n",
    "process = psutil.Process(os.getpid())\n",
    "print(f\"Memory usage: {process.memory_info().rss / 1024**3:.2f} GB\")"
   ]
  },
  {
   "cell_type": "markdown",
   "metadata": {},
   "source": [
    "# Create var for highly_variable genes"
   ]
  },
  {
   "cell_type": "code",
   "execution_count": 11,
   "metadata": {},
   "outputs": [],
   "source": [
    "#Create boolean mask for top 3000 highly variable genes\n",
    "\n",
    "n_variable_genes = 3000\n",
    "\n",
    "most_var_genes = set(skin_data.var['vst.variance'].sort_values(ascending=False)[:n_variable_genes].index)\n",
    "skin_data.var['highly_variable'] = skin_data.var.index.isin(most_var_genes)"
   ]
  },
  {
   "cell_type": "markdown",
   "metadata": {},
   "source": [
    "# Fit SPECTRA model (scaled down)"
   ]
  },
  {
   "cell_type": "code",
   "execution_count": 12,
   "metadata": {},
   "outputs": [
    {
     "name": "stdout",
     "output_type": "stream",
     "text": [
      "Cell type labels in gene set annotation dictionary and AnnData object are identical\n",
      "Your gene set annotation dictionary is now correctly formatted.\n"
     ]
    }
   ],
   "source": [
    "#Subsample the skin_data cells\n",
    "\n",
    "n_sample_cells = 1000\n",
    "skin_data_sample = sc.pp.subsample(skin_data, n_obs=n_sample_cells, copy=True, random_state=42)\n",
    "\n",
    "skin_gene_set = spc_tl.check_gene_set_dictionary(\n",
    "    skin_data_sample,\n",
    "    skin_gene_set,\n",
    "    obs_key='combined_annotation',\n",
    "    global_key='global'\n",
    ")"
   ]
  },
  {
   "cell_type": "code",
   "execution_count": 13,
   "metadata": {},
   "outputs": [
    {
     "name": "stdout",
     "output_type": "stream",
     "text": [
      "Cell type labels in gene set annotation dictionary and AnnData object are identical\n",
      "Your gene set annotation dictionary is now correctly formatted.\n"
     ]
    },
    {
     "name": "stderr",
     "output_type": "stream",
     "text": [
      "100%|████████████████████████████████████████████████████████████████████████████████████| 2/2 [00:46<00:00, 23.05s/it]\n"
     ]
    }
   ],
   "source": [
    "eigen_gene_factors = None\n",
    "with open('gabi_rotation/factor_estimate.pkl', 'rb') as f:\n",
    "    eigen_gene_factors = pickle.load(f)\n",
    "        \n",
    "n_epochs = 2\n",
    "\n",
    "model = spc.est_spectra(adata=skin_data_sample,\n",
    "    gene_set_dictionary=skin_gene_set,\n",
    "    use_highly_variable=True,\n",
    "    cell_type_key=\"combined_annotation\",\n",
    "    L = eigen_gene_factors,\n",
    "    use_weights=True,\n",
    "    lam=0.1, # varies depending on data and gene sets, try between 0.5 and 0.001\n",
    "    delta=0.001,\n",
    "    kappa=None,\n",
    "    rho=0.001,\n",
    "    use_cell_types=True,\n",
    "    n_top_vals=50,\n",
    "    label_factors=True,\n",
    "    overlap_threshold=0.2,\n",
    "    clean_gs = True,\n",
    "    min_gs_num = 3,\n",
    "    num_epochs=n_epochs #here running only 2 epochs for time reasons, we recommend 10,000 epochs for most datasets\n",
    ")"
   ]
  },
  {
   "cell_type": "code",
   "execution_count": 23,
   "metadata": {},
   "outputs": [
    {
     "data": {
      "text/plain": [
       "array([[4.20382391e-05, 1.29154437e-06, 8.53013659e-06, ...,\n",
       "        0.00000000e+00, 0.00000000e+00, 0.00000000e+00],\n",
       "       [7.21752870e-06, 1.28752579e-06, 2.76567002e-05, ...,\n",
       "        0.00000000e+00, 0.00000000e+00, 0.00000000e+00],\n",
       "       [4.46070085e-06, 1.90925682e-06, 1.64054960e-05, ...,\n",
       "        0.00000000e+00, 0.00000000e+00, 0.00000000e+00],\n",
       "       ...,\n",
       "       [1.75627428e-04, 5.87940113e-06, 8.52831227e-06, ...,\n",
       "        0.00000000e+00, 0.00000000e+00, 0.00000000e+00],\n",
       "       [1.38056593e-05, 3.30769064e-06, 3.45998157e-06, ...,\n",
       "        0.00000000e+00, 0.00000000e+00, 0.00000000e+00],\n",
       "       [7.19536061e-06, 8.07745161e-06, 1.48886415e-06, ...,\n",
       "        0.00000000e+00, 0.00000000e+00, 0.00000000e+00]])"
      ]
     },
     "execution_count": 23,
     "metadata": {},
     "output_type": "execute_result"
    }
   ],
   "source": [
    "skin_data_sample.obsm['SPECTRA_cell_scores']"
   ]
  },
  {
   "cell_type": "code",
   "execution_count": 42,
   "metadata": {},
   "outputs": [
    {
     "name": "stdout",
     "output_type": "stream",
     "text": [
      "Memory usage: 31.14 GB\n"
     ]
    }
   ],
   "source": [
    "#Check memory usage\n",
    "process = psutil.Process(os.getpid())\n",
    "print(f\"Memory usage: {process.memory_info().rss / 1024**3:.2f} GB\")"
   ]
  },
  {
   "cell_type": "code",
   "execution_count": 44,
   "metadata": {},
   "outputs": [],
   "source": [
    "#save the model uncompressed format\n",
    "with open(f'gabi_rotation/models/skin_model_{n_sample_cells}.pickle', 'wb') as f:\n",
    "    pickle.dump(model, f, pickle.HIGHEST_PROTOCOL)"
   ]
  },
  {
   "cell_type": "code",
   "execution_count": null,
   "metadata": {},
   "outputs": [],
   "source": [
    "#save the adtaa uncompressed format\n",
    "with open(f'gabi_rotation/models/skin_adata_{n_sample_cells}.pickle', 'wb') as f:\n",
    "    pickle.dump(skin_data, f, pickle.HIGHEST_PROTOCOL)"
   ]
  },
  {
   "cell_type": "markdown",
   "metadata": {},
   "source": [
    "# LOAD SPECTRA Model"
   ]
  },
  {
   "cell_type": "code",
   "execution_count": null,
   "metadata": {},
   "outputs": [],
   "source": [
    "#and load it like this:\n",
    "with open(f'gabi_rotation/models/skin_model_{n_sample_cells}.pickle', 'rb') as f:\n",
    "    model = pickle.load(f)"
   ]
  }
 ],
 "metadata": {
  "kernelspec": {
   "display_name": "spectra_kernel",
   "language": "python",
   "name": "spectra_kernel"
  }
 },
 "nbformat": 4,
 "nbformat_minor": 2
}
